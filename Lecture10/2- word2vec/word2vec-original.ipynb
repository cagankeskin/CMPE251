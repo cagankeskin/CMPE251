{
 "cells": [
  {
   "cell_type": "code",
   "execution_count": 1,
   "metadata": {},
   "outputs": [],
   "source": [
    "import numpy as np\n",
    "from gensim.models import Word2Vec\n",
    "from sklearn.manifold import TSNE\n",
    "import matplotlib.pyplot as plt"
   ]
  },
  {
   "cell_type": "code",
   "execution_count": 2,
   "metadata": {},
   "outputs": [],
   "source": [
    "f = open('hurriyet.txt', 'r', encoding='utf8')\n",
    "text = f.read()\n",
    "t_list = text.split('\\n')\n",
    "\n",
    "corpus = []\n",
    "\n",
    "for cumle in t_list:\n",
    "    corpus.append(cumle.split())"
   ]
  },
  {
   "cell_type": "code",
   "execution_count": 3,
   "metadata": {},
   "outputs": [
    {
     "data": {
      "text/plain": [
       "['gösterilerde',\n",
       " 'fitnecilere',\n",
       " 'ölüm',\n",
       " 'münafıklara',\n",
       " 'ölüm',\n",
       " 'abd',\n",
       " 'ye',\n",
       " 'ölüm',\n",
       " 'ingiltere',\n",
       " 'ye',\n",
       " 'ölüm',\n",
       " 'sloganları',\n",
       " 'atıldı']"
      ]
     },
     "execution_count": 3,
     "metadata": {},
     "output_type": "execute_result"
    }
   ],
   "source": [
    "corpus[1]"
   ]
  },
  {
   "cell_type": "code",
   "execution_count": 4,
   "metadata": {},
   "outputs": [
    {
     "data": {
      "text/plain": [
       "['dini',\n",
       " 'lider',\n",
       " 'ali',\n",
       " 'hamaney',\n",
       " 've',\n",
       " 'cumhurbaşkanı',\n",
       " 'mahmud',\n",
       " 'ahmedinejad',\n",
       " 'ı',\n",
       " 'destekleyen',\n",
       " 'iranlılar',\n",
       " 'son',\n",
       " 'olaylarda',\n",
       " 'yeğeni',\n",
       " 'öldürülen',\n",
       " 'mir',\n",
       " 'hüseyin',\n",
       " 'musevi',\n",
       " 'başta',\n",
       " 'olmak',\n",
       " 'üzere',\n",
       " 'muhalefet',\n",
       " 'liderlerini',\n",
       " 'kınadılar']"
      ]
     },
     "execution_count": 4,
     "metadata": {},
     "output_type": "execute_result"
    }
   ],
   "source": [
    "corpus[2]"
   ]
  },
  {
   "cell_type": "code",
   "execution_count": 5,
   "metadata": {},
   "outputs": [
    {
     "data": {
      "text/plain": [
       "['musevi', 'ye', 'ölüm', 've', 'idam', 'idam', 'sloganları', 'duyuldu']"
      ]
     },
     "execution_count": 5,
     "metadata": {},
     "output_type": "execute_result"
    }
   ],
   "source": [
    "corpus[3]"
   ]
  },
  {
   "cell_type": "code",
   "execution_count": 7,
   "metadata": {},
   "outputs": [],
   "source": [
    "# KElime vektorleri 100 uzunlugunda\n",
    "# merkezdeki kelimenin sag ve solunda +5,-5 kelimeye bakiyor\n",
    "# min_count=5 nadir kelimeleri ele\n",
    "# sg=1 skip-gram\n",
    "\n",
    "model = Word2Vec(corpus, size=100, window=5, min_count=5, sg=1)"
   ]
  },
  {
   "cell_type": "code",
   "execution_count": 8,
   "metadata": {},
   "outputs": [
    {
     "data": {
      "text/plain": [
       "array([ 6.23503961e-02, -7.90302455e-02, -1.93952978e-01, -1.47304356e-01,\n",
       "        8.43070626e-01, -6.55275118e-03, -3.23437840e-01,  2.13758573e-02,\n",
       "        5.89604795e-01,  8.22912827e-02, -2.24978179e-01, -3.44423383e-01,\n",
       "       -7.05383569e-02, -4.00416493e-01,  2.23325461e-01,  1.35895982e-01,\n",
       "        2.63318539e-01, -2.43356407e-01, -1.80563599e-01, -1.69475958e-01,\n",
       "       -3.23115140e-01,  3.64591628e-01, -4.03618038e-01,  2.31902301e-01,\n",
       "       -1.46229044e-01, -3.99429739e-01, -4.76835892e-02, -1.73669323e-01,\n",
       "       -4.81626272e-01,  2.36328170e-01,  7.86209881e-01, -2.12706327e-02,\n",
       "        4.86473083e-01, -1.66113809e-01,  4.97678407e-02, -1.20054744e-01,\n",
       "       -4.64968741e-01,  5.05252481e-01,  3.55833173e-01,  1.97580099e-01,\n",
       "       -2.66714483e-01, -1.58404037e-01,  3.09939474e-01, -1.99972168e-01,\n",
       "       -1.15878558e+00,  1.08389761e-02, -3.48166116e-02, -8.35127309e-02,\n",
       "        7.30371058e-01,  4.00890827e-01,  1.11999447e-02, -5.64945161e-01,\n",
       "        2.98885912e-01, -2.36387298e-01,  5.08115403e-02,  1.30776972e-01,\n",
       "        3.77072483e-01,  1.74479485e-01,  7.98506755e-03,  8.23942944e-02,\n",
       "       -2.73150474e-01,  3.86382379e-02, -3.18584859e-01,  1.63956266e-02,\n",
       "       -4.65912700e-01,  6.56834483e-01, -9.18234757e-04,  6.10991597e-01,\n",
       "       -1.57718405e-01, -3.35961729e-01, -4.81395237e-02, -5.32731451e-02,\n",
       "       -1.70391172e-01,  1.92548275e-01,  2.56511390e-01,  7.07986131e-02,\n",
       "       -2.50477940e-01,  3.03367555e-01, -3.39637488e-01, -3.79185796e-01,\n",
       "       -1.43565312e-01,  3.72138888e-01,  1.38361230e-01, -6.64409041e-01,\n",
       "        5.23579061e-01, -3.12108576e-01,  1.45745233e-01, -1.10707141e-01,\n",
       "        1.00452095e-01, -6.75548732e-01,  4.14743274e-02, -1.00570455e-01,\n",
       "       -5.06598473e-01, -7.92622939e-02, -3.90208215e-01, -2.40822345e-01,\n",
       "       -1.02158837e-01,  4.81688939e-02, -3.71210784e-01,  6.20020449e-01],\n",
       "      dtype=float32)"
      ]
     },
     "execution_count": 8,
     "metadata": {},
     "output_type": "execute_result"
    }
   ],
   "source": [
    "model.wv['ankara']"
   ]
  },
  {
   "cell_type": "code",
   "execution_count": 9,
   "metadata": {},
   "outputs": [
    {
     "data": {
      "text/plain": [
       "[('twitter', 0.7543126344680786),\n",
       " ('facebook', 0.7330607175827026),\n",
       " ('whatsapp', 0.7320181131362915),\n",
       " ('paylaşım', 0.7231199741363525),\n",
       " ('twıtter', 0.7213077545166016),\n",
       " ('internete', 0.7190455198287964),\n",
       " ('sitelerine', 0.6985442638397217),\n",
       " ('video', 0.6880125403404236),\n",
       " ('sayfasına', 0.6814849376678467),\n",
       " ('sitelere', 0.6756142377853394)]"
      ]
     },
     "execution_count": 9,
     "metadata": {},
     "output_type": "execute_result"
    }
   ],
   "source": [
    "model.wv.most_similar('youtube')"
   ]
  },
  {
   "cell_type": "markdown",
   "metadata": {},
   "source": [
    "# Modeli kaydetmek"
   ]
  },
  {
   "cell_type": "code",
   "execution_count": 10,
   "metadata": {},
   "outputs": [],
   "source": [
    "model.save('word2vec.model')"
   ]
  },
  {
   "cell_type": "code",
   "execution_count": 11,
   "metadata": {},
   "outputs": [],
   "source": [
    "model = Word2Vec.load('word2vec.model')"
   ]
  },
  {
   "cell_type": "code",
   "execution_count": 9,
   "metadata": {},
   "outputs": [],
   "source": [
    "def closestwords_tsneplot(model, word):\n",
    "    word_vectors = np.empty((0,100))\n",
    "    word_labels = [word]\n",
    "    \n",
    "    close_words = model.wv.most_similar(word)\n",
    "    \n",
    "    word_vectors = np.append(word_vectors, np.array([model.wv[word]]), axis=0)\n",
    "    \n",
    "    for w, _ in close_words:\n",
    "        word_labels.append(w)\n",
    "        word_vectors = np.append(word_vectors, np.array([model.wv[w]]), axis=0)\n",
    "        \n",
    "    tsne = TSNE(random_state=0)\n",
    "    Y = tsne.fit_transform(word_vectors)\n",
    "    \n",
    "    x_coords = Y[:, 0]\n",
    "    y_coords = Y[:, 1]\n",
    "    \n",
    "    plt.scatter(x_coords, y_coords)\n",
    "    \n",
    "    for label, x, y in zip(word_labels, x_coords, y_coords):\n",
    "        plt.annotate(label, xy=(x, y), xytext=(5, -2), textcoords='offset points')\n",
    "        \n",
    "    plt.show()"
   ]
  },
  {
   "cell_type": "code",
   "execution_count": 10,
   "metadata": {},
   "outputs": [
    {
     "data": {
      "image/png": "[encoded data removed]",
      "text/plain": [
       "<matplotlib.figure.Figure at 0x10e3ef588>"
      ]
     },
     "metadata": {},
     "output_type": "display_data"
    }
   ],
   "source": [
    "closestwords_tsneplot(model, 'mu')"
   ]
  },
  {
   "cell_type": "code",
   "execution_count": 11,
   "metadata": {},
   "outputs": [
    {
     "data": {
      "image/png": "[encoded data removed]",
      "text/plain": [
       "<matplotlib.figure.Figure at 0x1a52668f60>"
      ]
     },
     "metadata": {},
     "output_type": "display_data"
    }
   ],
   "source": [
    "closestwords_tsneplot(model, 'uzay')"
   ]
  },
  {
   "cell_type": "code",
   "execution_count": 12,
   "metadata": {},
   "outputs": [
    {
     "data": {
      "image/png": "[encoded data removed]",
      "text/plain": [
       "<matplotlib.figure.Figure at 0x1a52668e48>"
      ]
     },
     "metadata": {},
     "output_type": "display_data"
    }
   ],
   "source": [
    "closestwords_tsneplot(model, 'erkek')"
   ]
  },
  {
   "cell_type": "code",
   "execution_count": 13,
   "metadata": {},
   "outputs": [
    {
     "data": {
      "image/png": "[encoded data removed]",
      "text/plain": [
       "<matplotlib.figure.Figure at 0x1a5a2b10b8>"
      ]
     },
     "metadata": {},
     "output_type": "display_data"
    }
   ],
   "source": [
    "closestwords_tsneplot(model, 'pazartesi')"
   ]
  },
  {
   "cell_type": "code",
   "execution_count": 14,
   "metadata": {},
   "outputs": [
    {
     "data": {
      "image/png": "[encoded data removed]",
      "text/plain": [
       "<matplotlib.figure.Figure at 0x1a51932400>"
      ]
     },
     "metadata": {},
     "output_type": "display_data"
    }
   ],
   "source": [
    "closestwords_tsneplot(model, 'kasım')"
   ]
  },
  {
   "cell_type": "code",
   "execution_count": 15,
   "metadata": {},
   "outputs": [
    {
     "name": "stderr",
     "output_type": "stream",
     "text": [
      "/anaconda3/lib/python3.6/site-packages/ipykernel_launcher.py:1: DeprecationWarning: Call to deprecated `most_similar` (Method will be removed in 4.0.0, use self.wv.most_similar() instead).\n",
      "  \"\"\"Entry point for launching an IPython kernel.\n"
     ]
    },
    {
     "data": {
      "text/plain": [
       "[('yarın', 0.7314040660858154)]"
      ]
     },
     "execution_count": 15,
     "metadata": {},
     "output_type": "execute_result"
    }
   ],
   "source": [
    "model.most_similar(positive=['akşam', 'bugün'], negative=['sabah'], topn=1)"
   ]
  },
  {
   "cell_type": "code",
   "execution_count": 16,
   "metadata": {},
   "outputs": [
    {
     "name": "stderr",
     "output_type": "stream",
     "text": [
      "/anaconda3/lib/python3.6/site-packages/ipykernel_launcher.py:1: DeprecationWarning: Call to deprecated `most_similar` (Method will be removed in 4.0.0, use self.wv.most_similar() instead).\n",
      "  \"\"\"Entry point for launching an IPython kernel.\n"
     ]
    },
    {
     "data": {
      "text/plain": [
       "[('önce', 0.715567409992218)]"
      ]
     },
     "execution_count": 16,
     "metadata": {},
     "output_type": "execute_result"
    }
   ],
   "source": [
    "model.most_similar(positive=['akşam', 'sonra'], negative=['sabah'], topn=1)"
   ]
  },
  {
   "cell_type": "code",
   "execution_count": 17,
   "metadata": {},
   "outputs": [
    {
     "name": "stderr",
     "output_type": "stream",
     "text": [
      "/anaconda3/lib/python3.6/site-packages/ipykernel_launcher.py:1: DeprecationWarning: Call to deprecated `most_similar` (Method will be removed in 4.0.0, use self.wv.most_similar() instead).\n",
      "  \"\"\"Entry point for launching an IPython kernel.\n"
     ]
    },
    {
     "data": {
      "text/plain": [
       "[('babası', 0.6592650413513184),\n",
       " ('annesi', 0.6421787738800049),\n",
       " ('babasını', 0.6320700645446777),\n",
       " ('ablası', 0.6252815127372742),\n",
       " ('kızı', 0.5991469025611877)]"
      ]
     },
     "execution_count": 17,
     "metadata": {},
     "output_type": "execute_result"
    }
   ],
   "source": [
    "model.most_similar(positive=['anne', 'baba'], negative=['kadın'], topn=5)"
   ]
  },
  {
   "cell_type": "code",
   "execution_count": 18,
   "metadata": {},
   "outputs": [
    {
     "name": "stderr",
     "output_type": "stream",
     "text": [
      "/anaconda3/lib/python3.6/site-packages/ipykernel_launcher.py:1: DeprecationWarning: Call to deprecated `most_similar` (Method will be removed in 4.0.0, use self.wv.most_similar() instead).\n",
      "  \"\"\"Entry point for launching an IPython kernel.\n"
     ]
    },
    {
     "data": {
      "text/plain": [
       "[('suçsuz', 0.6093930006027222)]"
      ]
     },
     "execution_count": 18,
     "metadata": {},
     "output_type": "execute_result"
    }
   ],
   "source": [
    "model.most_similar(positive=['iyi', 'suçlu'], negative=['kötü'], topn=1)"
   ]
  },
  {
   "cell_type": "code",
   "execution_count": null,
   "metadata": {},
   "outputs": [],
   "source": []
  }
 ],
 "metadata": {
  "kernelspec": {
   "display_name": "Python 3",
   "language": "python",
   "name": "python3"
  },
  "language_info": {
   "codemirror_mode": {
    "name": "ipython",
    "version": 3
   },
   "file_extension": ".py",
   "mimetype": "text/x-python",
   "name": "python",
   "nbconvert_exporter": "python",
   "pygments_lexer": "ipython3",
   "version": "3.6.4"
  }
 },
 "nbformat": 4,
 "nbformat_minor": 2
}
