{
 "cells": [
  {
   "cell_type": "markdown",
   "metadata": {},
   "source": [
    "# Simple Anomaly Detector\n",
    "![resim.png](resim.png)"
   ]
  },
  {
   "cell_type": "code",
   "execution_count": 37,
   "metadata": {},
   "outputs": [],
   "source": [
    "# Importing the libraries\n",
    "import numpy as np\n",
    "import matplotlib.pyplot as plt\n",
    "import pandas as pd\n",
    "import seaborn as sns\n",
    "plt.style.use('ggplot')\n",
    "import scipy.stats\n",
    "\n",
    "\n",
    "class simpleAnomalyDetector():\n",
    "    \"\"\"\n",
    "    USAGE\n",
    "    \n",
    "    calorieIntake = np.array([\n",
    "          [[100,20000],[300,400],[500,500]],\n",
    "          [[200,200],[200,200],[500,600]],\n",
    "          [[100,0],[100,0],[500,600]],\n",
    "          [[1000,0],[1000,0],[2000,0]],\n",
    "          [[100,100],[100,100],[500,500]],\n",
    "          [[200,200],[200,200],[500,500]],\n",
    "          [[400,300],[200,100],[500,500]]\n",
    "         ])\n",
    "    print(\"\\n\\nToy data: calorieIntake\")\n",
    "    print(calorieIntake)\n",
    "\n",
    "    # Learn Model Parameters\n",
    "    model = simpleAnomalyDetector()\n",
    "    model.fit(calorieIntake)\n",
    "\n",
    "    # Show Data\n",
    "    print(\"\\n\\n# Learn Model Parameters \\n# Show Data\")\n",
    "    print(model.df)\n",
    "\n",
    "    # Create a test case\n",
    "    print(\"\\n\\n# Create a test case\")\n",
    "    x_test = np.array([[1000,400],[200,200],[500,500]])\n",
    "    print(x_test)\n",
    "\n",
    "    # For a given time r and event c, show test value\n",
    "    r, c = 0,1\n",
    "    val = x_test[r, c]\n",
    "    print(\"\\n\\n# For a given time r = {} and event c = {}, show test value\".format(r,c))\n",
    "    print(val)\n",
    "\n",
    "    # Previously known data on that time r and event c\n",
    "    feature_size = x_test.shape[1]\n",
    "    idx = r*feature_size + c\n",
    "    print(\"\\n\\n# Previously known data on that time r = {} and event c= {}\".format(r,c))\n",
    "    print(\"# Look column {} of the dataframe\".format(idx))\n",
    "    print(model.df[idx])\n",
    "\n",
    "    ## Normal\n",
    "    x_test[r,c] = 500\n",
    "    print(\"\\n\\nPrediction for {}\".format(x_test[r,c]))\n",
    "    print(model.predict(test_matrix = x_test, row = r, col= c))\n",
    "\n",
    "\n",
    "    ## Normal\n",
    "    x_test[r,c] = 5000\n",
    "    print(\"\\n\\nPrediction for {}\".format(x_test[r,c]))\n",
    "    print(model.predict(test_matrix = x_test, row = r, col= c))\n",
    "\n",
    "\n",
    "    ## Anomaly\n",
    "    x_test[r,c] = 50000\n",
    "    print(\"\\n\\nPrediction for {}\".format(x_test[r,c]))\n",
    "    print(model.predict(test_matrix = x_test, row = r, col= c))\n",
    "    \"\"\"\n",
    "    def fit(self, data):\n",
    "        \"\"\"Read 3 dimensional array, first dimension is day, sample * features\"\"\"\n",
    "        data = data.flatten().reshape(data.shape[0], data.shape[1] * data.shape[2])\n",
    "        self.df = pd.DataFrame(data)\n",
    "        \n",
    "        # Learn parameters - central tendency and stdandard deviation\n",
    "        self.means = self.df.mean()\n",
    "        self.stds = self.df.std()\n",
    "    \n",
    "    def predict(self, test_matrix, row, col):\n",
    "        feature_size = test_matrix.shape[1]\n",
    "        idx = row*feature_size + col\n",
    "        \n",
    "        mu = self.means[idx]\n",
    "        sigma = self.stds[idx]\n",
    "        val = test_matrix[row,col]\n",
    "        \n",
    "        return np.abs(val - mu) > 3 * sigma, mu, sigma\n",
    "         "
   ]
  },
  {
   "cell_type": "markdown",
   "metadata": {},
   "source": [
    "## Try on Toy Data"
   ]
  },
  {
   "cell_type": "code",
   "execution_count": 38,
   "metadata": {},
   "outputs": [
    {
     "name": "stdout",
     "output_type": "stream",
     "text": [
      "\n",
      "\n",
      "Toy data: calorieIntake\n",
      "[[[  100 20000]\n",
      "  [  300   400]\n",
      "  [  500   500]]\n",
      "\n",
      " [[  200   200]\n",
      "  [  200   200]\n",
      "  [  500   600]]\n",
      "\n",
      " [[  100     0]\n",
      "  [  100     0]\n",
      "  [  500   600]]\n",
      "\n",
      " [[ 1000     0]\n",
      "  [ 1000     0]\n",
      "  [ 2000     0]]\n",
      "\n",
      " [[  100   100]\n",
      "  [  100   100]\n",
      "  [  500   500]]\n",
      "\n",
      " [[  200   200]\n",
      "  [  200   200]\n",
      "  [  500   500]]\n",
      "\n",
      " [[  400   300]\n",
      "  [  200   100]\n",
      "  [  500   500]]]\n",
      "\n",
      "\n",
      "# Learn Model Parameters \n",
      "# Show Data\n",
      "      0      1     2    3     4    5\n",
      "0   100  20000   300  400   500  500\n",
      "1   200    200   200  200   500  600\n",
      "2   100      0   100    0   500  600\n",
      "3  1000      0  1000    0  2000    0\n",
      "4   100    100   100  100   500  500\n",
      "5   200    200   200  200   500  500\n",
      "6   400    300   200  100   500  500\n",
      "\n",
      "\n",
      "# Create a test case\n",
      "[[1000  400]\n",
      " [ 200  200]\n",
      " [ 500  500]]\n",
      "\n",
      "\n",
      "# For a given time r = 0 and event c = 1, show test value\n",
      "400\n",
      "\n",
      "\n",
      "# Previously known data on that time r = 0 and event c= 1\n",
      "# Look column 1 of the dataframe\n",
      "0    20000\n",
      "1      200\n",
      "2        0\n",
      "3        0\n",
      "4      100\n",
      "5      200\n",
      "6      300\n",
      "Name: 1, dtype: int64\n",
      "\n",
      "\n",
      "Prediction for 500\n",
      "(False, 2971.4285714285716, 7509.7080026932)\n",
      "\n",
      "\n",
      "Prediction for 5000\n",
      "(False, 2971.4285714285716, 7509.7080026932)\n",
      "\n",
      "\n",
      "Prediction for 50000\n",
      "(True, 2971.4285714285716, 7509.7080026932)\n"
     ]
    }
   ],
   "source": [
    "calorieIntake = np.array([\n",
    "          [[100,20000],[300,400],[500,500]],\n",
    "          [[200,200],[200,200],[500,600]],\n",
    "          [[100,0],[100,0],[500,600]],\n",
    "          [[1000,0],[1000,0],[2000,0]],\n",
    "          [[100,100],[100,100],[500,500]],\n",
    "          [[200,200],[200,200],[500,500]],\n",
    "          [[400,300],[200,100],[500,500]]\n",
    "         ])\n",
    "print(\"\\n\\nToy data: calorieIntake\")\n",
    "print(calorieIntake)\n",
    "\n",
    "# Learn Model Parameters\n",
    "model = simpleAnomalyDetector()\n",
    "model.fit(calorieIntake)\n",
    "\n",
    "# Show Data\n",
    "print(\"\\n\\n# Learn Model Parameters \\n# Show Data\")\n",
    "print(model.df)\n",
    "\n",
    "# Create a test case\n",
    "print(\"\\n\\n# Create a test case\")\n",
    "x_test = np.array([[1000,400],[200,200],[500,500]])\n",
    "print(x_test)\n",
    "\n",
    "# For a given time r and event c, show test value\n",
    "r, c = 0,1\n",
    "val = x_test[r, c]\n",
    "print(\"\\n\\n# For a given time r = {} and event c = {}, show test value\".format(r,c))\n",
    "print(val)\n",
    "\n",
    "# Previously known data on that time r and event c\n",
    "feature_size = x_test.shape[1]\n",
    "idx = r*feature_size + c\n",
    "print(\"\\n\\n# Previously known data on that time r = {} and event c= {}\".format(r,c))\n",
    "print(\"# Look column {} of the dataframe\".format(idx))\n",
    "print(model.df[idx])\n",
    "\n",
    "## Normal\n",
    "x_test[r,c] = 500\n",
    "print(\"\\n\\nPrediction for {}\".format(x_test[r,c]))\n",
    "print(model.predict(test_matrix = x_test, row = r, col= c))\n",
    "\n",
    "\n",
    "## Normal\n",
    "x_test[r,c] = 5000\n",
    "print(\"\\n\\nPrediction for {}\".format(x_test[r,c]))\n",
    "print(model.predict(test_matrix = x_test, row = r, col= c))\n",
    "\n",
    "\n",
    "## Anomaly\n",
    "x_test[r,c] = 50000\n",
    "print(\"\\n\\nPrediction for {}\".format(x_test[r,c]))\n",
    "print(model.predict(test_matrix = x_test, row = r, col= c))"
   ]
  },
  {
   "cell_type": "code",
   "execution_count": 39,
   "metadata": {},
   "outputs": [
    {
     "data": {
      "text/plain": [
       "<matplotlib.axes._subplots.AxesSubplot at 0x1a19f8f588>"
      ]
     },
     "execution_count": 39,
     "metadata": {},
     "output_type": "execute_result"
    },
    {
     "data": {
      "image/png": "[encoded data removed]",
      "text/plain": [
       "<matplotlib.figure.Figure at 0x1a19e5fa20>"
      ]
     },
     "metadata": {},
     "output_type": "display_data"
    }
   ],
   "source": [
    "fig = plt.figure()\n",
    "fig.set_size_inches(3,2)\n",
    "\n",
    "sns.heatmap(model.means.values.reshape(*calorieIntake[0].shape))"
   ]
  },
  {
   "cell_type": "code",
   "execution_count": 66,
   "metadata": {},
   "outputs": [
    {
     "name": "stdout",
     "output_type": "stream",
     "text": [
      "\n",
      "\n",
      "# Previously known data on that time r = 0 and event c= 1\n",
      "# Look column 1 of the dataframe\n"
     ]
    },
    {
     "data": {
      "text/plain": [
       "(-27067.403439344227, 33010.26058220137)"
      ]
     },
     "execution_count": 66,
     "metadata": {},
     "output_type": "execute_result"
    },
    {
     "data": {
      "image/png": "[encoded data removed]",
      "text/plain": [
       "<matplotlib.figure.Figure at 0x1a1a5364a8>"
      ]
     },
     "metadata": {},
     "output_type": "display_data"
    }
   ],
   "source": [
    "# Previously known data on that time r and event c\n",
    "feature_size = x_test.shape[1]\n",
    "idx = r*feature_size + c\n",
    "print(\"\\n\\n# Previously known data on that time r = {} and event c= {}\".format(r,c))\n",
    "print(\"# Look column {} of the dataframe\".format(idx))\n",
    "\n",
    "\n",
    "fig = plt.figure()\n",
    "fig.set_size_inches(10,5)\n",
    "\n",
    "model.df[idx].plot()\n",
    "plt.scatter(model.df.index, model.df[idx])\n",
    "for i in range(4):\n",
    "    plt.axhline(y=model.means[idx] - i * model.stds[idx], linewidth=4-i, color='b')\n",
    "for i in range(4):\n",
    "    plt.axhline(y=model.means[idx] + i * model.stds[idx], linewidth=4-i, color='b')\n",
    "plt.xlabel('Days')\n",
    "plt.ylabel('Count for Time r = {} and event c= {} '.format(r,c))\n",
    "plt.ylim(model.means[idx] - 4 * model.stds[idx], model.means[idx] + 4 * model.stds[idx])"
   ]
  },
  {
   "cell_type": "code",
   "execution_count": null,
   "metadata": {},
   "outputs": [],
   "source": []
  }
 ],
 "metadata": {
  "kernelspec": {
   "display_name": "Python 3",
   "language": "python",
   "name": "python3"
  },
  "language_info": {
   "codemirror_mode": {
    "name": "ipython",
    "version": 3
   },
   "file_extension": ".py",
   "mimetype": "text/x-python",
   "name": "python",
   "nbconvert_exporter": "python",
   "pygments_lexer": "ipython3",
   "version": "3.6.4"
  }
 },
 "nbformat": 4,
 "nbformat_minor": 2
}
