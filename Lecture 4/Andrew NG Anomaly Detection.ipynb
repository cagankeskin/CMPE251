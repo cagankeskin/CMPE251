{
 "cells": [
  {
   "cell_type": "code",
   "execution_count": 1,
   "metadata": {},
   "outputs": [
    {
     "name": "stdout",
     "output_type": "stream",
     "text": [
      "Anomaly Detection Programme\n",
      "===========================\n",
      "\n",
      "What do you want to do?\n",
      "1. Input a test data point\n",
      "2. Exit\n",
      "\n",
      "Enter number of option: 1\n",
      "Enter in test case for vibration: 3\n",
      "Enter in test case for heat: 4\n",
      "\n",
      "Anomaly, 2.702906125209619e-43 < 0.0025 \n",
      "\n",
      "What do you want to do?\n",
      "1. Input a test data point\n",
      "2. Exit\n",
      "\n",
      "Enter number of option: 3\n",
      "Please enter in either \"1\" or \"2\"\n",
      "What do you want to do?\n",
      "1. Input a test data point\n",
      "2. Exit\n",
      "\n",
      "Enter number of option: 2\n"
     ]
    }
   ],
   "source": [
    "# Simple Anomaly Detection Script\n",
    "# Based off of Andrew Ng's Machine Learning Course, Week 9/Lecture 15.1,2,3\n",
    "\n",
    "# By Alexander Ahmann (@mathmare_)\n",
    "\n",
    "# There's probably a better way to write this :P\n",
    "\n",
    "import numpy as np\n",
    "\n",
    "calc_gaussian = lambda x, mu, sigma: (1.0 / (sigma * np.sqrt(2 * np.pi))) * np.exp( -(x - mu)**2 / (2 * sigma**2) )\n",
    "calc_average = lambda x: (1.0 / len(x)) * sum(x)\n",
    "calc_variance = lambda x, mu: (1.0 / (len(x)-1)) * sum([(k - mu)**2 for n, k in enumerate(x)])\n",
    "calc_std = lambda ssq: np.sqrt(ssq)\n",
    "\n",
    "training_statistical_dataset = {\n",
    "    \"vibration\":[56,59,52,49,49,51,48,50,53,44],\n",
    "    \"heat\":[47,61,52,41,49,49,56,46,60,51]\n",
    "}\n",
    "training_features_parameters = { }\n",
    "\n",
    "epsilon = 0.0025\n",
    "\n",
    "if __name__ == '__main__':\n",
    "    # Train the model given each features\n",
    "    for k in training_statistical_dataset.keys():\n",
    "        parameters = []\n",
    "        label = k\n",
    "        average = calc_average(training_statistical_dataset[k])\n",
    "        parameters.append(average) #in parameters[0]\n",
    "        variance = calc_variance(training_statistical_dataset[k], average)\n",
    "        parameters.append(variance) #in parameters[1]\n",
    "        std = calc_std(variance)\n",
    "        parameters.append(std) #in parameters[2]\n",
    "        training_features_parameters[label] = parameters\n",
    "    \n",
    "    print(\"Anomaly Detection Programme\")\n",
    "    print(\"===========================\\n\")\n",
    "\n",
    "    done = False\n",
    "    while not done:\n",
    "        # Now, ask for test cases to work out anomolies\n",
    "        print(\"What do you want to do?\")\n",
    "        print(\"1. Input a test data point\")\n",
    "        print(\"2. Exit\\n\")\n",
    "        \n",
    "        option = input(\"Enter number of option: \")\n",
    "\n",
    "        if option == \"1\":\n",
    "            probability = 1\n",
    "            for k in training_features_parameters.keys():\n",
    "                test_case = float(input(\"Enter in test case for \" + k + \": \"))\n",
    "                mean = training_features_parameters[k][0]\n",
    "                std = training_features_parameters[k][2]\n",
    "                probability = probability * calc_gaussian(test_case, mean, std)\n",
    "            if probability < epsilon:\n",
    "                print(\"\\nAnomaly,\", probability, \"<\", epsilon, \"\\n\")\n",
    "            else:\n",
    "                print(\"\\nNo Anomaly,\", probability, \"is not <\", epsilon, \"\\n\")\n",
    "\n",
    "        elif option == \"2\":\n",
    "            done = True\n",
    "        else:\n",
    "            print(\"Please enter in either \\\"1\\\" or \\\"2\\\"\")"
   ]
  },
  {
   "cell_type": "code",
   "execution_count": 8,
   "metadata": {},
   "outputs": [
    {
     "data": {
      "text/html": [
       "<div>\n",
       "<style scoped>\n",
       "    .dataframe tbody tr th:only-of-type {\n",
       "        vertical-align: middle;\n",
       "    }\n",
       "\n",
       "    .dataframe tbody tr th {\n",
       "        vertical-align: top;\n",
       "    }\n",
       "\n",
       "    .dataframe thead th {\n",
       "        text-align: right;\n",
       "    }\n",
       "</style>\n",
       "<table border=\"1\" class=\"dataframe\">\n",
       "  <thead>\n",
       "    <tr style=\"text-align: right;\">\n",
       "      <th></th>\n",
       "      <th>heat</th>\n",
       "      <th>vibration</th>\n",
       "    </tr>\n",
       "  </thead>\n",
       "  <tbody>\n",
       "    <tr>\n",
       "      <th>0</th>\n",
       "      <td>47</td>\n",
       "      <td>56</td>\n",
       "    </tr>\n",
       "    <tr>\n",
       "      <th>1</th>\n",
       "      <td>61</td>\n",
       "      <td>59</td>\n",
       "    </tr>\n",
       "    <tr>\n",
       "      <th>2</th>\n",
       "      <td>52</td>\n",
       "      <td>52</td>\n",
       "    </tr>\n",
       "    <tr>\n",
       "      <th>3</th>\n",
       "      <td>41</td>\n",
       "      <td>49</td>\n",
       "    </tr>\n",
       "    <tr>\n",
       "      <th>4</th>\n",
       "      <td>49</td>\n",
       "      <td>49</td>\n",
       "    </tr>\n",
       "    <tr>\n",
       "      <th>5</th>\n",
       "      <td>49</td>\n",
       "      <td>51</td>\n",
       "    </tr>\n",
       "    <tr>\n",
       "      <th>6</th>\n",
       "      <td>56</td>\n",
       "      <td>48</td>\n",
       "    </tr>\n",
       "    <tr>\n",
       "      <th>7</th>\n",
       "      <td>46</td>\n",
       "      <td>50</td>\n",
       "    </tr>\n",
       "    <tr>\n",
       "      <th>8</th>\n",
       "      <td>60</td>\n",
       "      <td>53</td>\n",
       "    </tr>\n",
       "    <tr>\n",
       "      <th>9</th>\n",
       "      <td>51</td>\n",
       "      <td>44</td>\n",
       "    </tr>\n",
       "  </tbody>\n",
       "</table>\n",
       "</div>"
      ],
      "text/plain": [
       "   heat  vibration\n",
       "0    47         56\n",
       "1    61         59\n",
       "2    52         52\n",
       "3    41         49\n",
       "4    49         49\n",
       "5    49         51\n",
       "6    56         48\n",
       "7    46         50\n",
       "8    60         53\n",
       "9    51         44"
      ]
     },
     "execution_count": 8,
     "metadata": {},
     "output_type": "execute_result"
    }
   ],
   "source": [
    "import matplotlib.pyplot as plt\n",
    "%matplotlib inline\n",
    "import pandas as pd\n",
    "data = {\n",
    "    \"vibration\":[56,59,52,49,49,51,48,50,53,44],\n",
    "    \"heat\":[47,61,52,41,49,49,56,46,60,51]\n",
    "}\n",
    "df = pd.DataFrame(data)\n",
    "df"
   ]
  },
  {
   "cell_type": "code",
   "execution_count": 9,
   "metadata": {},
   "outputs": [
    {
     "data": {
      "text/plain": [
       "<matplotlib.axes._subplots.AxesSubplot at 0x116efbd30>"
      ]
     },
     "execution_count": 9,
     "metadata": {},
     "output_type": "execute_result"
    },
    {
     "data": {
      "image/png": "[encoded data removed]",
      "text/plain": [
       "<matplotlib.figure.Figure at 0x1114de5f8>"
      ]
     },
     "metadata": {},
     "output_type": "display_data"
    }
   ],
   "source": [
    "df.plot.scatter('vibration', 'heat')"
   ]
  },
  {
   "cell_type": "code",
   "execution_count": 10,
   "metadata": {},
   "outputs": [
    {
     "data": {
      "text/plain": [
       "(51.1, 4.2282121254470875)"
      ]
     },
     "execution_count": 10,
     "metadata": {},
     "output_type": "execute_result"
    }
   ],
   "source": [
    "vm, vs = df.vibration.mean(), df.vibration.std()\n",
    "vm, vs"
   ]
  },
  {
   "cell_type": "code",
   "execution_count": 11,
   "metadata": {},
   "outputs": [
    {
     "data": {
      "text/plain": [
       "(51.2, 6.285786435372356)"
      ]
     },
     "execution_count": 11,
     "metadata": {},
     "output_type": "execute_result"
    }
   ],
   "source": [
    "hm, hs = df.heat.mean(), df.heat.std()\n",
    "hm, hs"
   ]
  },
  {
   "cell_type": "code",
   "execution_count": 12,
   "metadata": {},
   "outputs": [],
   "source": [
    "calc_gaussian = lambda x, mu, sigma: (1.0 / (sigma * np.sqrt(2 * np.pi))) * np.exp( -(x - mu)**2 / (2 * sigma**2) )"
   ]
  },
  {
   "cell_type": "code",
   "execution_count": 13,
   "metadata": {},
   "outputs": [
    {
     "data": {
      "text/plain": [
       "2.702906125209619e-43"
      ]
     },
     "execution_count": 13,
     "metadata": {},
     "output_type": "execute_result"
    }
   ],
   "source": [
    "test_case = [3,4]\n",
    "probability = 1\n",
    "probability = probability * calc_gaussian(test_case[0], vm, vs)\n",
    "probability = probability * calc_gaussian(test_case[1], hm, hs)\n",
    "probability"
   ]
  },
  {
   "cell_type": "code",
   "execution_count": 14,
   "metadata": {},
   "outputs": [],
   "source": [
    "#s = np.random.normal(mu, sigma, 1000)"
   ]
  },
  {
   "cell_type": "code",
   "execution_count": 15,
   "metadata": {},
   "outputs": [
    {
     "data": {
      "text/plain": [
       "7.467249702360067e-30"
      ]
     },
     "execution_count": 15,
     "metadata": {},
     "output_type": "execute_result"
    }
   ],
   "source": [
    "calc_gaussian(3, vm, vs)"
   ]
  },
  {
   "cell_type": "code",
   "execution_count": 17,
   "metadata": {},
   "outputs": [
    {
     "data": {
      "text/plain": [
       "7.467249702359961e-30"
      ]
     },
     "execution_count": 17,
     "metadata": {},
     "output_type": "execute_result"
    }
   ],
   "source": [
    "import scipy.stats\n",
    "scipy.stats.norm(vm, vs).pdf(3)"
   ]
  },
  {
   "cell_type": "code",
   "execution_count": null,
   "metadata": {},
   "outputs": [],
   "source": []
  }
 ],
 "metadata": {
  "kernelspec": {
   "display_name": "Python 3",
   "language": "python",
   "name": "python3"
  },
  "language_info": {
   "codemirror_mode": {
    "name": "ipython",
    "version": 3
   },
   "file_extension": ".py",
   "mimetype": "text/x-python",
   "name": "python",
   "nbconvert_exporter": "python",
   "pygments_lexer": "ipython3",
   "version": "3.6.4"
  }
 },
 "nbformat": 4,
 "nbformat_minor": 2
}
