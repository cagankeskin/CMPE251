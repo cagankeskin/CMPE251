{
 "cells": [
  {
   "cell_type": "code",
   "execution_count": 1,
   "metadata": {},
   "outputs": [
    {
     "name": "stdout",
     "output_type": "stream",
     "text": [
      "Hi Java\n"
     ]
    }
   ],
   "source": [
    "print(\"Hi Java\")"
   ]
  },
  {
   "cell_type": "code",
   "execution_count": 1,
   "metadata": {},
   "outputs": [
    {
     "name": "stdout",
     "output_type": "stream",
     "text": [
      "{Icerik: merhabalaştık Kok: merhaba tip:ISIM}  Ekler:ISIM_KOK + ISIM_DONUSUM_LES + FIIL_BELIRTME_DIK\n",
      "{Icerik: dalgalarının Kok: dalga tip:ISIM}  Ekler:ISIM_KOK + ISIM_COGUL_LER + ISIM_SAHIPLIK_O_I + ISIM_TAMLAMA_IN\n",
      "{Icerik: habercisi Kok: haber tip:ISIM}  Ekler:ISIM_KOK + ISIM_ILGI_CI + ISIM_SAHIPLIK_O_I\n",
      "{Icerik: tırmalamışsa Kok: tırmala tip:FIIL}  Ekler:FIIL_KOK + FIIL_GECMISZAMAN_MIS + IMEK_SART_SE\n"
     ]
    }
   ],
   "source": [
    "import jpype\n",
    "# JVM başlat\n",
    "jpype.startJVM(jpype.getDefaultJVMPath(),\n",
    "         \"-Djava.class.path=/Users/uzaycetin/Documents/driver/zemberek-tum-2.0.jar\", \"-ea\")\n",
    "\n",
    "# Türkiye Türkçesine göre çözümlemek için gerekli sınıfı hazırla\n",
    "Tr = jpype.JClass(\"net.zemberek.tr.yapi.TurkiyeTurkcesi\")\n",
    "# tr nesnesini oluştur\n",
    "tr = Tr()\n",
    "# Zemberek sınıfını yükle\n",
    "Zemberek = jpype.JClass(\"net.zemberek.erisim.Zemberek\")\n",
    "# zemberek nesnesini oluştur\n",
    "zemberek = Zemberek(tr)\n",
    "#Çözümlenecek örnek kelimeleri belirle\n",
    "kelimeler = [\"merhabalaştık\",\"dalgalarının\",\"habercisi\",\"tırmalamışsa\"]\n",
    "for kelime in kelimeler:\n",
    "    if kelime.strip()>'':\n",
    "        yanit = zemberek.kelimeCozumle(kelime)\n",
    "        if yanit:\n",
    "            print(\"{}\".format(yanit[0]))\n",
    "        else:\n",
    "            print(\"{} ÇÖZÜMLENEMEDİ\".format(kelime))\n"
   ]
  },
  {
   "cell_type": "code",
   "execution_count": 2,
   "metadata": {},
   "outputs": [
    {
     "name": "stdout",
     "output_type": "stream",
     "text": [
      "<class 'jpype._jarray.net.zemberek.yapi.Kelime[]'>\n",
      "{Icerik: karadan Kok: kara tip:ISIM}  Ekler:ISIM_KOK + ISIM_CIKMA_DEN\n",
      "ISIM\n",
      "kara\n"
     ]
    }
   ],
   "source": [
    "ornSonuc = zemberek.kelimeCozumle(\"karadan\")\n",
    "print(type(ornSonuc))\n",
    "print(ornSonuc[0])\n",
    "print(ornSonuc[0].kok().tip().toString())\n",
    "print(ornSonuc[0].kok().icerik())"
   ]
  },
  {
   "cell_type": "code",
   "execution_count": 5,
   "metadata": {},
   "outputs": [
    {
     "name": "stdout",
     "output_type": "stream",
     "text": [
      "<class 'jpype._jarray.net.zemberek.yapi.Kelime[]'>\n",
      "{Icerik: zenginleştiremediklerimizden Kok: zenginle tip:FIIL}  Ekler:FIIL_KOK + FIIL_BERABERLIK_IS + FIIL_ETTIRGEN_TIR + FIIL_YETERSIZLIK_E + FIIL_OLUMSUZLUK_ME + FIIL_BELIRTME_DIK + ISIM_COGUL_LER + ISIM_SAHIPLIK_BIZ_IMIZ + ISIM_CIKMA_DEN\n",
      "FIIL\n",
      "zenginle\n"
     ]
    }
   ],
   "source": [
    "ornSonuc = zemberek.kelimeCozumle(\"zenginleştiremediklerimizden\")\n",
    "print(type(ornSonuc))\n",
    "print(ornSonuc[0])\n",
    "print(ornSonuc[0].kok().tip().toString())\n",
    "print(ornSonuc[0].kok().icerik())"
   ]
  },
  {
   "cell_type": "code",
   "execution_count": 3,
   "metadata": {},
   "outputs": [
    {
     "name": "stdout",
     "output_type": "stream",
     "text": [
      "uzun\n"
     ]
    }
   ],
   "source": [
    "ornSonuc = zemberek.kelimeCozumle(\"uzunlaştıkça\")\n",
    "print(ornSonuc[0].kok().icerik())"
   ]
  },
  {
   "cell_type": "code",
   "execution_count": null,
   "metadata": {},
   "outputs": [],
   "source": []
  },
  {
   "cell_type": "code",
   "execution_count": null,
   "metadata": {},
   "outputs": [],
   "source": [
    "#JVM kapat\n",
    "jpype.shutdownJVM()"
   ]
  }
 ],
 "metadata": {
  "kernelspec": {
   "display_name": "Python 3",
   "language": "python",
   "name": "python3"
  },
  "language_info": {
   "codemirror_mode": {
    "name": "ipython",
    "version": 3
   },
   "file_extension": ".py",
   "mimetype": "text/x-python",
   "name": "python",
   "nbconvert_exporter": "python",
   "pygments_lexer": "ipython3",
   "version": "3.6.4"
  }
 },
 "nbformat": 4,
 "nbformat_minor": 2
}
