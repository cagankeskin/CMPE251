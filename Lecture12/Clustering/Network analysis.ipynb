{
 "cells": [
  {
   "cell_type": "code",
   "execution_count": 1,
   "metadata": {},
   "outputs": [],
   "source": [
    "import networkx as nx\n",
    "borders = nx.Graph()\n",
    "not_borders1 = nx.DiGraph() # Just for our reference\n",
    "not_borders2 = nx.MultiGraph() # Just for our reference"
   ]
  },
  {
   "cell_type": "code",
   "execution_count": 2,
   "metadata": {},
   "outputs": [],
   "source": [
    "borders.add_node(\"Zimbabwe\")\n",
    "borders.add_nodes_from([\"Lugandon\", \"Zambia\", \"Portugal\", \"Kuwait\",\n",
    "\"Colombia\"])\n",
    "borders.remove_node(\"Lugandon\")\n",
    "borders.add_edge(\"Zambia\", \"Zimbabwe\")\n",
    "borders.add_edges_from([(\"Uganda\", \"Rwanda\"), (\"Uganda\", \"Kenya\"),\n",
    "(\"Uganda\", \"South Sudan\"), (\"Uganda\", \"Tanzania\"),\n",
    "(\"Uganda\", \"Democratic Republic of the Congo\")])"
   ]
  },
  {
   "cell_type": "code",
   "execution_count": 6,
   "metadata": {},
   "outputs": [
    {
     "data": {
      "image/png": "[encoded data removed]",
      "text/plain": [
       "<matplotlib.figure.Figure at 0x10c83e6d8>"
      ]
     },
     "metadata": {},
     "output_type": "display_data"
    }
   ],
   "source": [
    "nx.draw(borders)"
   ]
  },
  {
   "cell_type": "code",
   "execution_count": 7,
   "metadata": {},
   "outputs": [
    {
     "data": {
      "text/plain": [
       "NodeView(('Zimbabwe', 'Zambia', 'Portugal', 'Kuwait', 'Colombia', 'Uganda', 'Rwanda', 'Kenya', 'South Sudan', 'Tanzania', 'Democratic Republic of the Congo'))"
      ]
     },
     "execution_count": 7,
     "metadata": {},
     "output_type": "execute_result"
    }
   ],
   "source": [
    "borders.nodes()"
   ]
  },
  {
   "cell_type": "code",
   "execution_count": 8,
   "metadata": {},
   "outputs": [
    {
     "data": {
      "text/plain": [
       "NodeView(('Zimbabwe', 'Zambia', 'Portugal', 'Kuwait', 'Colombia', 'Uganda', 'Rwanda', 'Kenya', 'South Sudan', 'Tanzania', 'Democratic Republic of the Congo'))"
      ]
     },
     "execution_count": 8,
     "metadata": {},
     "output_type": "execute_result"
    }
   ],
   "source": [
    "borders.node"
   ]
  },
  {
   "cell_type": "code",
   "execution_count": 12,
   "metadata": {},
   "outputs": [
    {
     "data": {
      "text/plain": [
       "EdgeView([('Zimbabwe', 'Zambia'), ('Uganda', 'Rwanda'), ('Uganda', 'Kenya'), ('Uganda', 'South Sudan'), ('Uganda', 'Tanzania'), ('Uganda', 'Democratic Republic of the Congo')])"
      ]
     },
     "execution_count": 12,
     "metadata": {},
     "output_type": "execute_result"
    }
   ],
   "source": [
    "borders.edges"
   ]
  },
  {
   "cell_type": "code",
   "execution_count": 13,
   "metadata": {},
   "outputs": [
    {
     "data": {
      "text/plain": [
       "<dict_keyiterator at 0x112f18728>"
      ]
     },
     "execution_count": 13,
     "metadata": {},
     "output_type": "execute_result"
    }
   ],
   "source": [
    "borders.neighbors(\"Zimbabwe\")"
   ]
  },
  {
   "cell_type": "code",
   "execution_count": 18,
   "metadata": {},
   "outputs": [
    {
     "data": {
      "text/plain": [
       "{'Colombia': 0.0,\n",
       " 'Democratic Republic of the Congo': 0.0,\n",
       " 'Kenya': 0.0,\n",
       " 'Kuwait': 0.0,\n",
       " 'Portugal': 0.0,\n",
       " 'Rwanda': 0.0,\n",
       " 'South Sudan': 0.0,\n",
       " 'Tanzania': 0.0,\n",
       " 'Uganda': 0.22222222222222224,\n",
       " 'Zambia': 0.0,\n",
       " 'Zimbabwe': 0.0}"
      ]
     },
     "execution_count": 18,
     "metadata": {},
     "output_type": "execute_result"
    }
   ],
   "source": [
    "nx.betweenness_centrality(borders) # France"
   ]
  },
  {
   "cell_type": "code",
   "execution_count": 19,
   "metadata": {},
   "outputs": [
    {
     "data": {
      "text/plain": [
       "{'Colombia': 0.0,\n",
       " 'Democratic Republic of the Congo': 0.2777777777777778,\n",
       " 'Kenya': 0.2777777777777778,\n",
       " 'Kuwait': 0.0,\n",
       " 'Portugal': 0.0,\n",
       " 'Rwanda': 0.2777777777777778,\n",
       " 'South Sudan': 0.2777777777777778,\n",
       " 'Tanzania': 0.2777777777777778,\n",
       " 'Uganda': 0.5,\n",
       " 'Zambia': 0.1,\n",
       " 'Zimbabwe': 0.1}"
      ]
     },
     "execution_count": 19,
     "metadata": {},
     "output_type": "execute_result"
    }
   ],
   "source": [
    "nx.closeness_centrality(borders) # France"
   ]
  },
  {
   "cell_type": "code",
   "execution_count": 20,
   "metadata": {},
   "outputs": [
    {
     "data": {
      "text/plain": [
       "{'Colombia': 0.0,\n",
       " 'Democratic Republic of the Congo': 0.1,\n",
       " 'Kenya': 0.1,\n",
       " 'Kuwait': 0.0,\n",
       " 'Portugal': 0.0,\n",
       " 'Rwanda': 0.1,\n",
       " 'South Sudan': 0.1,\n",
       " 'Tanzania': 0.1,\n",
       " 'Uganda': 0.5,\n",
       " 'Zambia': 0.1,\n",
       " 'Zimbabwe': 0.1}"
      ]
     },
     "execution_count": 20,
     "metadata": {},
     "output_type": "execute_result"
    }
   ],
   "source": [
    "nx.degree_centrality(borders)"
   ]
  },
  {
   "cell_type": "code",
   "execution_count": 21,
   "metadata": {},
   "outputs": [],
   "source": [
    "import community\n",
    "partition = community.best_partition(borders)"
   ]
  },
  {
   "cell_type": "code",
   "execution_count": 22,
   "metadata": {},
   "outputs": [
    {
     "data": {
      "text/plain": [
       "{'Colombia': 3,\n",
       " 'Democratic Republic of the Congo': 4,\n",
       " 'Kenya': 4,\n",
       " 'Kuwait': 2,\n",
       " 'Portugal': 1,\n",
       " 'Rwanda': 4,\n",
       " 'South Sudan': 4,\n",
       " 'Tanzania': 4,\n",
       " 'Uganda': 4,\n",
       " 'Zambia': 0,\n",
       " 'Zimbabwe': 0}"
      ]
     },
     "execution_count": 22,
     "metadata": {},
     "output_type": "execute_result"
    }
   ],
   "source": [
    "partition"
   ]
  },
  {
   "cell_type": "code",
   "execution_count": 23,
   "metadata": {},
   "outputs": [
    {
     "data": {
      "text/plain": [
       "0.27777777777777773"
      ]
     },
     "execution_count": 23,
     "metadata": {},
     "output_type": "execute_result"
    }
   ],
   "source": [
    "community.modularity(partition, borders)"
   ]
  },
  {
   "cell_type": "code",
   "execution_count": 24,
   "metadata": {},
   "outputs": [
    {
     "name": "stdout",
     "output_type": "stream",
     "text": [
      "               degree  closeness  betweenness  eigenvector  clustering\n",
      "degree       1.000000   0.088531     0.791717     0.582656    0.055331\n",
      "closeness    0.088531   1.000000     0.142635     0.241262   -0.118976\n",
      "betweenness  0.791717   0.142635     1.000000     0.275262   -0.020874\n",
      "eigenvector  0.582656   0.241262     0.275262     1.000000   -0.021761\n",
      "clustering   0.055331  -0.118976    -0.020874    -0.021761    1.000000\n"
     ]
    }
   ],
   "source": [
    "import networkx as nx, community\n",
    "import pandas as pd\n",
    "\n",
    "# Import the network\n",
    "G = nx.read_adjlist(open(\"soc-Epinions1.txt\", \"rb\"))\n",
    "\n",
    "# Extract community structure and save it as a data series\n",
    "partition = pd.Series(community.best_partition(G))\n",
    "\n",
    "# Find the index of the 10th largest community\n",
    "top10 = partition.value_counts().index[9]\n",
    "\n",
    "# Extract the 10th largest community\n",
    "# Remember that node labels are strings!\n",
    "subgraph = partition[partition == top10].index.values.astype('str')\n",
    "F = G.subgraph(subgraph)\n",
    "\n",
    "# Calculate the network measures\n",
    "df = pd.DataFrame()\n",
    "df[\"degree\"] = pd.Series(nx.degree_centrality(F))\n",
    "df[\"closeness\"] = pd.Series(nx.closeness_centrality(F))\n",
    "df[\"betweenness\"] = pd.Series(nx.betweenness_centrality(F))\n",
    "df[\"eigenvector\"] = pd.Series(nx.eigenvector_centrality(F))\n",
    "df[\"clustering\"] = pd.Series(nx.clustering(F))\n",
    "\n",
    "# Calculate the correlations\n",
    "print(df.corr())\n"
   ]
  },
  {
   "cell_type": "code",
   "execution_count": null,
   "metadata": {},
   "outputs": [],
   "source": [
    "nx.draw(G)"
   ]
  },
  {
   "cell_type": "code",
   "execution_count": null,
   "metadata": {},
   "outputs": [],
   "source": []
  }
 ],
 "metadata": {
  "kernelspec": {
   "display_name": "Python 3",
   "language": "python",
   "name": "python3"
  },
  "language_info": {
   "codemirror_mode": {
    "name": "ipython",
    "version": 3
   },
   "file_extension": ".py",
   "mimetype": "text/x-python",
   "name": "python",
   "nbconvert_exporter": "python",
   "pygments_lexer": "ipython3",
   "version": "3.6.4"
  }
 },
 "nbformat": 4,
 "nbformat_minor": 2
}
