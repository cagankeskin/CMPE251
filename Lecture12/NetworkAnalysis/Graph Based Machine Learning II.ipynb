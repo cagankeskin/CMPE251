{
 "cells": [
  {
   "cell_type": "code",
   "execution_count": 55,
   "metadata": {},
   "outputs": [],
   "source": [
    "import warnings\n",
    "warnings.filterwarnings('ignore')\n",
    "import networkx as nx\n",
    "import matplotlib.pyplot as plt\n",
    "import numpy as np\n",
    "import random\n",
    "%matplotlib inline"
   ]
  },
  {
   "cell_type": "code",
   "execution_count": 62,
   "metadata": {},
   "outputs": [
    {
     "data": {
      "image/png": "[encoded data removed]",
      "text/plain": [
       "<matplotlib.figure.Figure at 0x151ba30c18>"
      ]
     },
     "metadata": {},
     "output_type": "display_data"
    }
   ],
   "source": [
    "def addLayer(G, n0,n1,kx = 1):\n",
    "    def getPos(n0,n1,kx = 1):\n",
    "        if n0 > n1: ky0, ky1 = n0+1, n0+1-((n0-n1)/2)\n",
    "        else: ky0, ky1 = n1+1-((n1-n0)/2), n1+1\n",
    "        pos0 = {layer0[i]:(kx, ky0-i) for i in range(n0)}\n",
    "        pos1 = {layer1[i]:(kx+1, ky1-i) for i in range(n1)}\n",
    "        pos = pos0; pos.update(pos1)\n",
    "        return pos\n",
    "    layer0 = [\"x\" + str(i) for i in range(n0)]\n",
    "    layer1 = [\"y\" + str(i) for i in range(n1)]\n",
    "        \n",
    "    for x in layer0: \n",
    "        for y in layer1: \n",
    "            G.add_edge(x, y, weight = random.gauss(0,1)) \n",
    "    \n",
    "    for y in layer1: G.node[y][\"value\"] = 0\n",
    "    for x in layer0: G.node[x][\"value\"] = 0 \n",
    "        \n",
    "    return getPos(n0,n1)\n",
    "\n",
    "#plt.figure(figsize=(10,10))\n",
    "G = nx.DiGraph()\n",
    "n0, n1 = 5, 2\n",
    "pos = addLayer(G, n0,n1)\n",
    "nx.draw(G, pos = pos, node_size=1000, node_color='lightblue', with_labels=True)\n",
    "\n"
   ]
  },
  {
   "cell_type": "code",
   "execution_count": 63,
   "metadata": {},
   "outputs": [
    {
     "name": "stdout",
     "output_type": "stream",
     "text": [
      "Name: \n",
      "Type: DiGraph\n",
      "Number of nodes: 7\n",
      "Number of edges: 10\n",
      "Average in degree:   1.4286\n",
      "Average out degree:   1.4286\n"
     ]
    }
   ],
   "source": [
    "print(nx.info(G))"
   ]
  },
  {
   "cell_type": "code",
   "execution_count": 70,
   "metadata": {},
   "outputs": [
    {
     "name": "stdout",
     "output_type": "stream",
     "text": [
      "('x0', {'value': 0})\n",
      "('y0', {'value': 0})\n",
      "('y1', {'value': 0})\n",
      "('x1', {'value': 0})\n",
      "('x2', {'value': 0})\n",
      "('x3', {'value': 0})\n",
      "('x4', {'value': 0})\n"
     ]
    }
   ],
   "source": [
    "for n in G.nodes(data=True):\n",
    "    print(n)"
   ]
  },
  {
   "cell_type": "code",
   "execution_count": 69,
   "metadata": {},
   "outputs": [
    {
     "name": "stdout",
     "output_type": "stream",
     "text": [
      "('x0', 'y0', {'weight': 1.4650557478062531})\n",
      "('x1', 'y0', {'weight': 1.5048318890313916})\n",
      "('x2', 'y0', {'weight': 0.6161150232388842})\n",
      "('x3', 'y0', {'weight': -0.718082528168878})\n",
      "('x4', 'y0', {'weight': 1.7141044946471464})\n",
      "('x0', 'y1', {'weight': 1.4028834201782998})\n",
      "('x1', 'y1', {'weight': -0.32054322369846616})\n",
      "('x2', 'y1', {'weight': -0.5973123244285463})\n",
      "('x3', 'y1', {'weight': 0.5439912370753363})\n",
      "('x4', 'y1', {'weight': -0.9752412695247887})\n"
     ]
    }
   ],
   "source": [
    "for e in G.in_edges(data=True):\n",
    "    print(e)"
   ]
  },
  {
   "cell_type": "code",
   "execution_count": 40,
   "metadata": {},
   "outputs": [
    {
     "data": {
      "text/plain": [
       "array([0.63941694])"
      ]
     },
     "execution_count": 40,
     "metadata": {},
     "output_type": "execute_result"
    }
   ],
   "source": []
  },
  {
   "cell_type": "code",
   "execution_count": 54,
   "metadata": {},
   "outputs": [
    {
     "data": {
      "text/plain": [
       "0.24745848168937104"
      ]
     },
     "execution_count": 54,
     "metadata": {},
     "output_type": "execute_result"
    }
   ],
   "source": []
  },
  {
   "cell_type": "code",
   "execution_count": null,
   "metadata": {},
   "outputs": [],
   "source": []
  }
 ],
 "metadata": {
  "kernelspec": {
   "display_name": "Python 3",
   "language": "python",
   "name": "python3"
  },
  "language_info": {
   "codemirror_mode": {
    "name": "ipython",
    "version": 3
   },
   "file_extension": ".py",
   "mimetype": "text/x-python",
   "name": "python",
   "nbconvert_exporter": "python",
   "pygments_lexer": "ipython3",
   "version": "3.6.4"
  }
 },
 "nbformat": 4,
 "nbformat_minor": 2
}
