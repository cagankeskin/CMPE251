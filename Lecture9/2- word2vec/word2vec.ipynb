{
 "cells": [
  {
   "cell_type": "code",
   "execution_count": 1,
   "metadata": {},
   "outputs": [],
   "source": [
    "import numpy as np\n",
    "from gensim.models import Word2Vec\n",
    "from sklearn.manifold import TSNE\n",
    "import matplotlib.pyplot as plt"
   ]
  },
  {
   "cell_type": "code",
   "execution_count": 2,
   "metadata": {},
   "outputs": [],
   "source": [
    "f = open('hurriyet.txt', 'r', encoding='utf8')\n",
    "text = f.read()\n",
    "t_list = text.split('\\n')\n",
    "\n",
    "corpus = []\n",
    "\n",
    "for cumle in t_list:\n",
    "    corpus.append(cumle.split())"
   ]
  },
  {
   "cell_type": "code",
   "execution_count": 4,
   "metadata": {},
   "outputs": [
    {
     "data": {
      "text/plain": [
       "['gösterilerde',\n",
       " 'fitnecilere',\n",
       " 'ölüm',\n",
       " 'münafıklara',\n",
       " 'ölüm',\n",
       " 'abd',\n",
       " 'ye',\n",
       " 'ölüm',\n",
       " 'ingiltere',\n",
       " 'ye',\n",
       " 'ölüm',\n",
       " 'sloganları',\n",
       " 'atıldı']"
      ]
     },
     "execution_count": 4,
     "metadata": {},
     "output_type": "execute_result"
    }
   ],
   "source": [
    "corpus[1]"
   ]
  },
  {
   "cell_type": "code",
   "execution_count": 5,
   "metadata": {},
   "outputs": [
    {
     "data": {
      "text/plain": [
       "['dini',\n",
       " 'lider',\n",
       " 'ali',\n",
       " 'hamaney',\n",
       " 've',\n",
       " 'cumhurbaşkanı',\n",
       " 'mahmud',\n",
       " 'ahmedinejad',\n",
       " 'ı',\n",
       " 'destekleyen',\n",
       " 'iranlılar',\n",
       " 'son',\n",
       " 'olaylarda',\n",
       " 'yeğeni',\n",
       " 'öldürülen',\n",
       " 'mir',\n",
       " 'hüseyin',\n",
       " 'musevi',\n",
       " 'başta',\n",
       " 'olmak',\n",
       " 'üzere',\n",
       " 'muhalefet',\n",
       " 'liderlerini',\n",
       " 'kınadılar']"
      ]
     },
     "execution_count": 5,
     "metadata": {},
     "output_type": "execute_result"
    }
   ],
   "source": [
    "corpus[2]"
   ]
  },
  {
   "cell_type": "code",
   "execution_count": 6,
   "metadata": {},
   "outputs": [
    {
     "data": {
      "text/plain": [
       "['musevi', 'ye', 'ölüm', 've', 'idam', 'idam', 'sloganları', 'duyuldu']"
      ]
     },
     "execution_count": 6,
     "metadata": {},
     "output_type": "execute_result"
    }
   ],
   "source": [
    "corpus[3]"
   ]
  },
  {
   "cell_type": "code",
   "execution_count": 7,
   "metadata": {},
   "outputs": [],
   "source": [
    "# KElime vektorleri 100 uzunlugunda\n",
    "# merkezdeki kelimenin sag ve solunda +5,-5 kelimeye bakiyor\n",
    "# min_count=5 nadir kelimeleri ele\n",
    "# sg=1 skip-gram\n",
    "\n",
    "model = Word2Vec(corpus, size=100, window=5, min_count=5, sg=1)"
   ]
  },
  {
   "cell_type": "code",
   "execution_count": 8,
   "metadata": {},
   "outputs": [
    {
     "data": {
      "text/plain": [
       "array([ 0.19575559,  0.35017854,  0.25173855, -0.08910054,  0.02444662,\n",
       "        0.38690767,  0.20764998, -0.15083487, -0.06397306, -0.66458714,\n",
       "       -0.0027776 ,  0.00984157, -0.35492024, -0.22051787,  0.36155212,\n",
       "       -0.10486265,  0.32090744, -0.3943038 , -0.03786726, -0.61226547,\n",
       "       -0.33510756, -0.05894455,  0.3140096 , -0.3469945 , -0.2010587 ,\n",
       "       -0.06232522,  0.5500902 ,  0.15434141, -0.10061239,  0.9805595 ,\n",
       "        0.12953892, -0.3726742 , -0.40078366, -0.11092606, -0.05134759,\n",
       "       -0.1454471 ,  0.17547765,  0.2063025 , -0.09011877, -0.19646363,\n",
       "       -0.00602412, -0.0673573 ,  0.1852906 ,  0.0761466 ,  0.6494036 ,\n",
       "        0.15471736, -0.6709276 ,  0.21234304,  0.18898238, -0.35279584,\n",
       "       -0.143019  ,  0.05806226,  0.00867872, -0.47965464,  0.27449298,\n",
       "       -0.2761012 , -0.67503077, -0.36493978,  0.89173037,  0.39430934,\n",
       "       -0.20367211, -0.09984584,  0.5630109 ,  0.19490868, -0.21670856,\n",
       "        0.02910584,  0.2121772 ,  0.5606531 , -0.12822554, -0.02541   ,\n",
       "        0.28935105, -0.02301459,  0.3483414 , -0.13854031,  0.6295916 ,\n",
       "       -0.62204814, -0.0033146 , -0.32773578, -0.36121437,  0.14455481,\n",
       "        0.28122395,  0.11451402,  0.38367936,  0.44022337, -0.21111012,\n",
       "       -0.06326357, -0.15487064, -0.4896101 ,  0.18366228,  0.2204898 ,\n",
       "        0.40200576, -0.56024903, -0.28148237, -0.09508981,  0.1127846 ,\n",
       "        0.12401845,  0.09636152,  0.7072221 ,  0.44873145,  0.60683364],\n",
       "      dtype=float32)"
      ]
     },
     "execution_count": 8,
     "metadata": {},
     "output_type": "execute_result"
    }
   ],
   "source": [
    "model.wv['ankara']"
   ]
  },
  {
   "cell_type": "code",
   "execution_count": 9,
   "metadata": {},
   "outputs": [
    {
     "data": {
      "text/plain": [
       "[('twitter', 0.7543126344680786),\n",
       " ('facebook', 0.7330607175827026),\n",
       " ('whatsapp', 0.7320181131362915),\n",
       " ('paylaşım', 0.7231199741363525),\n",
       " ('twıtter', 0.7213077545166016),\n",
       " ('internete', 0.7190455198287964),\n",
       " ('sitelerine', 0.6985442638397217),\n",
       " ('video', 0.6880125403404236),\n",
       " ('sayfasına', 0.6814849376678467),\n",
       " ('sitelere', 0.6756142377853394)]"
      ]
     },
     "execution_count": 9,
     "metadata": {},
     "output_type": "execute_result"
    }
   ],
   "source": [
    "model.wv.most_similar('youtube')"
   ]
  },
  {
   "cell_type": "markdown",
   "metadata": {},
   "source": [
    "# Modeli kaydetmek"
   ]
  },
  {
   "cell_type": "code",
   "execution_count": 10,
   "metadata": {},
   "outputs": [],
   "source": [
    "model.save('word2vec.model')"
   ]
  },
  {
   "cell_type": "code",
   "execution_count": 11,
   "metadata": {},
   "outputs": [],
   "source": [
    "model = Word2Vec.load('word2vec.model')"
   ]
  },
  {
   "cell_type": "code",
   "execution_count": 20,
   "metadata": {},
   "outputs": [],
   "source": [
    "def closestwords_tsneplot(model, word):\n",
    "    word_vectors = np.empty((0,100))\n",
    "    word_labels = [word]\n",
    "    \n",
    "    close_words = model.wv.most_similar(word)\n",
    "    \n",
    "    word_vectors = np.append(word_vectors, np.array([model.wv[word]]), axis=0)\n",
    "    \n",
    "    for w, _ in close_words:\n",
    "        word_labels.append(w)\n",
    "        word_vectors = np.append(word_vectors, np.array([model.wv[w]]), axis=0)\n",
    "        \n",
    "    tsne = TSNE(random_state=0)\n",
    "    Y = tsne.fit_transform(word_vectors)\n",
    "    \n",
    "    x_coords = Y[:, 0]\n",
    "    y_coords = Y[:, 1]\n",
    "    \n",
    "    plt.scatter(x_coords, y_coords)\n",
    "    \n",
    "    for label, x, y in zip(word_labels, x_coords, y_coords):\n",
    "        plt.annotate(label, xy=(x, y), xytext=(5, -2), textcoords='offset points')\n",
    "        \n",
    "    plt.show()"
   ]
  },
  {
   "cell_type": "code",
   "execution_count": 21,
   "metadata": {},
   "outputs": [
    {
     "data": {
      "image/png": "[encoded data removed]",
      "text/plain": [
       "<matplotlib.figure.Figure at 0x1a14597860>"
      ]
     },
     "metadata": {},
     "output_type": "display_data"
    }
   ],
   "source": [
    "closestwords_tsneplot(model, 'mu')"
   ]
  },
  {
   "cell_type": "code",
   "execution_count": 22,
   "metadata": {},
   "outputs": [
    {
     "data": {
      "image/png": "[encoded data removed]",
      "text/plain": [
       "<matplotlib.figure.Figure at 0x1a14dd8400>"
      ]
     },
     "metadata": {},
     "output_type": "display_data"
    }
   ],
   "source": [
    "closestwords_tsneplot(model, 'uzay')"
   ]
  },
  {
   "cell_type": "code",
   "execution_count": 23,
   "metadata": {},
   "outputs": [
    {
     "data": {
      "image/png": "[encoded data removed]",
      "text/plain": [
       "<matplotlib.figure.Figure at 0x1a151c31d0>"
      ]
     },
     "metadata": {},
     "output_type": "display_data"
    }
   ],
   "source": [
    "closestwords_tsneplot(model, 'erkek')"
   ]
  },
  {
   "cell_type": "code",
   "execution_count": 24,
   "metadata": {},
   "outputs": [
    {
     "data": {
      "image/png": "[encoded data removed]",
      "text/plain": [
       "<matplotlib.figure.Figure at 0x1a152b35c0>"
      ]
     },
     "metadata": {},
     "output_type": "display_data"
    }
   ],
   "source": [
    "closestwords_tsneplot(model, 'pazartesi')"
   ]
  },
  {
   "cell_type": "code",
   "execution_count": 25,
   "metadata": {},
   "outputs": [
    {
     "data": {
      "image/png": "[encoded data removed]",
      "text/plain": [
       "<matplotlib.figure.Figure at 0x1a156625f8>"
      ]
     },
     "metadata": {},
     "output_type": "display_data"
    }
   ],
   "source": [
    "closestwords_tsneplot(model, 'kasım')"
   ]
  },
  {
   "cell_type": "code",
   "execution_count": 45,
   "metadata": {},
   "outputs": [
    {
     "name": "stderr",
     "output_type": "stream",
     "text": [
      "/anaconda3/lib/python3.6/site-packages/ipykernel_launcher.py:1: DeprecationWarning: Call to deprecated `most_similar` (Method will be removed in 4.0.0, use self.wv.most_similar() instead).\n",
      "  \"\"\"Entry point for launching an IPython kernel.\n"
     ]
    },
    {
     "data": {
      "text/plain": [
       "[('yarın', 0.760185956954956)]"
      ]
     },
     "execution_count": 45,
     "metadata": {},
     "output_type": "execute_result"
    }
   ],
   "source": [
    "model.most_similar(positive=['akşam', 'bugün'], negative=['sabah'], topn=1)"
   ]
  },
  {
   "cell_type": "code",
   "execution_count": 47,
   "metadata": {},
   "outputs": [
    {
     "name": "stderr",
     "output_type": "stream",
     "text": [
      "/anaconda3/lib/python3.6/site-packages/ipykernel_launcher.py:1: DeprecationWarning: Call to deprecated `most_similar` (Method will be removed in 4.0.0, use self.wv.most_similar() instead).\n",
      "  \"\"\"Entry point for launching an IPython kernel.\n"
     ]
    },
    {
     "data": {
      "text/plain": [
       "[('önce', 0.7273145914077759)]"
      ]
     },
     "execution_count": 47,
     "metadata": {},
     "output_type": "execute_result"
    }
   ],
   "source": [
    "model.most_similar(positive=['akşam', 'sonra'], negative=['sabah'], topn=1)"
   ]
  },
  {
   "cell_type": "code",
   "execution_count": 51,
   "metadata": {},
   "outputs": [
    {
     "name": "stderr",
     "output_type": "stream",
     "text": [
      "/anaconda3/lib/python3.6/site-packages/ipykernel_launcher.py:1: DeprecationWarning: Call to deprecated `most_similar` (Method will be removed in 4.0.0, use self.wv.most_similar() instead).\n",
      "  \"\"\"Entry point for launching an IPython kernel.\n"
     ]
    },
    {
     "data": {
      "text/plain": [
       "[('babası', 0.6680014133453369),\n",
       " ('babasını', 0.6415079832077026),\n",
       " ('ablası', 0.6303805708885193),\n",
       " ('annesi', 0.6257779002189636),\n",
       " ('kızının', 0.6180100440979004)]"
      ]
     },
     "execution_count": 51,
     "metadata": {},
     "output_type": "execute_result"
    }
   ],
   "source": [
    "model.most_similar(positive=['anne', 'baba'], negative=['kadın'], topn=5)"
   ]
  },
  {
   "cell_type": "code",
   "execution_count": 66,
   "metadata": {},
   "outputs": [
    {
     "name": "stderr",
     "output_type": "stream",
     "text": [
      "/anaconda3/lib/python3.6/site-packages/ipykernel_launcher.py:1: DeprecationWarning: Call to deprecated `most_similar` (Method will be removed in 4.0.0, use self.wv.most_similar() instead).\n",
      "  \"\"\"Entry point for launching an IPython kernel.\n"
     ]
    },
    {
     "data": {
      "text/plain": [
       "[('suçsuz', 0.5983903408050537)]"
      ]
     },
     "execution_count": 66,
     "metadata": {},
     "output_type": "execute_result"
    }
   ],
   "source": [
    "model.most_similar(positive=['iyi', 'suçlu'], negative=['kötü'], topn=1)"
   ]
  },
  {
   "cell_type": "code",
   "execution_count": null,
   "metadata": {},
   "outputs": [],
   "source": []
  }
 ],
 "metadata": {
  "kernelspec": {
   "display_name": "Python 3",
   "language": "python",
   "name": "python3"
  },
  "language_info": {
   "codemirror_mode": {
    "name": "ipython",
    "version": 3
   },
   "file_extension": ".py",
   "mimetype": "text/x-python",
   "name": "python",
   "nbconvert_exporter": "python",
   "pygments_lexer": "ipython3",
   "version": "3.6.4"
  }
 },
 "nbformat": 4,
 "nbformat_minor": 2
}
