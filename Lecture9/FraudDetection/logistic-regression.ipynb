{
 "cells": [
  {
   "cell_type": "markdown",
   "metadata": {},
   "source": [
    "# Credit Card Fraud"
   ]
  },
  {
   "cell_type": "markdown",
   "metadata": {},
   "source": [
    "We will be detecting credit card fraud based on the different features of our dataset with 3 different models. Here is the Logistic Regression one.\n",
    "\n",
    "We're looking to minimize the False Negative Rate or FNR.\n",
    "\n",
    "Since the dataset is unbalanced, we can try two techniques that may help us have better predictions:\n",
    "\n",
    "    - Adding some noise (gaussian) to the fraud data to create more and reduce the imbalance\n",
    "    - Randomly sample the fraud data and train k models and average them out (or choose the best)\n",
    "    \n",
    " "
   ]
  },
  {
   "cell_type": "code",
   "execution_count": 3,
   "metadata": {},
   "outputs": [],
   "source": [
    "#!pip install pandas_ml"
   ]
  },
  {
   "cell_type": "code",
   "execution_count": 4,
   "metadata": {},
   "outputs": [],
   "source": [
    "import numpy as np\n",
    "import sklearn as sk\n",
    "import pandas as pd\n",
    "import matplotlib.pyplot as plt\n",
    "from pandas_ml import ConfusionMatrix\n",
    "import pandas_ml as pdml\n",
    "from sklearn.preprocessing import scale\n",
    "import random"
   ]
  },
  {
   "cell_type": "code",
   "execution_count": 20,
   "metadata": {},
   "outputs": [],
   "source": [
    "# May have to do this...\n",
    "#!pip install imblearn\n",
    "#!pip install --upgrade sklearn"
   ]
  },
  {
   "cell_type": "code",
   "execution_count": 5,
   "metadata": {},
   "outputs": [
    {
     "data": {
      "text/html": [
       "<div>\n",
       "<style scoped>\n",
       "    .dataframe tbody tr th:only-of-type {\n",
       "        vertical-align: middle;\n",
       "    }\n",
       "\n",
       "    .dataframe tbody tr th {\n",
       "        vertical-align: top;\n",
       "    }\n",
       "\n",
       "    .dataframe thead th {\n",
       "        text-align: right;\n",
       "    }\n",
       "</style>\n",
       "<table border=\"1\" class=\"dataframe\">\n",
       "  <thead>\n",
       "    <tr style=\"text-align: right;\">\n",
       "      <th></th>\n",
       "      <th>Time</th>\n",
       "      <th>V1</th>\n",
       "      <th>V2</th>\n",
       "      <th>V3</th>\n",
       "      <th>V4</th>\n",
       "      <th>V5</th>\n",
       "      <th>V6</th>\n",
       "      <th>V7</th>\n",
       "      <th>V8</th>\n",
       "      <th>V9</th>\n",
       "      <th>...</th>\n",
       "      <th>V21</th>\n",
       "      <th>V22</th>\n",
       "      <th>V23</th>\n",
       "      <th>V24</th>\n",
       "      <th>V25</th>\n",
       "      <th>V26</th>\n",
       "      <th>V27</th>\n",
       "      <th>V28</th>\n",
       "      <th>Amount</th>\n",
       "      <th>Class</th>\n",
       "    </tr>\n",
       "  </thead>\n",
       "  <tbody>\n",
       "    <tr>\n",
       "      <th>0</th>\n",
       "      <td>94069.0</td>\n",
       "      <td>2.041769</td>\n",
       "      <td>0.620998</td>\n",
       "      <td>-2.249565</td>\n",
       "      <td>0.984371</td>\n",
       "      <td>0.544914</td>\n",
       "      <td>-1.704595</td>\n",
       "      <td>0.201337</td>\n",
       "      <td>-0.409674</td>\n",
       "      <td>1.942587</td>\n",
       "      <td>...</td>\n",
       "      <td>-0.058625</td>\n",
       "      <td>0.240824</td>\n",
       "      <td>-0.017077</td>\n",
       "      <td>-0.316000</td>\n",
       "      <td>0.186061</td>\n",
       "      <td>-0.132763</td>\n",
       "      <td>-0.009959</td>\n",
       "      <td>-0.001273</td>\n",
       "      <td>1.00</td>\n",
       "      <td>0</td>\n",
       "    </tr>\n",
       "    <tr>\n",
       "      <th>1</th>\n",
       "      <td>123456.0</td>\n",
       "      <td>0.006247</td>\n",
       "      <td>1.251306</td>\n",
       "      <td>0.518968</td>\n",
       "      <td>4.559864</td>\n",
       "      <td>-0.174524</td>\n",
       "      <td>1.137199</td>\n",
       "      <td>-0.433881</td>\n",
       "      <td>0.406170</td>\n",
       "      <td>-0.681544</td>\n",
       "      <td>...</td>\n",
       "      <td>0.259246</td>\n",
       "      <td>1.048288</td>\n",
       "      <td>0.368142</td>\n",
       "      <td>0.654396</td>\n",
       "      <td>-1.407757</td>\n",
       "      <td>0.206309</td>\n",
       "      <td>-0.206955</td>\n",
       "      <td>-0.121366</td>\n",
       "      <td>25.54</td>\n",
       "      <td>0</td>\n",
       "    </tr>\n",
       "    <tr>\n",
       "      <th>2</th>\n",
       "      <td>1161.0</td>\n",
       "      <td>-0.469449</td>\n",
       "      <td>0.962049</td>\n",
       "      <td>1.629203</td>\n",
       "      <td>0.656461</td>\n",
       "      <td>0.472990</td>\n",
       "      <td>0.007241</td>\n",
       "      <td>1.115001</td>\n",
       "      <td>-0.400979</td>\n",
       "      <td>0.296538</td>\n",
       "      <td>...</td>\n",
       "      <td>-0.152920</td>\n",
       "      <td>0.136660</td>\n",
       "      <td>-0.262445</td>\n",
       "      <td>0.082017</td>\n",
       "      <td>0.212163</td>\n",
       "      <td>-0.416905</td>\n",
       "      <td>-0.284021</td>\n",
       "      <td>-0.370296</td>\n",
       "      <td>13.99</td>\n",
       "      <td>0</td>\n",
       "    </tr>\n",
       "    <tr>\n",
       "      <th>3</th>\n",
       "      <td>165615.0</td>\n",
       "      <td>0.818090</td>\n",
       "      <td>0.788093</td>\n",
       "      <td>-0.183207</td>\n",
       "      <td>1.531968</td>\n",
       "      <td>-0.141943</td>\n",
       "      <td>-1.514639</td>\n",
       "      <td>0.751445</td>\n",
       "      <td>-0.804839</td>\n",
       "      <td>0.540030</td>\n",
       "      <td>...</td>\n",
       "      <td>0.235319</td>\n",
       "      <td>1.027335</td>\n",
       "      <td>-0.060771</td>\n",
       "      <td>0.835488</td>\n",
       "      <td>-0.533162</td>\n",
       "      <td>0.117268</td>\n",
       "      <td>-0.739729</td>\n",
       "      <td>-0.535691</td>\n",
       "      <td>7.98</td>\n",
       "      <td>0</td>\n",
       "    </tr>\n",
       "    <tr>\n",
       "      <th>4</th>\n",
       "      <td>146067.0</td>\n",
       "      <td>-3.104557</td>\n",
       "      <td>2.517414</td>\n",
       "      <td>-0.924742</td>\n",
       "      <td>-0.511207</td>\n",
       "      <td>-1.154805</td>\n",
       "      <td>0.507115</td>\n",
       "      <td>-1.890161</td>\n",
       "      <td>-0.707645</td>\n",
       "      <td>0.454867</td>\n",
       "      <td>...</td>\n",
       "      <td>2.672189</td>\n",
       "      <td>0.251381</td>\n",
       "      <td>0.155163</td>\n",
       "      <td>-0.969267</td>\n",
       "      <td>0.140942</td>\n",
       "      <td>-0.047956</td>\n",
       "      <td>-0.169982</td>\n",
       "      <td>0.021782</td>\n",
       "      <td>22.50</td>\n",
       "      <td>0</td>\n",
       "    </tr>\n",
       "  </tbody>\n",
       "</table>\n",
       "<p>5 rows × 31 columns</p>\n",
       "</div>"
      ],
      "text/plain": [
       "       Time        V1        V2        V3        V4        V5        V6  \\\n",
       "0   94069.0  2.041769  0.620998 -2.249565  0.984371  0.544914 -1.704595   \n",
       "1  123456.0  0.006247  1.251306  0.518968  4.559864 -0.174524  1.137199   \n",
       "2    1161.0 -0.469449  0.962049  1.629203  0.656461  0.472990  0.007241   \n",
       "3  165615.0  0.818090  0.788093 -0.183207  1.531968 -0.141943 -1.514639   \n",
       "4  146067.0 -3.104557  2.517414 -0.924742 -0.511207 -1.154805  0.507115   \n",
       "\n",
       "         V7        V8        V9  ...         V21       V22       V23  \\\n",
       "0  0.201337 -0.409674  1.942587  ...   -0.058625  0.240824 -0.017077   \n",
       "1 -0.433881  0.406170 -0.681544  ...    0.259246  1.048288  0.368142   \n",
       "2  1.115001 -0.400979  0.296538  ...   -0.152920  0.136660 -0.262445   \n",
       "3  0.751445 -0.804839  0.540030  ...    0.235319  1.027335 -0.060771   \n",
       "4 -1.890161 -0.707645  0.454867  ...    2.672189  0.251381  0.155163   \n",
       "\n",
       "        V24       V25       V26       V27       V28  Amount  Class  \n",
       "0 -0.316000  0.186061 -0.132763 -0.009959 -0.001273    1.00      0  \n",
       "1  0.654396 -1.407757  0.206309 -0.206955 -0.121366   25.54      0  \n",
       "2  0.082017  0.212163 -0.416905 -0.284021 -0.370296   13.99      0  \n",
       "3  0.835488 -0.533162  0.117268 -0.739729 -0.535691    7.98      0  \n",
       "4 -0.969267  0.140942 -0.047956 -0.169982  0.021782   22.50      0  \n",
       "\n",
       "[5 rows x 31 columns]"
      ]
     },
     "execution_count": 5,
     "metadata": {},
     "output_type": "execute_result"
    }
   ],
   "source": [
    "df = pd.read_csv('creditcard.csv', low_memory=False)\n",
    "df = df.sample(frac=1).reset_index(drop=True)\n",
    "df.head()"
   ]
  },
  {
   "cell_type": "code",
   "execution_count": 6,
   "metadata": {},
   "outputs": [
    {
     "name": "stdout",
     "output_type": "stream",
     "text": [
      "We have 492 fraud data points and 284315 nonfraudulent data points.\n"
     ]
    }
   ],
   "source": [
    "frauds = df.loc[df['Class'] == 1]\n",
    "non_frauds = df.loc[df['Class'] == 0]\n",
    "print(\"We have\", len(frauds), \"fraud data points and\", len(non_frauds), \"nonfraudulent data points.\")"
   ]
  },
  {
   "cell_type": "code",
   "execution_count": 7,
   "metadata": {},
   "outputs": [
    {
     "data": {
      "image/png": "[encoded data removed]",
      "text/plain": [
       "<matplotlib.figure.Figure at 0x10ac31208>"
      ]
     },
     "metadata": {},
     "output_type": "display_data"
    },
    {
     "name": "stdout",
     "output_type": "stream",
     "text": [
      "This feature looks important based on their distribution with respect to class.\n",
      "We will now zoom in onto the fraud data to see the ranges of amount just for fun.\n"
     ]
    }
   ],
   "source": [
    "ax = frauds.plot.scatter(x='Amount', y='Class', color='Orange', label='Fraud')\n",
    "non_frauds.plot.scatter(x='Amount', y='Class', color='Blue', label='Normal', ax=ax)\n",
    "plt.show()\n",
    "print(\"This feature looks important based on their distribution with respect to class.\")\n",
    "print(\"We will now zoom in onto the fraud data to see the ranges of amount just for fun.\")"
   ]
  },
  {
   "cell_type": "code",
   "execution_count": 9,
   "metadata": {},
   "outputs": [
    {
     "data": {
      "image/png": "[encoded data removed]",
      "text/plain": [
       "<matplotlib.figure.Figure at 0x1a17e4bf28>"
      ]
     },
     "metadata": {},
     "output_type": "display_data"
    }
   ],
   "source": [
    "bx = frauds.plot.scatter(x='Amount', y='Class', color='Orange', label='Fraud')\n",
    "plt.show()"
   ]
  },
  {
   "cell_type": "code",
   "execution_count": 10,
   "metadata": {},
   "outputs": [
    {
     "data": {
      "image/png": "[encoded data removed]",
      "text/plain": [
       "<matplotlib.figure.Figure at 0x1a17f2c160>"
      ]
     },
     "metadata": {},
     "output_type": "display_data"
    },
    {
     "name": "stdout",
     "output_type": "stream",
     "text": [
      "This feature may not be very important because of the similar distribution.\n"
     ]
    }
   ],
   "source": [
    "ax = frauds.plot.scatter(x='V22', y='Class', color='Orange', label='Fraud')\n",
    "non_frauds.plot.scatter(x='V22', y='Class', color='Blue', label='Normal', ax=ax)\n",
    "plt.show()\n",
    "print(\"This feature may not be very important because of the similar distribution.\")"
   ]
  },
  {
   "cell_type": "markdown",
   "metadata": {},
   "source": [
    "# Logistic Regression (vanilla)"
   ]
  },
  {
   "cell_type": "code",
   "execution_count": 11,
   "metadata": {},
   "outputs": [],
   "source": [
    "from sklearn import datasets, linear_model\n",
    "from sklearn.preprocessing import PolynomialFeatures\n",
    "from sklearn.model_selection import train_test_split"
   ]
  },
  {
   "cell_type": "code",
   "execution_count": 12,
   "metadata": {},
   "outputs": [
    {
     "name": "stdout",
     "output_type": "stream",
     "text": [
      "X and y sizes, respectively: 284807 284807\n",
      "Train and test sizes, respectively: 185124 185124 | 99683 99683\n",
      "Total number of frauds: 492 0.001727485630620034\n",
      "Number of frauds on y_test: 168 0.0016853425358386083\n",
      "Number of frauds on y_train: 324 0.0017501782588967396\n"
     ]
    }
   ],
   "source": [
    "X = df.iloc[:,:-1]\n",
    "y = df['Class']\n",
    "\n",
    "print(\"X and y sizes, respectively:\", len(X), len(y))\n",
    "\n",
    "X_train, X_test, y_train, y_test = train_test_split(X, y, test_size=0.35)\n",
    "print(\"Train and test sizes, respectively:\", len(X_train), len(y_train), \"|\", len(X_test), len(y_test))\n",
    "print(\"Total number of frauds:\", len(y.loc[df['Class'] == 1]), len(y.loc[df['Class'] == 1])/len(y))\n",
    "print(\"Number of frauds on y_test:\", len(y_test.loc[df['Class'] == 1]), len(y_test.loc[df['Class'] == 1]) / len(y_test))\n",
    "print(\"Number of frauds on y_train:\", len(y_train.loc[df['Class'] == 1]), len(y_train.loc[df['Class'] == 1])/len(y_train))"
   ]
  },
  {
   "cell_type": "code",
   "execution_count": 13,
   "metadata": {},
   "outputs": [
    {
     "name": "stdout",
     "output_type": "stream",
     "text": [
      "Score:  0.9990269153215694\n"
     ]
    }
   ],
   "source": [
    "logistic = linear_model.LogisticRegression(C=1e5)\n",
    "logistic.fit(X_train, y_train)\n",
    "print(\"Score: \", logistic.score(X_test, y_test))"
   ]
  },
  {
   "cell_type": "code",
   "execution_count": 14,
   "metadata": {},
   "outputs": [],
   "source": [
    "y_predicted = np.array(logistic.predict(X_test))\n",
    "y_right = np.array(y_test)"
   ]
  },
  {
   "cell_type": "code",
   "execution_count": 16,
   "metadata": {},
   "outputs": [
    {
     "name": "stdout",
     "output_type": "stream",
     "text": [
      "Confusion matrix:\n",
      "Predicted  False  True  __all__\n",
      "Actual                         \n",
      "False      99473    42    99515\n",
      "True          55   113      168\n",
      "__all__    99528   155    99683\n"
     ]
    },
    {
     "data": {
      "image/png": "[encoded data removed]",
      "text/plain": [
       "<matplotlib.figure.Figure at 0x1a17f29eb8>"
      ]
     },
     "metadata": {},
     "output_type": "display_data"
    },
    {
     "name": "stdout",
     "output_type": "stream",
     "text": [
      "population: 99683\n",
      "P: 168\n",
      "N: 99515\n",
      "PositiveTest: 155\n",
      "NegativeTest: 99528\n",
      "TP: 113\n",
      "TN: 99473\n",
      "FP: 42\n",
      "FN: 55\n",
      "TPR: 0.6726190476190477\n",
      "TNR: 0.9995779530724012\n",
      "PPV: 0.7290322580645161\n",
      "NPV: 0.999447391688771\n",
      "FPR: 0.0004220469275988544\n",
      "FDR: 0.2709677419354839\n",
      "FNR: 0.3273809523809524\n",
      "ACC: 0.9990269153215694\n",
      "F1_score: 0.6996904024767802\n",
      "MCC: 0.6997727028320816\n",
      "informedness: 0.6721970006914488\n",
      "markedness: 0.728479649753287\n",
      "prevalence: 0.0016853425358386083\n",
      "LRP: 1593.7067743764173\n",
      "LRN: 0.3275191808449577\n",
      "DOR: 4865.995238095238\n",
      "FOR: 0.0005526083112290009\n"
     ]
    }
   ],
   "source": [
    "confusion_matrix = ConfusionMatrix(y_right, y_predicted)\n",
    "print(\"Confusion matrix:\\n%s\" % confusion_matrix)\n",
    "confusion_matrix.plot(normalized=True)\n",
    "plt.show()\n",
    "confusion_matrix.print_stats()"
   ]
  },
  {
   "cell_type": "code",
   "execution_count": 17,
   "metadata": {},
   "outputs": [
    {
     "name": "stdout",
     "output_type": "stream",
     "text": [
      "FNR is 0.3273809523809524\n"
     ]
    }
   ],
   "source": [
    "print(\"FNR is {0}\".format(confusion_matrix.stats()['FNR']))"
   ]
  },
  {
   "cell_type": "markdown",
   "metadata": {},
   "source": [
    "# Logistic Regression with SMOTE over-sampling"
   ]
  },
  {
   "cell_type": "code",
   "execution_count": 21,
   "metadata": {},
   "outputs": [
    {
     "name": "stdout",
     "output_type": "stream",
     "text": [
      "Size of training set after over sampling: 369600\n"
     ]
    }
   ],
   "source": [
    "df2 = pdml.ModelFrame(X_train, target=y_train)\n",
    "sampler = df2.imbalance.over_sampling.SMOTE()\n",
    "sampled = df2.fit_sample(sampler)\n",
    "print(\"Size of training set after over sampling:\", len(sampled))"
   ]
  },
  {
   "cell_type": "code",
   "execution_count": 22,
   "metadata": {},
   "outputs": [
    {
     "name": "stdout",
     "output_type": "stream",
     "text": [
      "Score:  0.9862263374898428\n"
     ]
    }
   ],
   "source": [
    "X_train_sampled = sampled.iloc[:,1:]\n",
    "y_train_sampled = sampled['Class']\n",
    "\n",
    "# NOTE: Scaling makes it worse.\n",
    "# X_train_sampled = scale(X_train_sampled)\n",
    "\n",
    "logistic = linear_model.LogisticRegression(C=1e5)\n",
    "logistic.fit(X_train_sampled, y_train_sampled)\n",
    "print(\"Score: \", logistic.score(X_test, y_test))"
   ]
  },
  {
   "cell_type": "code",
   "execution_count": 23,
   "metadata": {},
   "outputs": [
    {
     "name": "stdout",
     "output_type": "stream",
     "text": [
      "Confusion matrix:\n",
      "Predicted  False  True  __all__\n",
      "Actual                         \n",
      "False      98156  1359    99515\n",
      "True          14   154      168\n",
      "__all__    98170  1513    99683\n"
     ]
    },
    {
     "data": {
      "image/png": "[encoded data removed]",
      "text/plain": [
       "<matplotlib.figure.Figure at 0x112167160>"
      ]
     },
     "metadata": {},
     "output_type": "display_data"
    },
    {
     "name": "stdout",
     "output_type": "stream",
     "text": [
      "population: 99683\n",
      "P: 168\n",
      "N: 99515\n",
      "PositiveTest: 1513\n",
      "NegativeTest: 98170\n",
      "TP: 154\n",
      "TN: 98156\n",
      "FP: 1359\n",
      "FN: 14\n",
      "TPR: 0.9166666666666666\n",
      "TNR: 0.9863437672712656\n",
      "PPV: 0.10178453403833443\n",
      "NPV: 0.999857390241418\n",
      "FPR: 0.013656232728734362\n",
      "FDR: 0.8982154659616656\n",
      "FNR: 0.08333333333333333\n",
      "ACC: 0.9862263374898428\n",
      "F1_score: 0.18322427126710292\n",
      "MCC: 0.30295827790332064\n",
      "informedness: 0.9030104339379323\n",
      "markedness: 0.10164192427975238\n",
      "prevalence: 0.0016853425358386083\n",
      "LRP: 67.12441746382143\n",
      "LRN: 0.08448710895581184\n",
      "DOR: 794.4930095658572\n",
      "FOR: 0.00014260975858205153\n"
     ]
    }
   ],
   "source": [
    "y_predicted1 = np.array(logistic.predict(X_test))\n",
    "y_right1 = np.array(y_test)\n",
    "\n",
    "confusion_matrix1 = ConfusionMatrix(y_right1, y_predicted1)\n",
    "print(\"Confusion matrix:\\n%s\" % confusion_matrix1)\n",
    "confusion_matrix1.plot(normalized=True)\n",
    "plt.show()\n",
    "confusion_matrix1.print_stats()"
   ]
  },
  {
   "cell_type": "code",
   "execution_count": 17,
   "metadata": {},
   "outputs": [
    {
     "name": "stdout",
     "output_type": "stream",
     "text": [
      "FNR is 0.12987012987012986\n"
     ]
    }
   ],
   "source": [
    "print(\"FNR is {0}\".format(confusion_matrix1.stats()['FNR']))"
   ]
  },
  {
   "cell_type": "markdown",
   "metadata": {},
   "source": [
    "# Logistic Regression with balanced class weights"
   ]
  },
  {
   "cell_type": "code",
   "execution_count": 28,
   "metadata": {},
   "outputs": [
    {
     "name": "stdout",
     "output_type": "stream",
     "text": [
      "Best C is 4319.233641724194 with best FNR of 0.06547619047619048.\n"
     ]
    }
   ],
   "source": [
    "best_c, best_fnr = 1, 1\n",
    "for _ in range(20):\n",
    "    c = random.uniform(1, 10000) # regularizationn parameter\n",
    "    logistic = linear_model.LogisticRegression(C=c, class_weight=\"balanced\")\n",
    "    logistic.fit(X_train, y_train)\n",
    "    #print(\"Score: \", logistic.score(X_test, y_test))\n",
    "    y_predicted2 = np.array(logistic.predict(X_test))\n",
    "    y_right2 = np.array(y_test)\n",
    "    confusion_matrix2 = ConfusionMatrix(y_right2, y_predicted2)\n",
    "    #print(\"Confusion matrix:\\n%s\" % confusion_matrix2)\n",
    "    #confusion_matrix2.plot(normalized=True)\n",
    "    #plt.show()\n",
    "    #confusion_matrix2.print_stats()\n",
    "    fnr = confusion_matrix2.stats()['FNR']\n",
    "    if fnr < best_fnr:\n",
    "        best_fnr = fnr\n",
    "        best_c = c\n",
    "print(\"Best C is {0} with best FNR of {1}.\".format(best_c, best_fnr))"
   ]
  },
  {
   "cell_type": "code",
   "execution_count": 29,
   "metadata": {},
   "outputs": [],
   "source": [
    "linear_model.LogisticRegression?"
   ]
  },
  {
   "cell_type": "code",
   "execution_count": null,
   "metadata": {},
   "outputs": [],
   "source": []
  }
 ],
 "metadata": {
  "anaconda-cloud": {},
  "kernelspec": {
   "display_name": "Python 3",
   "language": "python",
   "name": "python3"
  },
  "language_info": {
   "codemirror_mode": {
    "name": "ipython",
    "version": 3
   },
   "file_extension": ".py",
   "mimetype": "text/x-python",
   "name": "python",
   "nbconvert_exporter": "python",
   "pygments_lexer": "ipython3",
   "version": "3.6.4"
  }
 },
 "nbformat": 4,
 "nbformat_minor": 1
}
