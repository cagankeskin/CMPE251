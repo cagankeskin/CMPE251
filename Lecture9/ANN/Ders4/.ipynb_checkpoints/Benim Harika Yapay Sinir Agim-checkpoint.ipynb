{
 "cells": [
  {
   "cell_type": "code",
   "execution_count": 1,
   "metadata": {},
   "outputs": [],
   "source": [
    "# Importing the libraries\n",
    "import numpy as np\n",
    "import matplotlib.pyplot as plt\n",
    "%matplotlib inline  \n",
    "import pandas as pd\n",
    "import warnings\n",
    "warnings.filterwarnings('ignore')\n",
    "import timeit\n",
    "import random"
   ]
  },
  {
   "cell_type": "code",
   "execution_count": 2,
   "metadata": {},
   "outputs": [],
   "source": [
    "class yapay_sinir_agi():\n",
    "    def __init__(self, katmanlar):\n",
    "        self.katmanlar = katmanlar\n",
    "        self.b = [np.random.randn(k, 1)/10 for k in self.katmanlar[1:]] # bias degerleri (ilk katman haric)\n",
    "        self.W = [np.random.randn(k2, k1)/10 for k1, k2 in zip(self.katmanlar[:-1],self.katmanlar[1:])]\n",
    "        self.H = [] # hata\n",
    "\n",
    "    def ag(self):\n",
    "        return self.W, self.b\n",
    "    \n",
    "    def ileribesleme(self, a):\n",
    "        \"\"\"Katman katman yeni a degerleri hesaplaniyor\"\"\"\n",
    "        for w, b in zip(self.W, self.b):\n",
    "            z = np.dot(w, a)+b\n",
    "            a = self.sigmoid(z)\n",
    "        return a\n",
    "    \n",
    "    def geribesleme(self,X,y):\n",
    "        delta_b = [np.zeros(b.shape) for b in self.b]\n",
    "        delta_w = [np.zeros(w.shape) for w in self.W]\n",
    "        a = X; A, Z = [a], []  # A, Z degerleri\n",
    "        for w, b in zip(self.W, self.b):# z ve a degerlerini depolayalim\n",
    "            z = np.dot(w, a) + b\n",
    "            a = self.sigmoid(z)\n",
    "            Z.append(z); A.append(a)\n",
    "           \n",
    "        hata = A[-1] - y # En son katmandaki hata \n",
    "        delta = hata * self.sigmoid_turevi(Z[-1])\n",
    "        delta_b[-1] = delta # Son katmanda W, b'deki degisim  \n",
    "        delta_w[-1] = delta * A[-2].T # ERROR: np.dot(delta, A[-2].T)\n",
    "        \n",
    "        for k in range(2, len(self.katmanlar)): # Hatanin geriye yayilimi\n",
    "            delta = np.dot(self.W[-k+1].T, delta) * self.sigmoid_turevi(Z[-k])\n",
    "            delta_b[-k] = delta\n",
    "            delta_w[-k] = delta * A[-k-1].T # ERROR: np.dot(delta, A[-k-1].T)\n",
    "        return (delta_b, delta_w)  \n",
    "    \n",
    "    def hata(self,X,y):\n",
    "        a = self.ileribesleme(X)\n",
    "        return np.sum(np.power(a-y,2))\n",
    "    \n",
    "    \n",
    "    def gradyan_inis(self, X_train, y_train, alpha, number_steps):\n",
    "        for s in range(number_steps):\n",
    "            i, m = 0,X_train.shape[1]\n",
    "            X, y = X_train[:,[i]], y_train[:,[i]]\n",
    "            tum_delta_b, tum_delta_w = self.geribesleme(X,y)\n",
    "            hata = self.hata(X,y)\n",
    "            \n",
    "            for i in range(1,m): # Tum X kolonlari icin\n",
    "                X, y = X_train[:,[i]], y_train[:,[i]]\n",
    "                delta_b, delta_w = self.geribesleme(X,y)\n",
    "                tum_delta_b = [tdb + db for tdb, db in zip(tum_delta_b, delta_b)]\n",
    "                tum_delta_w = [tdw + dw for tdw, dw in zip(tum_delta_w, delta_w)]\n",
    "                hata += self.hata(X,y) \n",
    "            tum_delta_b = [alpha*tdb for tdb in tum_delta_b]\n",
    "            tum_delta_w = [alpha*tdw for tdw in tum_delta_w]\n",
    "        \n",
    "            self.W = [w - dw for w, dw in zip(self.W, tum_delta_w)]\n",
    "            self.b = [b - db for b, db in zip(self.b, tum_delta_b)]\n",
    "            self.H.append(hata/m)\n",
    "\n",
    "    def fit(self, X_train, y_train, alpha = 0.05, number_steps = 1000):  \n",
    "        X_train = X_train.T # X verileri kolon=gozlem, satir=oznitelik (alistigimizin tersi)\n",
    "        if y_train.ndim == 1: y_train = y_train.reshape(1,y_train.shape[0])\n",
    "        return self.gradyan_inis(X_train, y_train, alpha, number_steps)\n",
    "    \n",
    "    def predict(self, X_test):\n",
    "        if self.katmanlar[-1] == 1 : \n",
    "            tahmin = ysa.ileribesleme(X_test.T) >= 0.5  \n",
    "            t = tahmin.astype('int')\n",
    "            return t[0]\n",
    "        return [np.argmax(self.ileribesleme(x)) for x in X_test.T] \n",
    "    \n",
    "    #### Yardimci Fonksiyonlar\n",
    "    def sigmoid(self,z):\n",
    "        return 1.0/(1.0+np.exp(-z))\n",
    "    def sigmoid_turevi(self,z):\n",
    "        return self.sigmoid(z)*(1-self.sigmoid(z))"
   ]
  },
  {
   "cell_type": "code",
   "execution_count": 3,
   "metadata": {},
   "outputs": [
    {
     "data": {
      "text/plain": [
       "<matplotlib.collections.PathCollection at 0x11a27c6d8>"
      ]
     },
     "execution_count": 3,
     "metadata": {},
     "output_type": "execute_result"
    },
    {
     "data": {
      "image/png": "[encoded data removed]",
      "text/plain": [
       "<matplotlib.figure.Figure at 0x114861438>"
      ]
     },
     "metadata": {},
     "output_type": "display_data"
    }
   ],
   "source": [
    "# Veri Uretelim\n",
    "X = np.random.rand(200,2)\n",
    "y = (X[:,0] > X[:,1]).astype('int')\n",
    "\n",
    "plt.scatter(X[y==0,0], X[y==0,1])\n",
    "plt.scatter(X[y==1,0], X[y==1,1])"
   ]
  },
  {
   "cell_type": "code",
   "execution_count": 4,
   "metadata": {},
   "outputs": [
    {
     "name": "stdout",
     "output_type": "stream",
     "text": [
      "Time:  0.0010961160296574235\n",
      "\t\t\t\t\t---SKlearn Logistic Regression---\n",
      "confusion_matrix:\n",
      " [[26  3]\n",
      " [ 0 21]]\n",
      "accuracy_score:  0.94\n"
     ]
    }
   ],
   "source": [
    "# Splitting the dataset into the Training set and Test set\n",
    "from sklearn.model_selection import train_test_split\n",
    "X_train, X_test, y_train, y_test = train_test_split(X, y, test_size = 0.25, random_state = 0)\n",
    "\n",
    "# Fitting Logistic Regression to the Training set\n",
    "from sklearn.linear_model import LogisticRegression\n",
    "start_time = timeit.default_timer()\n",
    "classifier = LogisticRegression(random_state = 0)\n",
    "classifier.fit(X_train, y_train)\n",
    "# Predicting the Test set results\n",
    "y_pred = classifier.predict(X_test)\n",
    "print(\"Time: \", timeit.default_timer() - start_time)\n",
    "\n",
    "# Making the Confusion Matrix\n",
    "from sklearn.metrics import confusion_matrix, accuracy_score\n",
    "cm = confusion_matrix(y_test, y_pred)\n",
    "print(\"\\t\\t\\t\\t\\t---SKlearn Logistic Regression---\")\n",
    "print(\"confusion_matrix:\\n\", cm)\n",
    "print(\"accuracy_score: \", accuracy_score(y_test, y_pred))"
   ]
  },
  {
   "cell_type": "code",
   "execution_count": 5,
   "metadata": {},
   "outputs": [
    {
     "data": {
      "text/plain": [
       "(array([[ 3.82902913, -4.06934978]]), array([0.22989192]))"
      ]
     },
     "execution_count": 5,
     "metadata": {},
     "output_type": "execute_result"
    }
   ],
   "source": [
    "classifier.coef_, classifier.intercept_"
   ]
  },
  {
   "cell_type": "code",
   "execution_count": 6,
   "metadata": {},
   "outputs": [
    {
     "name": "stdout",
     "output_type": "stream",
     "text": [
      "agirlik matrisleri:\n",
      "[[-0.02836811 -0.08354856]] \n",
      "\n",
      "bias vektorleri:\n",
      "[[0.02138669]] \n",
      "\n",
      "Time:  0.5363612939836457\n",
      "\t\t\t\t\t---Our Own Neural Network---\n",
      "confusion_matrix:\n",
      " [[28  1]\n",
      " [ 0 21]]\n",
      "accuracy_score:  0.98\n"
     ]
    }
   ],
   "source": [
    "# Fitting Our Own Neural Network to the Training set\n",
    "from sklearn.linear_model import LogisticRegression\n",
    "start_time = timeit.default_timer()\n",
    "ysa = yapay_sinir_agi(katmanlar = [2,1])\n",
    "\n",
    "agirlik, bias = ysa.ag()\n",
    "print(\"agirlik matrisleri:\")\n",
    "for w in agirlik: print(w, \"\\n\")\n",
    "print(\"bias vektorleri:\")\n",
    "for b in bias: print(b, \"\\n\")\n",
    "\n",
    "ysa.fit(X_train,y_train, alpha = 0.2, number_steps = 100)\n",
    "tahmin = ysa.predict(X_test)\n",
    "print(\"Time: \", timeit.default_timer() - start_time)\n",
    "\n",
    "# Making the Confusion Matrix\n",
    "cm = confusion_matrix(y_test, tahmin)\n",
    "print(\"\\t\\t\\t\\t\\t---Our Own Neural Network---\")\n",
    "print(\"confusion_matrix:\\n\", cm)\n",
    "print(\"accuracy_score: \", accuracy_score(y_test, tahmin))"
   ]
  },
  {
   "cell_type": "code",
   "execution_count": 7,
   "metadata": {},
   "outputs": [
    {
     "name": "stdout",
     "output_type": "stream",
     "text": [
      "agirlik matrisleri:\n",
      "[[ 8.74541385 -9.26966332]] \n",
      "\n",
      "bias vektorleri:\n",
      "[[0.33803928]] \n",
      "\n"
     ]
    }
   ],
   "source": [
    "agirlik, bias = ysa.ag()\n",
    "print(\"agirlik matrisleri:\")\n",
    "for w in agirlik: print(w, \"\\n\")\n",
    "print(\"bias vektorleri:\")\n",
    "for b in bias: print(b, \"\\n\")"
   ]
  },
  {
   "cell_type": "code",
   "execution_count": 8,
   "metadata": {},
   "outputs": [
    {
     "data": {
      "text/plain": [
       "[<matplotlib.lines.Line2D at 0x1a1f6077b8>]"
      ]
     },
     "execution_count": 8,
     "metadata": {},
     "output_type": "execute_result"
    },
    {
     "data": {
      "image/png": "[encoded data removed]",
      "text/plain": [
       "<matplotlib.figure.Figure at 0x11485ab00>"
      ]
     },
     "metadata": {},
     "output_type": "display_data"
    }
   ],
   "source": [
    "plt.plot(ysa.H)"
   ]
  },
  {
   "cell_type": "code",
   "execution_count": 9,
   "metadata": {},
   "outputs": [
    {
     "name": "stdout",
     "output_type": "stream",
     "text": [
      "agirlik matrisleri:\n",
      "[[-0.12297127  0.14249879]] \n",
      "\n",
      "bias vektorleri:\n",
      "[[-0.07471358]] \n",
      "\n",
      "Time:  0.49686603498412296\n",
      "\t\t\t\t\t---Our Own Neural Network---\n",
      "confusion_matrix:\n",
      " [[27  2]\n",
      " [ 0 21]]\n",
      "accuracy_score:  0.96\n"
     ]
    },
    {
     "data": {
      "text/plain": [
       "[<matplotlib.lines.Line2D at 0x1a1f6d81d0>]"
      ]
     },
     "execution_count": 9,
     "metadata": {},
     "output_type": "execute_result"
    },
    {
     "data": {
      "image/png": "[encoded data removed]",
      "text/plain": [
       "<matplotlib.figure.Figure at 0x1a1f637a20>"
      ]
     },
     "metadata": {},
     "output_type": "display_data"
    }
   ],
   "source": [
    "# Fitting Our Own Neural Network to the Training set\n",
    "from sklearn.linear_model import LogisticRegression\n",
    "start_time = timeit.default_timer()\n",
    "ysa = yapay_sinir_agi(katmanlar = [2,1])\n",
    "\n",
    "agirlik, bias = ysa.ag()\n",
    "print(\"agirlik matrisleri:\")\n",
    "for w in agirlik: print(w, \"\\n\")\n",
    "print(\"bias vektorleri:\")\n",
    "for b in bias: print(b, \"\\n\")\n",
    "\n",
    "ysa.fit(X_train,y_train, alpha = 0.05, number_steps = 100)\n",
    "tahmin = ysa.predict(X_test)\n",
    "print(\"Time: \", timeit.default_timer() - start_time)\n",
    "\n",
    "# Making the Confusion Matrix\n",
    "cm = confusion_matrix(y_test, tahmin)\n",
    "print(\"\\t\\t\\t\\t\\t---Our Own Neural Network---\")\n",
    "print(\"confusion_matrix:\\n\", cm)\n",
    "print(\"accuracy_score: \", accuracy_score(y_test, tahmin))\n",
    "plt.plot(ysa.H)"
   ]
  },
  {
   "cell_type": "code",
   "execution_count": 10,
   "metadata": {},
   "outputs": [
    {
     "name": "stdout",
     "output_type": "stream",
     "text": [
      "agirlik matrisleri:\n",
      "[[ 0.03542272 -0.02816017]] \n",
      "\n",
      "bias vektorleri:\n",
      "[[0.0694099]] \n",
      "\n",
      "Time:  0.6048224159749225\n",
      "\t\t\t\t\t---Our Own Neural Network---\n",
      "confusion_matrix:\n",
      " [[28  1]\n",
      " [ 0 21]]\n",
      "accuracy_score:  0.98\n"
     ]
    },
    {
     "data": {
      "text/plain": [
       "[<matplotlib.lines.Line2D at 0x1a1f78d5c0>]"
      ]
     },
     "execution_count": 10,
     "metadata": {},
     "output_type": "execute_result"
    },
    {
     "data": {
      "image/png": "[encoded data removed]",
      "text/plain": [
       "<matplotlib.figure.Figure at 0x1a1f649470>"
      ]
     },
     "metadata": {},
     "output_type": "display_data"
    }
   ],
   "source": [
    "# Fitting Our Own Neural Network to the Training set\n",
    "from sklearn.linear_model import LogisticRegression\n",
    "start_time = timeit.default_timer()\n",
    "ysa = yapay_sinir_agi(katmanlar = [2,1])\n",
    "\n",
    "agirlik, bias = ysa.ag()\n",
    "print(\"agirlik matrisleri:\")\n",
    "for w in agirlik: print(w, \"\\n\")\n",
    "print(\"bias vektorleri:\")\n",
    "for b in bias: print(b, \"\\n\")\n",
    "\n",
    "ysa.fit(X_train,y_train, alpha = 0.1, number_steps = 100)\n",
    "tahmin = ysa.predict(X_test)\n",
    "print(\"Time: \", timeit.default_timer() - start_time)\n",
    "\n",
    "# Making the Confusion Matrix\n",
    "cm = confusion_matrix(y_test, tahmin)\n",
    "print(\"\\t\\t\\t\\t\\t---Our Own Neural Network---\")\n",
    "print(\"confusion_matrix:\\n\", cm)\n",
    "print(\"accuracy_score: \", accuracy_score(y_test, tahmin))\n",
    "plt.plot(ysa.H)"
   ]
  },
  {
   "cell_type": "code",
   "execution_count": null,
   "metadata": {},
   "outputs": [],
   "source": []
  }
 ],
 "metadata": {
  "kernelspec": {
   "display_name": "Python 3",
   "language": "python",
   "name": "python3"
  },
  "language_info": {
   "codemirror_mode": {
    "name": "ipython",
    "version": 3
   },
   "file_extension": ".py",
   "mimetype": "text/x-python",
   "name": "python",
   "nbconvert_exporter": "python",
   "pygments_lexer": "ipython3",
   "version": "3.6.4"
  }
 },
 "nbformat": 4,
 "nbformat_minor": 2
}
