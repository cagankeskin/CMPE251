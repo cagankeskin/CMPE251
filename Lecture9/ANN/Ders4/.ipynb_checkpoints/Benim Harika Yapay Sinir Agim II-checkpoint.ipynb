{
 "cells": [
  {
   "cell_type": "code",
   "execution_count": 6,
   "metadata": {},
   "outputs": [],
   "source": [
    "# Importing the libraries\n",
    "import numpy as np\n",
    "import matplotlib.pyplot as plt\n",
    "%matplotlib inline  \n",
    "import pandas as pd\n",
    "import warnings\n",
    "warnings.filterwarnings('ignore')\n",
    "import timeit\n",
    "import random"
   ]
  },
  {
   "cell_type": "code",
   "execution_count": 7,
   "metadata": {},
   "outputs": [],
   "source": [
    "class yapay_sinir_agi():\n",
    "    def __init__(self, katmanlar):\n",
    "        self.katmanlar = katmanlar\n",
    "        self.b = [np.random.randn(k, 1)/10 for k in self.katmanlar[1:]] # bias degerleri (ilk katman haric)\n",
    "        self.W = [np.random.randn(k2, k1)/10 for k1, k2 in zip(self.katmanlar[:-1],self.katmanlar[1:])]\n",
    "        self.H = [] # hata\n",
    "\n",
    "    def ag(self):\n",
    "        return self.W, self.b\n",
    "    \n",
    "    def ileribesleme(self, a):\n",
    "        \"\"\"Katman katman yeni a degerleri hesaplaniyor\"\"\"\n",
    "        for w, b in zip(self.W, self.b):\n",
    "            z = np.dot(w, a)+b\n",
    "            a = self.sigmoid(z)\n",
    "        return a\n",
    "    \n",
    "    def geribesleme(self,X,y):\n",
    "        delta_b = [np.zeros(b.shape) for b in self.b]\n",
    "        delta_w = [np.zeros(w.shape) for w in self.W]\n",
    "        a = X; A, Z = [a], []  # A, Z degerleri\n",
    "        for w, b in zip(self.W, self.b):# z ve a degerlerini depolayalim\n",
    "            z = np.dot(w, a) + b\n",
    "            a = self.sigmoid(z)\n",
    "            Z.append(z); A.append(a)\n",
    "           \n",
    "        hata = A[-1] - y # En son katmandaki hata \n",
    "        delta = hata * self.sigmoid_turevi(Z[-1])\n",
    "        delta_b[-1] = delta # Son katmanda W, b'deki degisim  \n",
    "        delta_w[-1] = delta * A[-2].T # ERROR: np.dot(delta, A[-2].T)\n",
    "        \n",
    "        for k in range(2, len(self.katmanlar)): # Hatanin geriye yayilimi\n",
    "            delta = np.dot(self.W[-k+1].T, delta) * self.sigmoid_turevi(Z[-k])\n",
    "            delta_b[-k] = delta\n",
    "            delta_w[-k] = delta * A[-k-1].T # ERROR: np.dot(delta, A[-k-1].T)\n",
    "        return (delta_b, delta_w)  \n",
    "    \n",
    "    def hata(self,X,y):\n",
    "        a = self.ileribesleme(X)\n",
    "        return np.sum(np.power(a-y,2))\n",
    "    \n",
    "    \n",
    "    def gradyan_inis(self, X_train, y_train, alpha, number_steps):\n",
    "        for s in range(number_steps):\n",
    "            i, m = 0,X_train.shape[1]\n",
    "            X, y = X_train[:,[i]], y_train[:,[i]]\n",
    "            tum_delta_b, tum_delta_w = self.geribesleme(X,y)\n",
    "                \n",
    "            for i in range(1,m): # Tum X kolonlari icin\n",
    "                X, y = X_train[:,[i]], y_train[:,[i]]\n",
    "                delta_b, delta_w = self.geribesleme(X,y)\n",
    "                tum_delta_b = [tdb + db for tdb, db in zip(tum_delta_b, delta_b)]\n",
    "                tum_delta_w = [tdw + dw for tdw, dw in zip(tum_delta_w, delta_w)]\n",
    "                    \n",
    "            tum_delta_b = [alpha*tdb for tdb in tum_delta_b]\n",
    "            tum_delta_w = [alpha*tdw for tdw in tum_delta_w]\n",
    "        \n",
    "            self.W = [w - dw for w, dw in zip(self.W, tum_delta_w)]\n",
    "            self.b = [b - db for b, db in zip(self.b, tum_delta_b)]\n",
    "            self.H.append(self.hata(X,y))\n",
    "\n",
    "    def fit(self, X_train, y_train, alpha = 0.05, number_steps = 1000):  \n",
    "        X_train = X_train.T # X verileri kolon=gozlem, satir=oznitelik (alistigimizin tersi)\n",
    "        if y_train.ndim == 1: y_train = y_train.reshape(1,y_train.shape[0])\n",
    "        return self.gradyan_inis(X_train, y_train, alpha, number_steps)\n",
    "    \n",
    "    def predict(self, X_test):\n",
    "        if self.katmanlar[-1] == 1 : \n",
    "            tahmin = ysa.ileribesleme(X_test.T) >= 0.5  \n",
    "            t = tahmin.astype('int')\n",
    "            return t[0]\n",
    "        return np.argmax(ysa.ileribesleme(X_test.T), axis= 0)\n",
    "    \n",
    "    #### Yardimci Fonksiyonlar\n",
    "    def sigmoid(self,z):\n",
    "        return 1.0/(1.0+np.exp(-z))\n",
    "    def sigmoid_turevi(self,z):\n",
    "        return self.sigmoid(z)*(1-self.sigmoid(z))\n",
    "    def checkDimension(x):\n",
    "        if x.ndim == 1: return x.reshape(x.shape[0], 1)\n",
    "        return x"
   ]
  },
  {
   "cell_type": "code",
   "execution_count": 9,
   "metadata": {},
   "outputs": [
    {
     "data": {
      "image/png": "[encoded data removed]",
      "text/plain": [
       "<matplotlib.figure.Figure at 0x1a0ac51a90>"
      ]
     },
     "metadata": {},
     "output_type": "display_data"
    },
    {
     "name": "stdout",
     "output_type": "stream",
     "text": [
      "Etiket: 0\n",
      "(537, 64)\n",
      "(537,)\n",
      "ogrenme kumesinin uzunlugu:  402\n",
      "test kumesinin uzunlugu:  135\n",
      "Time:  0.42785366997122765\n",
      "\t\t\t\t\t---SKlearn Multilayer Perceptron Network---\n",
      "confusion_matrix:\n",
      " [[36  0  0]\n",
      " [ 0 45  0]\n",
      " [ 0  0 54]]\n",
      "accuracy_score:  1.0\n"
     ]
    }
   ],
   "source": [
    "#Rakamlar veri kümesini yüklüyoruz.\n",
    "from sklearn.datasets import load_digits\n",
    "#Veri kümesini etiket değerleriyle birlikte yükleyelim.\n",
    "X,y = load_digits(return_X_y=True)\n",
    "\n",
    "rakam1 = X[0]\n",
    "rakam1 = np.reshape(rakam1, (8,8))\n",
    "\n",
    "plt.figure(figsize= (2,2))\n",
    "plt.imshow(rakam1, cmap=\"gray_r\")\n",
    "plt.show()\n",
    "etiket1 = y[0]\n",
    "print('Etiket: ' + str(etiket1))\n",
    "\n",
    "# Bu veri kumesinden sadece 0 ve 1 rakamlarini secelim\n",
    "X= X[y < 2]\n",
    "y= y[y < 2]\n",
    "\n",
    "print(X.shape)\n",
    "print(y.shape)\n",
    "\n",
    "#################################################\n",
    "# Datayi train ve test olark ayir\n",
    "from sklearn.model_selection import train_test_split\n",
    "X_train, X_test, y_train, y_test = train_test_split(X, y)\n",
    "print(\"ogrenme kumesinin uzunlugu: \", len(X_train))\n",
    "print(\"test kumesinin uzunlugu: \", len(X_test))\n",
    "\n",
    "#################################################\n",
    "# Datayi normalize et \n",
    "#.      Standardize features by removing the mean and scaling to unit variance\n",
    "#.      Centering and scaling happen independently on each feature\n",
    "from sklearn.preprocessing import StandardScaler\n",
    "scaler = StandardScaler()\n",
    "\n",
    "# Fit only to the training data\n",
    "scaler.fit(X_train)\n",
    "\n",
    "# Now apply the transformations to the data:\n",
    "X_train = scaler.transform(X_train)\n",
    "X_test = scaler.transform(X_test)\n",
    "\n",
    "#################################################\n",
    "# yapay ogrenme\n",
    "# Agin katmanlari 2 (girdi), 3(ara) , 1(cikti) \n",
    "    # SADECE ara katman degerlerini MLPClassifier'a veriyoruz\n",
    "    # sigmoid icin activation= 'logistic' seciyoruz\n",
    "from sklearn.neural_network import MLPClassifier\n",
    "start_time = timeit.default_timer()\n",
    "mlp = MLPClassifier(activation= 'logistic', hidden_layer_sizes=(3),max_iter=500)\n",
    "mlp.fit(X_train,y_train)\n",
    "#################################################\n",
    "# tahminde bulun\n",
    "y_pred = mlp.predict(X_test)\n",
    "print(\"Time: \", timeit.default_timer() - start_time)\n",
    "\n",
    "# Making the Confusion Matrix\n",
    "from sklearn.metrics import confusion_matrix, accuracy_score\n",
    "cm = confusion_matrix(y_test, y_pred)\n",
    "print(\"\\t\\t\\t\\t\\t---SKlearn Multilayer Perceptron Network---\")\n",
    "print(\"confusion_matrix:\\n\", cm)\n",
    "print(\"accuracy_score: \", accuracy_score(y_test, y_pred))"
   ]
  },
  {
   "cell_type": "code",
   "execution_count": 11,
   "metadata": {},
   "outputs": [
    {
     "name": "stdout",
     "output_type": "stream",
     "text": [
      "Time:  2.904732410039287\n",
      "\t\t\t\t\t---Our Own Neural Network---\n",
      "confusion_matrix:\n",
      " [[36  0  0]\n",
      " [ 0  0 45]\n",
      " [ 0  0 54]]\n",
      "accuracy_score:  0.6666666666666666\n"
     ]
    },
    {
     "data": {
      "text/plain": [
       "[<matplotlib.lines.Line2D at 0x1a1547f2b0>]"
      ]
     },
     "execution_count": 11,
     "metadata": {},
     "output_type": "execute_result"
    },
    {
     "data": {
      "image/png": "[encoded data removed]",
      "text/plain": [
       "<matplotlib.figure.Figure at 0x1a0ac812b0>"
      ]
     },
     "metadata": {},
     "output_type": "display_data"
    }
   ],
   "source": [
    "# Fitting Our Own Neural Network to the Training set\n",
    "from sklearn.linear_model import LogisticRegression\n",
    "start_time = timeit.default_timer()\n",
    "ysa = yapay_sinir_agi(katmanlar = [64,6,1])\n",
    "ysa.fit(X_train,y_train, alpha = 0.1, number_steps = 100)\n",
    "tahmin = ysa.predict(X_test)\n",
    "print(\"Time: \", timeit.default_timer() - start_time)\n",
    "\n",
    "# Making the Confusion Matrix\n",
    "cm = confusion_matrix(y_test, tahmin)\n",
    "print(\"\\t\\t\\t\\t\\t---Our Own Neural Network---\")\n",
    "print(\"confusion_matrix:\\n\", cm)\n",
    "print(\"accuracy_score: \", accuracy_score(y_test, tahmin))\n",
    "plt.plot(ysa.H)"
   ]
  },
  {
   "cell_type": "code",
   "execution_count": null,
   "metadata": {},
   "outputs": [],
   "source": [
    "#Rakamlar veri kümesini yüklüyoruz.\n",
    "from sklearn.datasets import load_digits\n",
    "#Veri kümesini etiket değerleriyle birlikte yükleyelim.\n",
    "X,y = load_digits(return_X_y=True)\n",
    "\n",
    "#################################################\n",
    "# Datayi train ve test olark ayir\n",
    "from sklearn.model_selection import train_test_split\n",
    "X_train, X_test, y_train, y_test = train_test_split(X, y)\n",
    "print(\"ogrenme kumesinin uzunlugu: \", len(X_train))\n",
    "print(\"test kumesinin uzunlugu: \", len(X_test))\n",
    "\n",
    "#################################################\n",
    "# Datayi normalize et \n",
    "#.      Standardize features by removing the mean and scaling to unit variance\n",
    "#.      Centering and scaling happen independently on each feature\n",
    "from sklearn.preprocessing import StandardScaler\n",
    "scaler = StandardScaler()\n",
    "\n",
    "# Fit only to the training data\n",
    "scaler.fit(X_train)\n",
    "\n",
    "# Now apply the transformations to the data:\n",
    "X_train = scaler.transform(X_train)\n",
    "X_test = scaler.transform(X_test)\n",
    "\n",
    "#################################################\n",
    "# yapay ogrenme\n",
    "# Agin katmanlari 2 (girdi), 3(ara) , 1(cikti) \n",
    "    # SADECE ara katman degerlerini MLPClassifier'a veriyoruz\n",
    "    # sigmoid icin activation= 'logistic' seciyoruz\n",
    "from sklearn.neural_network import MLPClassifier\n",
    "start_time = timeit.default_timer()\n",
    "mlp = MLPClassifier(activation= 'logistic', hidden_layer_sizes=(3),max_iter=500)\n",
    "mlp.fit(X_train,y_train)\n",
    "#################################################\n",
    "# tahminde bulun\n",
    "y_pred = mlp.predict(X_test)\n",
    "print(\"Time: \", timeit.default_timer() - start_time)\n",
    "\n",
    "# Making the Confusion Matrix\n",
    "from sklearn.metrics import confusion_matrix, accuracy_score\n",
    "cm = confusion_matrix(y_test, y_pred)\n",
    "print(\"\\t\\t\\t\\t\\t---SKlearn Multilayer Perceptron---\")\n",
    "print(\"confusion_matrix:\\n\", cm)\n",
    "print(\"accuracy_score: \", accuracy_score(y_test, y_pred))"
   ]
  },
  {
   "cell_type": "code",
   "execution_count": null,
   "metadata": {},
   "outputs": [],
   "source": [
    "# Fitting Our Own Neural Network to the Training set\n",
    "start_time = timeit.default_timer()\n",
    "ysa = yapay_sinir_agi(katmanlar = [64,6,10])\n",
    "ysa.fit(X_train,y_train, alpha = 0.9, number_steps = 100)\n",
    "\n",
    "#zs = np.zeros((10,y_test.shape[0]))\n",
    "#for c,r in enumerate(f): zs[r,c] = 1\n",
    "    \n",
    "#tahmin = [ysa.predict(zs[:,y].reshape(1,10)) for y in range(y_test.shape[0])]\n",
    "tahmin = ysa.predict(X_test)\n",
    "print(\"Time: \", timeit.default_timer() - start_time)\n",
    "\n",
    "# Making the Confusion Matrix\n",
    "cm = confusion_matrix(y_test, tahmin)\n",
    "print(\"\\t\\t\\t\\t\\t---Our Own Neural Network---\")\n",
    "print(\"confusion_matrix:\\n\", cm)\n",
    "print(\"accuracy_score: \", accuracy_score(y_test, tahmin))\n",
    "plt.plot(ysa.H)"
   ]
  },
  {
   "cell_type": "code",
   "execution_count": null,
   "metadata": {},
   "outputs": [],
   "source": [
    "y_train.shape"
   ]
  },
  {
   "cell_type": "code",
   "execution_count": null,
   "metadata": {},
   "outputs": [],
   "source": [
    "y_train"
   ]
  },
  {
   "cell_type": "code",
   "execution_count": null,
   "metadata": {},
   "outputs": [],
   "source": [
    "y_pred"
   ]
  },
  {
   "cell_type": "code",
   "execution_count": null,
   "metadata": {},
   "outputs": [],
   "source": [
    "ys = np.zeros((len(set(y_train)),len(y_train)))\n",
    "for c,r in enumerate(y_train): ys[r,c] = 1"
   ]
  },
  {
   "cell_type": "code",
   "execution_count": null,
   "metadata": {},
   "outputs": [],
   "source": [
    "zs.shape"
   ]
  },
  {
   "cell_type": "code",
   "execution_count": null,
   "metadata": {},
   "outputs": [],
   "source": [
    "enumerate(f)"
   ]
  },
  {
   "cell_type": "code",
   "execution_count": null,
   "metadata": {},
   "outputs": [],
   "source": [
    "zs[:,1].reshape(10,1)"
   ]
  },
  {
   "cell_type": "code",
   "execution_count": null,
   "metadata": {},
   "outputs": [],
   "source": [
    "len(set(y_train)), len(y_train)"
   ]
  },
  {
   "cell_type": "code",
   "execution_count": null,
   "metadata": {},
   "outputs": [],
   "source": [
    "zs[:,:13].shape"
   ]
  },
  {
   "cell_type": "code",
   "execution_count": null,
   "metadata": {},
   "outputs": [],
   "source": [
    "y_train[:13]"
   ]
  },
  {
   "cell_type": "code",
   "execution_count": null,
   "metadata": {},
   "outputs": [],
   "source": [
    "ysa.ileribesleme(X_train[1].reshape(64,1))"
   ]
  },
  {
   "cell_type": "code",
   "execution_count": null,
   "metadata": {},
   "outputs": [],
   "source": [
    "X_train[0].shape"
   ]
  },
  {
   "cell_type": "code",
   "execution_count": null,
   "metadata": {},
   "outputs": [],
   "source": [
    "def checkDimension(x):\n",
    "    if x.ndim == 1: \n",
    "        return x.reshape(x.shape[0], 1)\n",
    "    return x"
   ]
  },
  {
   "cell_type": "code",
   "execution_count": null,
   "metadata": {},
   "outputs": [],
   "source": [
    "z = X_train[0]\n",
    "print(z.shape)\n",
    "z = checkDimension(z)\n",
    "print(z.shape)"
   ]
  },
  {
   "cell_type": "code",
   "execution_count": null,
   "metadata": {},
   "outputs": [],
   "source": [
    "z"
   ]
  },
  {
   "cell_type": "code",
   "execution_count": null,
   "metadata": {},
   "outputs": [],
   "source": [
    "z.T.shape"
   ]
  },
  {
   "cell_type": "code",
   "execution_count": null,
   "metadata": {},
   "outputs": [],
   "source": []
  }
 ],
 "metadata": {
  "kernelspec": {
   "display_name": "Python 3",
   "language": "python",
   "name": "python3"
  },
  "language_info": {
   "codemirror_mode": {
    "name": "ipython",
    "version": 3
   },
   "file_extension": ".py",
   "mimetype": "text/x-python",
   "name": "python",
   "nbconvert_exporter": "python",
   "pygments_lexer": "ipython3",
   "version": "3.6.4"
  }
 },
 "nbformat": 4,
 "nbformat_minor": 2
}
