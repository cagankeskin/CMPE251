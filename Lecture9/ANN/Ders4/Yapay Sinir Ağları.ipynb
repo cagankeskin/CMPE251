{
 "cells": [
  {
   "cell_type": "markdown",
   "metadata": {},
   "source": [
    "# Yapay Sinir Ağları\n",
    "\n",
    "![](resim/network.png)\n",
    "\n",
    "\n",
    "\n",
    "## İleri Besleme\n",
    "\n",
    "- $ Z(t) = W(t)A(t-1) + b(t)  $\n",
    "- $ A(t) = \\sigma(Z(t))  $\n",
    "\n",
    "$$\n",
    "Z(t) = \n",
    "\\begin{bmatrix}\n",
    ". \\\\\n",
    "z_2(t) \\\\\n",
    ". \\\\\n",
    ". \\\\\n",
    "\\end{bmatrix}\n",
    "=\n",
    "\\begin{bmatrix}\n",
    ".       & . & . \\\\\n",
    " w_{i1}(t)       & w_{i2}(t)  & w_{i3}(t)  \\\\\n",
    ".       & . & . \\\\\n",
    ".       & . & . \\\\\n",
    "\\end{bmatrix}\n",
    "\\begin{bmatrix}\n",
    "a_1(t-1) \\\\\n",
    "a_2(t-1)\\\\\n",
    "a_3(t-1)\\\\\n",
    "\\end{bmatrix}\n",
    "+\n",
    "\\begin{bmatrix}\n",
    ". \\\\\n",
    "b_2(t) \\\\\n",
    ". \\\\\n",
    ". \\\\\n",
    "\\end{bmatrix}\n",
    "$$\n",
    "\n",
    "#### Yardımcı Türevler\n",
    "$$\n",
    "\\frac{dz_i(t)}{ dw_{ij}(t)} = a_j(t-1)\n",
    "\\;\\;\\;\\text{   ve   }\\;\\;\\;\n",
    "\\frac{dz_i(t)}{db_{i}(t)} = 1\n",
    "$$\n",
    "ayrıca\n",
    "\n",
    "$$\n",
    "\\frac{dz_i(t)}{dz_j(t-1)} = \n",
    "\\frac{dz_i(t)}{da_j(t-1)} \\frac{da_j(t-1)}{dz_j(t-1)} =  \n",
    "w_{ij}(t) \\sigma'(z_j(t-1)) \n",
    "$$\n",
    "\n",
    "\n",
    "## Geri Besleme\n",
    "#### Odak\n",
    "\n",
    "$$\n",
    "\\triangle_i(t) =\n",
    "\\frac{dH}{ dz_{i}(t)} \n",
    "$$\n",
    "#### Aranılan Türevler\n",
    "$$\n",
    "\\frac{dH}{ dw_{ij}(t)} = \n",
    "\\frac{dH}{ dz_i(t)}\n",
    "\\frac{dz_i(t)}{ dw_{ij}(t)} =\n",
    "\\triangle_i(t) a_j(t-1)\n",
    "$$\n",
    "ve \n",
    "$$\n",
    "\\frac{dH}{ db_{i}(t)} \n",
    "=\\frac{dH}{ dz_i(t)}\n",
    "\\frac{dz_i(t)}{ db_{i}(t)} \n",
    "= \\triangle_i(t)\n",
    "$$\n",
    "\n",
    "#### Geri yayılım\n",
    "\n",
    "![](resim/geriyayilim.png)\n",
    "\n",
    "$t.$ katmandaki bütün $\\triangle_i(t)$ biliniyorsa, bir önceki katmandaki $\\triangle_j(t-1)$ nasıl hesaplanır?\n",
    "\n",
    "\n",
    "$$\n",
    "\\triangle_j(t-1) =\n",
    "\\frac{dH}{ dz_{j}(t-1)} \n",
    "= \\sum_i \\frac{dH}{ dz_{i}(t)} \\frac{dz_i(t)}{dz_j(t-1)}\n",
    "= \\sum_i \\triangle_i(t) w_{ij}(t) \\sigma'(z_j(t-1)) \n",
    "$$\n",
    "\n",
    "Dolayısıyla\n",
    "$$\n",
    "\\triangle(t-1) \n",
    "= W^T(t) \\triangle(t)  * \\sigma'(z_j(t-1)) \n",
    "$$"
   ]
  },
  {
   "cell_type": "markdown",
   "metadata": {},
   "source": [
    "# Geri yayılım Algoritması\n",
    "#### Gradyan iniş\n",
    "![](resim/gradyan.png)\n",
    "### Hata\n",
    "$$\n",
    "H = \\frac{1}{2n} \\sum^n_{i=1} (y_i - a_i(T))^2\n",
    "$$\n",
    "\n",
    "### Hatanın son katmana göre türevi\n",
    "$$\n",
    "\\triangle(T) =  \\frac{dH}{ dz(T)} = \\frac{dH}{ da(T)} \\frac{da(T)}{ dz(T)}\n",
    "= (a(T) - y) * \\sigma'(z(T))\n",
    "$$\n",
    "\n",
    "### Hatanın geri yayılımı\n",
    "$$\n",
    "\\triangle(t-1) \n",
    "= W^T(t) \\triangle(t)  * \\sigma'(z_j(t-1)) \n",
    "$$\n",
    "\n",
    "### En iyi parametreleri bulmak\n",
    "$$\n",
    "\\frac{dH}{ dw_{ij}(t)} = \n",
    "\\triangle_i(t) a_j(t-1)\n",
    "$$\n",
    "ve \n",
    "$$\n",
    "\\frac{dH}{ db_{i}(t)} \n",
    "= \\triangle_i(t)\n",
    "$$\n",
    "\n",
    "\n",
    "# Görüntülerde duygu tanıma\n",
    "Burada öğrendiklerimizi ve yazdfığımız YSA kodunu şu veri seti üzerinde deneyebilirsiniz.\n",
    "\n",
    "https://www.kaggle.com/c/challenges-in-representation-learning-facial-expression-recognition-challenge\n"
   ]
  },
  {
   "cell_type": "code",
   "execution_count": 14,
   "metadata": {},
   "outputs": [],
   "source": [
    "# Importing the libraries\n",
    "import numpy as np\n",
    "import matplotlib.pyplot as plt\n",
    "%matplotlib inline  \n",
    "import pandas as pd\n",
    "import warnings\n",
    "warnings.filterwarnings('ignore')\n",
    "import timeit\n",
    "import random"
   ]
  },
  {
   "cell_type": "code",
   "execution_count": 15,
   "metadata": {},
   "outputs": [],
   "source": [
    "class yapay_sinir_agi():\n",
    "    def __init__(self, katmanlar):\n",
    "        self.katmanlar = katmanlar\n",
    "        self.b = [np.random.randn(k, 1) for k in self.katmanlar[1:]] # bias degerleri (ilk katman haric)\n",
    "        self.W = [np.random.randn(k2, k1) for k1, k2 in zip(self.katmanlar[:-1],self.katmanlar[1:])]\n",
    "        self.H = [] # hata\n",
    "        \n",
    "        self.onlyOnce = True\n",
    "\n",
    "    def ag(self):\n",
    "        return self.W, self.b\n",
    "    \n",
    "    def ileribesleme(self, a):\n",
    "        \"\"\"Katman katman yeni a degerleri hesaplaniyor\"\"\"\n",
    "        a = self.checkDimension(a)\n",
    "        for w, b in zip(self.W, self.b):\n",
    "            z = np.dot(w, a)+b\n",
    "            a = self.sigmoid(z)\n",
    "        return a\n",
    "    \n",
    "    def geribesleme(self,X,y):\n",
    "        delta_b = [np.zeros(b.shape) for b in self.b]\n",
    "        delta_w = [np.zeros(w.shape) for w in self.W]\n",
    "        a = X; A, Z = [a], []  # A, Z degerleri\n",
    "        for w, b in zip(self.W, self.b):# z ve a degerlerini depolayalim\n",
    "            z = np.dot(w, a) + b\n",
    "            a = self.sigmoid(z)\n",
    "            Z.append(z); A.append(a)\n",
    "            \n",
    "            self.printShape(b, \"b\", w, \"w\")\n",
    "\n",
    "\n",
    "        \n",
    "        hata = A[-1] - y # En son katmandaki hata \n",
    "        delta = hata * self.sigmoid_turevi(Z[-1])\n",
    "        delta_b[-1] = delta # Son katmanda W, b'deki degisim  \n",
    "        delta_w[-1] = delta * A[-2].T # ERROR: np.dot(delta, A[-2].T)\n",
    "        \n",
    "        self.printShape(delta_b[-1], \"delta_b[-1]\", delta_w[-1], \"delta_w[-1]\")\n",
    "        \n",
    "        for k in range(2, len(self.katmanlar)): # Hatanin geriye yayilimi\n",
    "            delta = np.dot(self.W[-k+1].T, delta) * self.sigmoid_turevi(Z[-k])\n",
    "            delta_b[-k] = delta\n",
    "            delta_w[-k] = delta * A[-k-1].T # ERROR: np.dot(delta, A[-k-1].T)\n",
    "            \n",
    "            self.printShape(delta_b[-k], \"delta_b[-k]\", delta_w[-k], \"delta_w[-k]\")\n",
    "        self.onlyOnce = False\n",
    "\n",
    "        return (delta_b, delta_w)  \n",
    "    \n",
    "    def hata(self,X,y):\n",
    "        a = self.ileribesleme(X)\n",
    "        if a.shape != y.shape: print(hata)\n",
    "        return np.sum(np.power(a-y,2))\n",
    "    \n",
    "    \n",
    "    def gradyan_inis(self, X_train, y_train, alpha, number_steps):\n",
    "        print(\"X_train.shape\",X_train.shape)\n",
    "        print(\"y_train.shape\",y_train.shape)\n",
    "        for s in range(number_steps):\n",
    "            i, m = 0,X_train.shape[1]\n",
    "            X, y = X_train[:,[i]], y_train[:,[i]]\n",
    "            tum_delta_b, tum_delta_w = self.geribesleme(X,y)\n",
    "            hata = self.hata(X,y)\n",
    "            \n",
    "            for i in range(1,m): # Tum X kolonlari icin\n",
    "                X, y = X_train[:,[i]], y_train[:,[i]]\n",
    "                delta_b, delta_w = self.geribesleme(X,y)\n",
    "                tum_delta_b = [tdb + db for tdb, db in zip(tum_delta_b, delta_b)]\n",
    "                tum_delta_w = [tdw + dw for tdw, dw in zip(tum_delta_w, delta_w)]\n",
    "                hata += self.hata(X,y)\n",
    "                    \n",
    "            tum_delta_b = [alpha*tdb for tdb in tum_delta_b]\n",
    "            tum_delta_w = [alpha*tdw for tdw in tum_delta_w]\n",
    "        \n",
    "            self.W = [w - dw for w, dw in zip(self.W, tum_delta_w)]\n",
    "            self.b = [b - db for b, db in zip(self.b, tum_delta_b)]\n",
    "            self.H.append(hata/m)\n",
    "\n",
    "    def fit(self, X_train, y_train, alpha = 0.0000001, number_steps = 1000):  \n",
    "        X_train = X_train.T # X verileri kolon=gozlem, satir=oznitelik (alistigimizin tersi)\n",
    "        y_train = self.checkOutputLayer(y_train)\n",
    "        return self.gradyan_inis(X_train, y_train, alpha, number_steps)\n",
    "    \n",
    "    def predict(self, X_test):\n",
    "        if self.katmanlar[-1] == 1 : \n",
    "            tahmin = self.ileribesleme(X_test.T) >= 0.5  \n",
    "            t = tahmin.astype('int')\n",
    "            return t[0]\n",
    "        return np.argmax(self.ileribesleme(X_test.T), axis= 0)\n",
    "    \n",
    "    #### Yardimci Fonksiyonlar\n",
    "    def sigmoid(self,z):\n",
    "        return 1.0/(1.0+np.exp(-z))\n",
    "    def sigmoid_turevi(self,z):\n",
    "        return self.sigmoid(z)*(1-self.sigmoid(z))\n",
    "    def checkDimension(self,x):\n",
    "        if x.ndim == 1: return x.reshape(x.shape[0], 1)\n",
    "        return x\n",
    "    def checkOutputLayer(self, y):\n",
    "        if len(set(y)) == 2: return y.reshape(1,y.shape[0])\n",
    "        y_vec = np.zeros((len(set(y)),len(y)))\n",
    "        for c,r in enumerate(y):  y_vec[r,c] = 1\n",
    "        return y_vec\n",
    "    def printShape(self, b, bs, w, ws):\n",
    "        if self.onlyOnce == True: print(bs, \".shape: \",b.shape,\" \", ws ,\".shape: \",w.shape)"
   ]
  },
  {
   "cell_type": "code",
   "execution_count": 38,
   "metadata": {},
   "outputs": [
    {
     "data": {
      "image/png": "[encoded data removed]",
      "text/plain": [
       "<matplotlib.figure.Figure at 0x1a11cdd208>"
      ]
     },
     "metadata": {},
     "output_type": "display_data"
    },
    {
     "name": "stdout",
     "output_type": "stream",
     "text": [
      "Etiket: 9\n"
     ]
    }
   ],
   "source": [
    "#Rakamlar veri kümesini yüklüyoruz.\n",
    "from sklearn.datasets import load_digits\n",
    "#Veri kümesini etiket değerleriyle birlikte yükleyelim.\n",
    "X,y = load_digits(return_X_y=True)\n",
    "\n",
    "ind = 514\n",
    "rakam1 = X[ind]\n",
    "rakam1 = np.reshape(rakam1, (8,8))\n",
    "\n",
    "plt.figure(figsize= (2,2))\n",
    "plt.imshow(rakam1, cmap=\"gray_r\")\n",
    "\n",
    "etiket1 = y[ind]\n",
    "print('Etiket: ' + str(etiket1))"
   ]
  },
  {
   "cell_type": "code",
   "execution_count": 80,
   "metadata": {},
   "outputs": [
    {
     "data": {
      "image/png": "[encoded data removed]",
      "text/plain": [
       "<matplotlib.figure.Figure at 0x1a16407e48>"
      ]
     },
     "metadata": {},
     "output_type": "display_data"
    }
   ],
   "source": [
    "fig = plt.figure()\n",
    "fig.subplots_adjust(hspace=1.6, wspace=1.2)\n",
    "for i in range(1,25):\n",
    "    ax = fig.add_subplot(4, 6, i)\n",
    "    plt.imshow(np.reshape(X[i*50], (8,8)), cmap=\"gray_r\")\n",
    "    plt.title('Etiket: ' + str(y[i*50]))"
   ]
  },
  {
   "cell_type": "code",
   "execution_count": 17,
   "metadata": {},
   "outputs": [],
   "source": [
    "def loadRdigits(r = 2):\n",
    "    \n",
    "    #Rakamlar veri kümesini yüklüyoruz.\n",
    "    from sklearn.datasets import load_digits\n",
    "    #Veri kümesini etiket değerleriyle birlikte yükleyelim.\n",
    "    DX,Dy = load_digits(return_X_y=True)\n",
    "\n",
    "    # Bu veri kumesinden sadece 0, 1 ..r  rakamlarini secelim\n",
    "    X= DX[Dy < r]\n",
    "    y= Dy[Dy < r]\n",
    "\n",
    "    #################################################\n",
    "    # Datayi train ve test olark ayir\n",
    "    from sklearn.model_selection import train_test_split\n",
    "    X_train, X_test, y_train, y_test = train_test_split(X, y)\n",
    "    print(\"ogrenme kumesinin uzunlugu: \", len(X_train))\n",
    "    print(\"test kumesinin uzunlugu: \", len(X_test))\n",
    "\n",
    "    #################################################\n",
    "    # Datayi normalize et \n",
    "    #.      Standardize features by removing the mean and scaling to unit variance\n",
    "    #.      Centering and scaling happen independently on each feature\n",
    "    from sklearn.preprocessing import StandardScaler\n",
    "    scaler = StandardScaler()\n",
    "\n",
    "    # Fit only to the training data\n",
    "    scaler.fit(X_train)\n",
    "\n",
    "    # Now apply the transformations to the data:\n",
    "    X_train_scaled = scaler.transform(X_train)\n",
    "    X_test_scaled = scaler.transform(X_test)\n",
    "    return X_train_scaled, X_test_scaled, y_train, y_test"
   ]
  },
  {
   "cell_type": "code",
   "execution_count": 18,
   "metadata": {},
   "outputs": [],
   "source": [
    "def runNN(r, alpha = 0.001, number_steps = 100):\n",
    "    if r == 2: r = 1\n",
    "    # Fitting Our Own Neural Network to the Training set\n",
    "    start_time = timeit.default_timer()\n",
    "    ysa = yapay_sinir_agi(katmanlar = [64,12,r])\n",
    "    ysa.fit(X_train_scaled,y_train, alpha, number_steps)\n",
    "\n",
    "    tahmin = ysa.predict(X_test_scaled)\n",
    "    print(\"Time: \", timeit.default_timer() - start_time)\n",
    "\n",
    "    # Making the Confusion Matrix\n",
    "    from sklearn.metrics import confusion_matrix, accuracy_score\n",
    "    cm = confusion_matrix(y_test, tahmin)\n",
    "    print(\"\\t\\t\\t\\t\\t---Our Own Neural Network---\")\n",
    "    print(\"confusion_matrix:\\n\", cm)\n",
    "    print(\"accuracy_score: \", accuracy_score(y_test, tahmin))\n",
    "    plt.plot(ysa.H)\n",
    "    print(\"\\nMatrix Shape\")\n",
    "    for w, b in zip(ysa.W, ysa.b):\n",
    "        print(\"b.shape: \",b.shape,\" w.shape: \",w.shape)"
   ]
  },
  {
   "cell_type": "code",
   "execution_count": 21,
   "metadata": {},
   "outputs": [
    {
     "name": "stdout",
     "output_type": "stream",
     "text": [
      "ogrenme kumesinin uzunlugu:  270\n",
      "test kumesinin uzunlugu:  90\n",
      "X_train.shape (64, 270)\n",
      "y_train.shape (1, 270)\n",
      "b .shape:  (12, 1)   w .shape:  (12, 64)\n",
      "b .shape:  (1, 1)   w .shape:  (1, 12)\n",
      "delta_b[-1] .shape:  (1, 1)   delta_w[-1] .shape:  (1, 12)\n",
      "delta_b[-k] .shape:  (12, 1)   delta_w[-k] .shape:  (12, 64)\n",
      "Time:  2.1925627700111363\n",
      "\t\t\t\t\t---Our Own Neural Network---\n",
      "confusion_matrix:\n",
      " [[47  0]\n",
      " [ 0 43]]\n",
      "accuracy_score:  1.0\n",
      "\n",
      "Matrix Shape\n",
      "b.shape:  (12, 1)  w.shape:  (12, 64)\n",
      "b.shape:  (1, 1)  w.shape:  (1, 12)\n"
     ]
    },
    {
     "data": {
      "image/png": "[encoded data removed]",
      "text/plain": [
       "<matplotlib.figure.Figure at 0x1a08bd3d68>"
      ]
     },
     "metadata": {},
     "output_type": "display_data"
    }
   ],
   "source": [
    "r = 2 \n",
    "X_train_scaled, X_test_scaled, y_train, y_test = loadRdigits(r)\n",
    "runNN(r, alpha = 0.1, number_steps = 100)"
   ]
  },
  {
   "cell_type": "code",
   "execution_count": 24,
   "metadata": {},
   "outputs": [
    {
     "name": "stdout",
     "output_type": "stream",
     "text": [
      "ogrenme kumesinin uzunlugu:  402\n",
      "test kumesinin uzunlugu:  135\n",
      "X_train.shape (64, 402)\n",
      "y_train.shape (3, 402)\n",
      "b .shape:  (12, 1)   w .shape:  (12, 64)\n",
      "b .shape:  (3, 1)   w .shape:  (3, 12)\n",
      "delta_b[-1] .shape:  (3, 1)   delta_w[-1] .shape:  (3, 12)\n",
      "delta_b[-k] .shape:  (12, 1)   delta_w[-k] .shape:  (12, 64)\n",
      "Time:  29.254435181996087\n",
      "\t\t\t\t\t---Our Own Neural Network---\n",
      "confusion_matrix:\n",
      " [[36  0  0]\n",
      " [ 0 43  1]\n",
      " [ 1  0 54]]\n",
      "accuracy_score:  0.9851851851851852\n",
      "\n",
      "Matrix Shape\n",
      "b.shape:  (12, 1)  w.shape:  (12, 64)\n",
      "b.shape:  (3, 1)  w.shape:  (3, 12)\n"
     ]
    },
    {
     "data": {
      "image/png": "[encoded data removed]",
      "text/plain": [
       "<matplotlib.figure.Figure at 0x1a13885208>"
      ]
     },
     "metadata": {},
     "output_type": "display_data"
    }
   ],
   "source": [
    "r = 3\n",
    "X_train_scaled, X_test_scaled, y_train, y_test = loadRdigits(r)\n",
    "runNN(r, alpha = 0.1, number_steps = 1000)"
   ]
  },
  {
   "cell_type": "code",
   "execution_count": 27,
   "metadata": {},
   "outputs": [
    {
     "name": "stdout",
     "output_type": "stream",
     "text": [
      "ogrenme kumesinin uzunlugu:  540\n",
      "test kumesinin uzunlugu:  180\n",
      "X_train.shape (64, 540)\n",
      "y_train.shape (4, 540)\n",
      "b .shape:  (12, 1)   w .shape:  (12, 64)\n",
      "b .shape:  (4, 1)   w .shape:  (4, 12)\n",
      "delta_b[-1] .shape:  (4, 1)   delta_w[-1] .shape:  (4, 12)\n",
      "delta_b[-k] .shape:  (12, 1)   delta_w[-k] .shape:  (12, 64)\n",
      "Time:  7.9131358320009895\n",
      "\t\t\t\t\t---Our Own Neural Network---\n",
      "confusion_matrix:\n",
      " [[46  0  0  0]\n",
      " [ 0 47  1  0]\n",
      " [ 1  1 40  1]\n",
      " [ 0  0  0 43]]\n",
      "accuracy_score:  0.9777777777777777\n",
      "\n",
      "Matrix Shape\n",
      "b.shape:  (12, 1)  w.shape:  (12, 64)\n",
      "b.shape:  (4, 1)  w.shape:  (4, 12)\n"
     ]
    },
    {
     "data": {
      "image/png": "[encoded data removed]",
      "text/plain": [
       "<matplotlib.figure.Figure at 0x1a13915940>"
      ]
     },
     "metadata": {},
     "output_type": "display_data"
    }
   ],
   "source": [
    "r = 4\n",
    "X_train_scaled, X_test_scaled, y_train, y_test = loadRdigits(r)\n",
    "runNN(r, alpha = 0.01, number_steps = 200)"
   ]
  },
  {
   "cell_type": "code",
   "execution_count": 28,
   "metadata": {},
   "outputs": [
    {
     "name": "stdout",
     "output_type": "stream",
     "text": [
      "ogrenme kumesinin uzunlugu:  675\n",
      "test kumesinin uzunlugu:  226\n",
      "X_train.shape (64, 675)\n",
      "y_train.shape (5, 675)\n",
      "b .shape:  (12, 1)   w .shape:  (12, 64)\n",
      "b .shape:  (5, 1)   w .shape:  (5, 12)\n",
      "delta_b[-1] .shape:  (5, 1)   delta_w[-1] .shape:  (5, 12)\n",
      "delta_b[-k] .shape:  (12, 1)   delta_w[-k] .shape:  (12, 64)\n",
      "Time:  15.042266283009667\n",
      "\t\t\t\t\t---Our Own Neural Network---\n",
      "confusion_matrix:\n",
      " [[48  0  0  0  2]\n",
      " [ 1 36  2  1  5]\n",
      " [ 0  7 31  2  0]\n",
      " [ 0  0  4 41  0]\n",
      " [ 1  3  0  0 42]]\n",
      "accuracy_score:  0.8761061946902655\n",
      "\n",
      "Matrix Shape\n",
      "b.shape:  (12, 1)  w.shape:  (12, 64)\n",
      "b.shape:  (5, 1)  w.shape:  (5, 12)\n"
     ]
    },
    {
     "data": {
      "image/png": "[encoded data removed]",
      "text/plain": [
       "<matplotlib.figure.Figure at 0x1a08af7198>"
      ]
     },
     "metadata": {},
     "output_type": "display_data"
    }
   ],
   "source": [
    "r = 5\n",
    "X_train_scaled, X_test_scaled, y_train, y_test = loadRdigits(r)\n",
    "runNN(r, alpha = 0.001, number_steps = 300)"
   ]
  },
  {
   "cell_type": "code",
   "execution_count": 10,
   "metadata": {},
   "outputs": [
    {
     "name": "stdout",
     "output_type": "stream",
     "text": [
      "ogrenme kumesinin uzunlugu:  812\n",
      "test kumesinin uzunlugu:  271\n",
      "X_train.shape (64, 812)\n",
      "y_train.shape (6, 812)\n",
      "b .shape:  (12, 1)   w .shape:  (12, 64)\n",
      "b .shape:  (6, 1)   w .shape:  (6, 12)\n",
      "delta_b[-1] .shape:  (6, 1)   delta_w[-1] .shape:  (6, 12)\n",
      "delta_b[-k] .shape:  (12, 1)   delta_w[-k] .shape:  (12, 64)\n",
      "Time:  6.4942146750108805\n",
      "\t\t\t\t\t---Our Own Neural Network---\n",
      "confusion_matrix:\n",
      " [[47  0  0  0  4  2]\n",
      " [ 2 40  0  1  2  0]\n",
      " [ 1 12  0 16  3 10]\n",
      " [ 2  3  0 30  5  5]\n",
      " [ 4  7  0  0 31  1]\n",
      " [ 3  0  0  3  6 31]]\n",
      "accuracy_score:  0.6605166051660517\n",
      "\n",
      "Matrix Shape\n",
      "b.shape:  (12, 1)  w.shape:  (12, 64)\n",
      "b.shape:  (6, 1)  w.shape:  (6, 12)\n"
     ]
    },
    {
     "data": {
      "image/png": "[encoded data removed]",
      "text/plain": [
       "<matplotlib.figure.Figure at 0x1a08988b38>"
      ]
     },
     "metadata": {},
     "output_type": "display_data"
    }
   ],
   "source": [
    "r = 6\n",
    "X_train_scaled, X_test_scaled, y_train, y_test = loadRdigits(r)\n",
    "runNN(r)"
   ]
  },
  {
   "cell_type": "code",
   "execution_count": 11,
   "metadata": {},
   "outputs": [
    {
     "name": "stdout",
     "output_type": "stream",
     "text": [
      "ogrenme kumesinin uzunlugu:  948\n",
      "test kumesinin uzunlugu:  316\n",
      "X_train.shape (64, 948)\n",
      "y_train.shape (7, 948)\n",
      "b .shape:  (12, 1)   w .shape:  (12, 64)\n",
      "b .shape:  (7, 1)   w .shape:  (7, 12)\n",
      "delta_b[-1] .shape:  (7, 1)   delta_w[-1] .shape:  (7, 12)\n",
      "delta_b[-k] .shape:  (12, 1)   delta_w[-k] .shape:  (12, 64)\n",
      "Time:  7.8451804729993455\n",
      "\t\t\t\t\t---Our Own Neural Network---\n",
      "confusion_matrix:\n",
      " [[40  1  0  1  0  1  0]\n",
      " [ 8  3 13  2  0 14  1]\n",
      " [ 0  0 34  6  0  5  3]\n",
      " [ 1  3  8 32  0  5  1]\n",
      " [18  2  4  0  1  8  6]\n",
      " [ 3  0  3  1  0 47  0]\n",
      " [15  1  8  1  0  3 13]]\n",
      "accuracy_score:  0.5379746835443038\n",
      "\n",
      "Matrix Shape\n",
      "b.shape:  (12, 1)  w.shape:  (12, 64)\n",
      "b.shape:  (7, 1)  w.shape:  (7, 12)\n"
     ]
    },
    {
     "data": {
      "image/png": "[encoded data removed]",
      "text/plain": [
       "<matplotlib.figure.Figure at 0x1a08a6a588>"
      ]
     },
     "metadata": {},
     "output_type": "display_data"
    }
   ],
   "source": [
    "r = 7\n",
    "X_train_scaled, X_test_scaled, y_train, y_test = loadRdigits(r)\n",
    "runNN(r)"
   ]
  },
  {
   "cell_type": "code",
   "execution_count": 12,
   "metadata": {},
   "outputs": [
    {
     "name": "stdout",
     "output_type": "stream",
     "text": [
      "ogrenme kumesinin uzunlugu:  1082\n",
      "test kumesinin uzunlugu:  361\n",
      "X_train.shape (64, 1082)\n",
      "y_train.shape (8, 1082)\n",
      "b .shape:  (12, 1)   w .shape:  (12, 64)\n",
      "b .shape:  (8, 1)   w .shape:  (8, 12)\n",
      "delta_b[-1] .shape:  (8, 1)   delta_w[-1] .shape:  (8, 12)\n",
      "delta_b[-k] .shape:  (12, 1)   delta_w[-k] .shape:  (12, 64)\n",
      "Time:  8.6033596030029\n",
      "\t\t\t\t\t---Our Own Neural Network---\n",
      "confusion_matrix:\n",
      " [[55  0  0  0  0  0  0  0]\n",
      " [ 1 16 13  0  1  2  0  1]\n",
      " [ 0  9 15  2  2  7  1  2]\n",
      " [ 2  5  7 21  0  2  4  3]\n",
      " [ 2  1  1  0 42  1  1  4]\n",
      " [ 4  0  3 12  1 13  3  1]\n",
      " [ 2  2  0  0  1  0 37  0]\n",
      " [ 0  1  3 15  9  0  1 30]]\n",
      "accuracy_score:  0.6343490304709142\n",
      "\n",
      "Matrix Shape\n",
      "b.shape:  (12, 1)  w.shape:  (12, 64)\n",
      "b.shape:  (8, 1)  w.shape:  (8, 12)\n"
     ]
    },
    {
     "data": {
      "image/png": "[encoded data removed]",
      "text/plain": [
       "<matplotlib.figure.Figure at 0x1a08c126d8>"
      ]
     },
     "metadata": {},
     "output_type": "display_data"
    }
   ],
   "source": [
    "r = 8\n",
    "X_train_scaled, X_test_scaled, y_train, y_test = loadRdigits(r)\n",
    "runNN(r)"
   ]
  },
  {
   "cell_type": "code",
   "execution_count": 32,
   "metadata": {},
   "outputs": [
    {
     "name": "stdout",
     "output_type": "stream",
     "text": [
      "ogrenme kumesinin uzunlugu:  1212\n",
      "test kumesinin uzunlugu:  405\n",
      "X_train.shape (64, 1212)\n",
      "y_train.shape (9, 1212)\n",
      "b .shape:  (12, 1)   w .shape:  (12, 64)\n",
      "b .shape:  (9, 1)   w .shape:  (9, 12)\n",
      "delta_b[-1] .shape:  (9, 1)   delta_w[-1] .shape:  (9, 12)\n",
      "delta_b[-k] .shape:  (12, 1)   delta_w[-k] .shape:  (12, 64)\n",
      "Time:  25.30784442499862\n",
      "\t\t\t\t\t---Our Own Neural Network---\n",
      "confusion_matrix:\n",
      " [[48  0  0  0  0  0  0  0  0]\n",
      " [ 0 47  1  0  0  1  0  0  2]\n",
      " [ 0  0 44  0  0  0  0  0  1]\n",
      " [ 0  0  1 53  0  0  0  0  1]\n",
      " [ 0  1  0  0 47  2  0  1  1]\n",
      " [ 0  1  0  0  1 33  0  0  0]\n",
      " [ 0  1  0  0  0  0 38  0  0]\n",
      " [ 0  0  0  1  0  0  0 38  0]\n",
      " [ 0  5  2  0  0  0  0  2 32]]\n",
      "accuracy_score:  0.9382716049382716\n",
      "\n",
      "Matrix Shape\n",
      "b.shape:  (12, 1)  w.shape:  (12, 64)\n",
      "b.shape:  (9, 1)  w.shape:  (9, 12)\n"
     ]
    },
    {
     "data": {
      "image/png": "[encoded data removed]",
      "text/plain": [
       "<matplotlib.figure.Figure at 0x1a11cec128>"
      ]
     },
     "metadata": {},
     "output_type": "display_data"
    }
   ],
   "source": [
    "r = 9\n",
    "X_train_scaled, X_test_scaled, y_train, y_test = loadRdigits(r)\n",
    "runNN(r, alpha = 0.01, number_steps = 300)"
   ]
  },
  {
   "cell_type": "code",
   "execution_count": null,
   "metadata": {},
   "outputs": [],
   "source": []
  }
 ],
 "metadata": {
  "kernelspec": {
   "display_name": "Python 3",
   "language": "python",
   "name": "python3"
  },
  "language_info": {
   "codemirror_mode": {
    "name": "ipython",
    "version": 3
   },
   "file_extension": ".py",
   "mimetype": "text/x-python",
   "name": "python",
   "nbconvert_exporter": "python",
   "pygments_lexer": "ipython3",
   "version": "3.6.4"
  }
 },
 "nbformat": 4,
 "nbformat_minor": 2
}
