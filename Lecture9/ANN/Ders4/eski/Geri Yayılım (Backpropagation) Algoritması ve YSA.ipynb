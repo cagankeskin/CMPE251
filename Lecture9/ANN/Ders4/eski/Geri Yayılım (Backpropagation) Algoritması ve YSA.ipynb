{
 "cells": [
  {
   "cell_type": "markdown",
   "metadata": {},
   "source": [
    "Kaynak\n",
    " - http://colah.github.io/posts/2015-08-Backprop/"
   ]
  },
  {
   "cell_type": "markdown",
   "metadata": {},
   "source": [
    "\"Fundamentally, it’s a technique for calculating derivatives quickly.\"\n",
    "> Backpropagation is the key algorithm that makes training deep models computationally tractable. For modern neural networks, it can make training with gradient descent as much as ten million times faster, relative to a naive implementation. That’s the difference between a model taking a week to train and taking 200,000 years.\n",
    "\n",
    "\n",
    "If $a$ directly affects $c$, then we want to know how it affects $c$. \n",
    "If $a$ changes a little bit, how does $c$ change? We call this the partial derivative of $c$ with respect to $a$, as $$\\frac{dc}{da}$$\n",
    "\n",
    "![computationgraph.png](computationgraph.png)\n",
    "\n",
    "___\n",
    "\n",
    "![computationgraph2.png](computationgraph2.png)\n",
    "\n",
    "## Backpropagation = Chain Rule\n",
    "> When I first understood what backpropagation was, my reaction was: “Oh, that’s just the chain rule! How did it take us so long to figure out?” I’m not the only one who’s had that reaction. \n",
    "\n"
   ]
  },
  {
   "cell_type": "code",
   "execution_count": 171,
   "metadata": {},
   "outputs": [],
   "source": [
    "import random\n",
    "import numpy as np\n",
    "\n",
    "class yapay_sinir_agi():\n",
    "    def __init__(self, katmanlar):\n",
    "        self.katmanlar = katmanlar\n",
    "        self.b = [np.random.randn(k, 1) for k in self.katmanlar[1:]] # bias degerleri (ilk katman haric)\n",
    "        self.W = [np.random.randn(k2, k1) for k1, k2 in zip(self.katmanlar[:-1],self.katmanlar[1:])]\n",
    "\n",
    "    def ag(self):\n",
    "        return self.W, self.b\n",
    "    \n",
    "    def ileribesleme(self, a):\n",
    "        \"\"\"Katman katman yeni a degerleri hesaplaniyor\"\"\"\n",
    "        for w, b in zip(self.W, self.b):\n",
    "            z = np.dot(w, a)+b\n",
    "            a = self.sigmoid(z)\n",
    "        return a\n",
    "    \n",
    "    def geribesleme(self,X,y):\n",
    "        delta_b = [np.zeros(b.shape) for b in self.b]\n",
    "        delta_w = [np.zeros(w.shape) for w in self.W]\n",
    "        a = X; A, Z = [a], []  # A, Z degerleri\n",
    "        for w, b in zip(self.W, self.b):# z ve a degerlerini depolayalim\n",
    "            z = np.dot(w, a) + b\n",
    "            a = self.sigmoid(z)\n",
    "            Z.append(z); A.append(a)\n",
    "           \n",
    "        hata = A[-1] - y # En son katmandaki hata \n",
    "        delta = hata * self.sigmoid_turevi(Z[-1])\n",
    "        delta_b[-1] = delta # Son katmanda W, b'deki degisim  \n",
    "        delta_w[-1] = delta * A[-2].T # ERROR: np.dot(delta, A[-2].T)\n",
    "        \n",
    "        for k in range(2, len(katmanlar)): # Hatanin geriye yayilimi\n",
    "            delta = np.dot(self.W[-k+1].T, delta) * self.sigmoid_turevi(Z[-k])\n",
    "            delta_b[-k] = delta\n",
    "            delta_w[-k] = delta * A[-k-1].T # ERROR: np.dot(delta, A[-k-1].T)\n",
    "        return (delta_b, delta_w)  \n",
    "    \n",
    "    \n",
    "    def gradyan_inis(self, X_train, y_train, alpha, number_steps):\n",
    "        for s in range(number_steps):\n",
    "            i, m = 0,X_train.shape[1]\n",
    "            X, y = X_train[:,[i]], y_train[:,[i]]\n",
    "            tum_delta_b, tum_delta_w = self.geribesleme(X,y)\n",
    "            for i in range(1,m): # Tum X kolonlari icin\n",
    "                X, y = X_train[:,[i]], y_train[:,[i]]\n",
    "                delta_b, delta_w = self.geribesleme(X,y)\n",
    "                tum_delta_b = [tdb + db for tdb, db in zip(tum_delta_b, delta_b)]\n",
    "                tum_delta_w = [tdw + dw for tdw, dw in zip(tum_delta_w, delta_w)]\n",
    "            tum_delta_b = [alpha*tdb/m for tdb in tum_delta_b]\n",
    "            tum_delta_w = [alpha*tdw/m for tdw in tum_delta_w]\n",
    "        \n",
    "        self.W = [w - dw for w, dw in zip(self.W, tum_delta_w)]\n",
    "\n",
    "    def fit(self, X_train, y_train, alpha = 0.05, number_steps = 10000):\n",
    "        # X verileri kolon=gozlem, satir=oznitelik (alistigimizin tersi)\n",
    "        return self.gradyan_inis(X_train, y_train, alpha, number_steps)\n",
    "    \n",
    "    def predict(self, X_test):\n",
    "        return [np.argmax(self.feedforward(a)) for x in X_test] \n",
    "    \n",
    "    #### Yardimci Fonksiyonlar\n",
    "    def sigmoid(self,z):\n",
    "        return 1.0/(1.0+np.exp(-z))\n",
    "    def sigmoid_turevi(self,z):\n",
    "        return self.sigmoid(z)*(1-self.sigmoid(z))"
   ]
  },
  {
   "cell_type": "code",
   "execution_count": 163,
   "metadata": {},
   "outputs": [
    {
     "name": "stdout",
     "output_type": "stream",
     "text": [
      "\n",
      "\n",
      "\n",
      "\t\t\t\tBaslangic:\n",
      "\n",
      "agirlik matrisleri:\n",
      "[[-0.79987567  0.74673723 -0.07141501]\n",
      " [ 0.90087227 -0.0412857   0.07956082]\n",
      " [ 0.08595711 -1.72847513  0.45546386]\n",
      " [ 1.23054466 -0.24416912  0.54879855]] \n",
      "\n",
      "[[ 0.37039086  0.97974311  0.08695518 -0.25879618]\n",
      " [-0.7213087   1.16720158  0.88319045 -0.71914994]] \n",
      "\n",
      "bias vektorleri:\n",
      "[[-1.03681877]\n",
      " [ 1.00470544]\n",
      " [-0.24692503]\n",
      " [ 0.7565814 ]] \n",
      "\n",
      "[[-0.68158179]\n",
      " [ 0.36649893]] \n",
      "\n"
     ]
    }
   ],
   "source": [
    "katmanlar = [3, 4, 2]\n",
    "ysa = yapay_sinir_agi(katmanlar)\n",
    "agirlik, bias = ysa.ag()\n",
    "\n",
    "print(\"\\n\\n\\n\\t\\t\\t\\tBaslangic:\\n\")\n",
    "print(\"agirlik matrisleri:\")\n",
    "for w in agirlik:\n",
    "    print(w, \"\\n\")\n",
    "    \n",
    "print(\"bias vektorleri:\")\n",
    "for b in bias:\n",
    "    print(b, \"\\n\")\n"
   ]
  },
  {
   "cell_type": "code",
   "execution_count": 164,
   "metadata": {},
   "outputs": [
    {
     "name": "stdout",
     "output_type": "stream",
     "text": [
      "Girdi: \n",
      " [[1.  1.  0.1 0. ]\n",
      " [1.  0.9 0.  0. ]\n",
      " [1.  1.  0.  0. ]]\n",
      "\n",
      "Cikti:\n",
      " [[1 1 0 0]\n",
      " [0 0 1 1]]\n"
     ]
    }
   ],
   "source": [
    "# X verileri kolon=gozlem, satir=oznitelik (alistigimizin tersi)\n",
    "X_train, y_train = np.array([[1,1,0.1,0],[1,0.9, 0, 0],[1,1,0,0]]), np.array([[1,1,0,0],[0,0,1,1]])\n",
    "print(\"Girdi: \\n\",X_train)\n",
    "print(\"\\nCikti:\\n\",y_train)"
   ]
  },
  {
   "cell_type": "code",
   "execution_count": 165,
   "metadata": {},
   "outputs": [
    {
     "name": "stdout",
     "output_type": "stream",
     "text": [
      "[[-0.79921948  0.7473805  -0.0707386 ]\n",
      " [ 0.90071402 -0.04142347  0.07941585]\n",
      " [ 0.08547766 -1.7289408   0.45497239]\n",
      " [ 1.2306969  -0.24402237  0.54895293]] \n",
      "\n",
      "[[ 0.37030571  0.98010482  0.0862146  -0.25818351]\n",
      " [-0.72180426  1.16501862  0.88305182 -0.7215263 ]] \n",
      "\n",
      "[[-1.03681877]\n",
      " [ 1.00470544]\n",
      " [-0.24692503]\n",
      " [ 0.7565814 ]] \n",
      "\n",
      "[[-0.68158179]\n",
      " [ 0.36649893]] \n",
      "\n"
     ]
    }
   ],
   "source": [
    "ysa.fit(X_train, y_train, alpha = 0.05, number_steps = 100)\n",
    "agirlik, bias = ysa.ag()\n",
    "\n",
    "\n",
    "for w in agirlik:\n",
    "    print(w, \"\\n\")\n",
    "    \n",
    "for b in bias:\n",
    "    print(b, \"\\n\")"
   ]
  },
  {
   "cell_type": "code",
   "execution_count": null,
   "metadata": {},
   "outputs": [],
   "source": []
  },
  {
   "cell_type": "code",
   "execution_count": null,
   "metadata": {},
   "outputs": [],
   "source": []
  },
  {
   "cell_type": "code",
   "execution_count": 117,
   "metadata": {},
   "outputs": [
    {
     "name": "stdout",
     "output_type": "stream",
     "text": [
      "\n",
      "\n",
      "\n",
      "\t\t\t\tGERI YAYILIM 0:\n",
      "\n",
      "Cikti:\n",
      "[[0.84424832]\n",
      " [0.81554698]]\n",
      "\n",
      "agirlik matrislerinde degisim:\n",
      "[[-0.00341196 -0.00341196 -0.00341196]\n",
      " [ 0.00762659  0.00762659  0.00762659]\n",
      " [ 0.00949011  0.00949011  0.00949011]\n",
      " [ 0.04454836  0.04454836  0.04454836]] \n",
      "\n",
      "[[-0.00453394 -0.01706953 -0.00541298 -0.00619417]\n",
      " [ 0.02715961  0.10225151  0.03242533  0.03710491]] \n",
      "\n",
      "bias vektorlerinde degisim:\n",
      "[[-0.00341196]\n",
      " [ 0.00762659]\n",
      " [ 0.00949011]\n",
      " [ 0.04454836]] \n",
      "\n",
      "[[-0.02048027]\n",
      " [ 0.12268282]] \n",
      "\n"
     ]
    }
   ],
   "source": [
    "i = 0\n",
    "print(\"\\n\\n\\n\\t\\t\\t\\tGERI YAYILIM {}:\\n\".format(i))\n",
    "X, y = X_train[:,[i]], y_train[:,[i]]\n",
    "print(\"Cikti:\"); print(ysa.ileribesleme(X))\n",
    "\n",
    "delta_b, delta_w = ysa.geribesleme(X,y)\n",
    "print(\"\\nagirlik matrislerinde degisim:\")\n",
    "for w in delta_w:\n",
    "    print(w, \"\\n\")\n",
    "\n",
    "print(\"bias vektorlerinde degisim:\")\n",
    "for b in delta_b:\n",
    "    print(b, \"\\n\") \n"
   ]
  },
  {
   "cell_type": "code",
   "execution_count": 118,
   "metadata": {},
   "outputs": [
    {
     "name": "stdout",
     "output_type": "stream",
     "text": [
      "\n",
      "\n",
      "\n",
      "\t\t\t\tGERI YAYILIM 1:\n",
      "\n",
      "Cikti:\n",
      "[[0.84420588]\n",
      " [0.80954765]]\n",
      "\n",
      "agirlik matrislerinde degisim:\n",
      "[[-0.00350965 -0.00315869 -0.00350965]\n",
      " [ 0.00851181  0.00766063  0.00851181]\n",
      " [ 0.00954476  0.00859029  0.00954476]\n",
      " [ 0.0439596   0.03956364  0.0439596 ]] \n",
      "\n",
      "[[-0.00480299 -0.0166748  -0.00536015 -0.00587169]\n",
      " [ 0.0292572   0.10157369  0.03265108  0.0357671 ]] \n",
      "\n",
      "bias vektorlerinde degisim:\n",
      "[[-0.00350965]\n",
      " [ 0.00851181]\n",
      " [ 0.00954476]\n",
      " [ 0.0439596 ]] \n",
      "\n",
      "[[-0.0204904 ]\n",
      " [ 0.12481626]] \n",
      "\n",
      "\n",
      "\n",
      "\n",
      "\t\t\t\tGERI YAYILIM 2:\n",
      "\n",
      "Cikti:\n",
      "[[0.77562697]\n",
      " [0.79695245]]\n",
      "\n",
      "agirlik matrislerinde degisim:\n",
      "[[ 0.00329571  0.          0.        ]\n",
      " [ 0.00205121  0.          0.        ]\n",
      " [-0.00257503 -0.         -0.        ]\n",
      " [ 0.00030612  0.          0.        ]] \n",
      "\n",
      "[[ 0.02434781  0.08141862  0.07152268  0.0366569 ]\n",
      " [-0.00592668 -0.0198187  -0.01740986 -0.00892292]] \n",
      "\n",
      "bias vektorlerinde degisim:\n",
      "[[ 0.03295712]\n",
      " [ 0.02051208]\n",
      " [-0.02575033]\n",
      " [ 0.00306121]] \n",
      "\n",
      "[[ 0.13498219]\n",
      " [-0.032857  ]] \n",
      "\n",
      "\n",
      "\n",
      "\n",
      "\t\t\t\tGERI YAYILIM 3:\n",
      "\n",
      "Cikti:\n",
      "[[0.77639376]\n",
      " [0.79886829]]\n",
      "\n",
      "agirlik matrislerinde degisim:\n",
      "[[ 0.  0.  0.]\n",
      " [ 0.  0.  0.]\n",
      " [-0. -0. -0.]\n",
      " [ 0.  0.  0.]] \n",
      "\n",
      "[[ 0.02531919  0.08151474  0.07356217  0.03702007]\n",
      " [-0.00607069 -0.01954449 -0.01763774 -0.00887617]] \n",
      "\n",
      "bias vektorlerinde degisim:\n",
      "[[ 0.03396865]\n",
      " [ 0.02052209]\n",
      " [-0.02555464]\n",
      " [ 0.00325627]] \n",
      "\n",
      "[[ 0.13478699]\n",
      " [-0.03231739]] \n",
      "\n"
     ]
    }
   ],
   "source": [
    "for i in range(1,X_train.shape[1]):\n",
    "    print(\"\\n\\n\\n\\t\\t\\t\\tGERI YAYILIM {}:\\n\".format(i))\n",
    "    X, y = X_train[:,[i]], y_train[:,[i]]\n",
    "    print(\"Cikti:\"); print(ysa.ileribesleme(X))\n",
    "\n",
    "    delta_b, delta_w = ysa.geribesleme(X,y)\n",
    "    print(\"\\nagirlik matrislerinde degisim:\")\n",
    "    for w in delta_w:\n",
    "        print(w, \"\\n\")\n",
    "\n",
    "    print(\"bias vektorlerinde degisim:\")\n",
    "    for b in delta_b:\n",
    "        print(b, \"\\n\") "
   ]
  },
  {
   "cell_type": "code",
   "execution_count": 141,
   "metadata": {},
   "outputs": [],
   "source": [
    "alpha = 0.05\n",
    "i, m = 0,X_train.shape[1]\n",
    "X, y = X_train[:,[i]], y_train[:,[i]]\n",
    "tum_delta_b, tum_delta_w = ysa.geribesleme(X,y)\n",
    "for i in range(1,m): # Tum X kolonlari icin\n",
    "    X, y = X_train[:,[i]], y_train[:,[i]]\n",
    "    delta_b, delta_w = ysa.geribesleme(X,y)\n",
    "    tum_delta_b = [tdb + db for tdb, db in zip(tum_delta_b, delta_b)]\n",
    "    tum_delta_w = [tdw + dw for tdw, dw in zip(tum_delta_w, delta_w)]\n",
    "tum_delta_b = [alpha*tdb/m for tdb in tum_delta_b]\n",
    "tum_delta_w = [alpha*tdw/m for tdw in tum_delta_w]"
   ]
  },
  {
   "cell_type": "code",
   "execution_count": 142,
   "metadata": {},
   "outputs": [
    {
     "data": {
      "text/plain": [
       "[array([[-0.49720992, -0.74019726,  1.44383667],\n",
       "        [-0.06633068,  1.35568053, -0.10435108],\n",
       "        [-0.63965511,  0.13977896, -0.70742847],\n",
       "        [-0.1555358 ,  0.76482218, -0.47383811]]),\n",
       " array([[ 1.68050243,  0.77540919, -0.69730469,  0.55620609],\n",
       "        [ 0.11919274,  0.57731016,  0.28141489,  1.81401582]])]"
      ]
     },
     "execution_count": 142,
     "metadata": {},
     "output_type": "execute_result"
    }
   ],
   "source": [
    "agirlik"
   ]
  },
  {
   "cell_type": "code",
   "execution_count": 143,
   "metadata": {},
   "outputs": [
    {
     "data": {
      "text/plain": [
       "[array([[-4.53237414e-05, -8.21330702e-05, -8.65201355e-05],\n",
       "        [ 2.27370010e-04,  1.91090153e-04,  2.01729910e-04],\n",
       "        [ 2.05748013e-04,  2.26004967e-04,  2.37935921e-04],\n",
       "        [ 1.11017599e-03,  1.05139998e-03,  1.10634948e-03]]),\n",
       " array([[0.00050413, 0.00161486, 0.0016789 , 0.00077014],\n",
       "        [0.00055524, 0.00205577, 0.00037536, 0.00068841]])]"
      ]
     },
     "execution_count": 143,
     "metadata": {},
     "output_type": "execute_result"
    }
   ],
   "source": [
    "tum_delta_w"
   ]
  },
  {
   "cell_type": "code",
   "execution_count": 146,
   "metadata": {},
   "outputs": [
    {
     "data": {
      "text/plain": [
       "[array([[-0.4971646 , -0.74011512,  1.44392319],\n",
       "        [-0.06655805,  1.35548944, -0.1045528 ],\n",
       "        [-0.63986086,  0.13955295, -0.7076664 ],\n",
       "        [-0.15664598,  0.76377078, -0.47494446]]),\n",
       " array([[ 1.67999831,  0.77379433, -0.69898359,  0.55543595],\n",
       "        [ 0.1186375 ,  0.57525439,  0.28103953,  1.81332741]])]"
      ]
     },
     "execution_count": 146,
     "metadata": {},
     "output_type": "execute_result"
    }
   ],
   "source": [
    "yeni_agirlik = [w - dw for w, dw in zip(agirlik, tum_delta_w)]\n",
    "yeni_agirlik"
   ]
  },
  {
   "cell_type": "code",
   "execution_count": 140,
   "metadata": {},
   "outputs": [
    {
     "data": {
      "text/plain": [
       "[array([[ 0.03396865],\n",
       "        [ 0.02052209],\n",
       "        [-0.02555464],\n",
       "        [ 0.00325627]]), array([[ 0.13478699],\n",
       "        [-0.03231739]])]"
      ]
     },
     "execution_count": 140,
     "metadata": {},
     "output_type": "execute_result"
    }
   ],
   "source": [
    "delta_b"
   ]
  },
  {
   "cell_type": "code",
   "execution_count": 137,
   "metadata": {},
   "outputs": [
    {
     "data": {
      "text/plain": [
       "[array([[ 0.03696886],\n",
       "        [ 0.02338072],\n",
       "        [-0.02716815],\n",
       "        [ 0.00799754]]), array([[ 0.14622692],\n",
       "        [-0.02320116]])]"
      ]
     },
     "execution_count": 137,
     "metadata": {},
     "output_type": "execute_result"
    }
   ],
   "source": [
    "tum_delta_b = [tdb + db for tdb, db in zip(tum_delta_b, delta_b)]\n",
    "tum_delta_b"
   ]
  },
  {
   "cell_type": "code",
   "execution_count": 138,
   "metadata": {},
   "outputs": [
    {
     "data": {
      "text/plain": [
       "[array([[ 0.00369689],\n",
       "        [ 0.00233807],\n",
       "        [-0.00271681],\n",
       "        [ 0.00079975]]), array([[ 0.01462269],\n",
       "        [-0.00232012]])]"
      ]
     },
     "execution_count": 138,
     "metadata": {},
     "output_type": "execute_result"
    }
   ],
   "source": [
    "[alpha*tdb/2 for tdb in tum_delta_b]"
   ]
  },
  {
   "cell_type": "code",
   "execution_count": 124,
   "metadata": {},
   "outputs": [
    {
     "data": {
      "text/plain": [
       "(array([[ 0.03396865],\n",
       "        [ 0.02052209],\n",
       "        [-0.02555464],\n",
       "        [ 0.00325627]]), array([[-0.00341196],\n",
       "        [ 0.00762659],\n",
       "        [ 0.00949011],\n",
       "        [ 0.04454836]]))"
      ]
     },
     "execution_count": 124,
     "metadata": {},
     "output_type": "execute_result"
    }
   ],
   "source": [
    "list(zip(delta_b,tum_delta_b))[0]"
   ]
  },
  {
   "cell_type": "code",
   "execution_count": 126,
   "metadata": {},
   "outputs": [
    {
     "data": {
      "text/plain": [
       "(array([[ 0.13478699],\n",
       "        [-0.03231739]]), array([[-0.02048027],\n",
       "        [ 0.12268282]]))"
      ]
     },
     "execution_count": 126,
     "metadata": {},
     "output_type": "execute_result"
    }
   ],
   "source": [
    "list(zip(delta_b,tum_delta_b))[1]"
   ]
  },
  {
   "cell_type": "code",
   "execution_count": 89,
   "metadata": {},
   "outputs": [
    {
     "data": {
      "text/plain": [
       "array([[0.],\n",
       "       [0.],\n",
       "       [0.]])"
      ]
     },
     "execution_count": 89,
     "metadata": {},
     "output_type": "execute_result"
    }
   ],
   "source": [
    "X"
   ]
  },
  {
   "cell_type": "code",
   "execution_count": 166,
   "metadata": {},
   "outputs": [
    {
     "data": {
      "text/plain": [
       "array([[0],\n",
       "       [1]])"
      ]
     },
     "execution_count": 166,
     "metadata": {},
     "output_type": "execute_result"
    }
   ],
   "source": [
    "y"
   ]
  },
  {
   "cell_type": "code",
   "execution_count": 169,
   "metadata": {},
   "outputs": [
    {
     "data": {
      "text/plain": [
       "0"
      ]
     },
     "execution_count": 169,
     "metadata": {},
     "output_type": "execute_result"
    }
   ],
   "source": [
    "s = np.array([[43],[5],[8],[4]])\n",
    "np.argmax(s)"
   ]
  },
  {
   "cell_type": "code",
   "execution_count": 74,
   "metadata": {},
   "outputs": [
    {
     "data": {
      "text/plain": [
       "2"
      ]
     },
     "execution_count": 74,
     "metadata": {},
     "output_type": "execute_result"
    }
   ],
   "source": [
    "X.shape[1]"
   ]
  },
  {
   "cell_type": "code",
   "execution_count": 77,
   "metadata": {},
   "outputs": [
    {
     "data": {
      "text/plain": [
       "array([[0],\n",
       "       [1]])"
      ]
     },
     "execution_count": 77,
     "metadata": {},
     "output_type": "execute_result"
    }
   ],
   "source": [
    "y[:,[0]]"
   ]
  },
  {
   "cell_type": "code",
   "execution_count": 69,
   "metadata": {},
   "outputs": [
    {
     "data": {
      "text/plain": [
       "array([0, 1])"
      ]
     },
     "execution_count": 69,
     "metadata": {},
     "output_type": "execute_result"
    }
   ],
   "source": [
    "y[:,i]"
   ]
  },
  {
   "cell_type": "code",
   "execution_count": 75,
   "metadata": {},
   "outputs": [
    {
     "data": {
      "text/plain": [
       "[0, 1]"
      ]
     },
     "execution_count": 75,
     "metadata": {},
     "output_type": "execute_result"
    }
   ],
   "source": [
    "list(range(X.shape[1]))"
   ]
  },
  {
   "cell_type": "code",
   "execution_count": null,
   "metadata": {},
   "outputs": [],
   "source": []
  },
  {
   "cell_type": "code",
   "execution_count": null,
   "metadata": {},
   "outputs": [],
   "source": []
  },
  {
   "cell_type": "markdown",
   "metadata": {},
   "source": [
    "Ağırlıktaki değişim\n",
    "$$\n",
    "\\frac{d Hata}{d w_{ji}(t)} = \\frac{d Hata}{d z_{j}(t)} \\frac{d z_{j}(t)}{d w_{ji}(t)} \n",
    "= \\Delta_{j}(t)  a_i(t-1)\n",
    "$$"
   ]
  },
  {
   "cell_type": "code",
   "execution_count": 93,
   "metadata": {},
   "outputs": [
    {
     "name": "stdout",
     "output_type": "stream",
     "text": [
      "[[1 1 2 2]\n",
      " [2 2 1 1]] \n",
      "\n",
      "[[4]\n",
      " [3]\n",
      " [2]\n",
      " [1]] \n",
      "\n",
      "[[2]\n",
      " [1]]\n"
     ]
    }
   ],
   "source": [
    "W = np.array([[1,1,2,2],[2,2,1,1]])\n",
    "a = np.array([[4],[3],[2],[1]])\n",
    "delta = np.array([[2],[1]])\n",
    "print(W, \"\\n\")\n",
    "print(a, \"\\n\")\n",
    "print(delta)"
   ]
  },
  {
   "cell_type": "code",
   "execution_count": 97,
   "metadata": {},
   "outputs": [
    {
     "data": {
      "text/plain": [
       "array([[8, 4],\n",
       "       [6, 3],\n",
       "       [4, 2],\n",
       "       [2, 1]])"
      ]
     },
     "execution_count": 97,
     "metadata": {},
     "output_type": "execute_result"
    }
   ],
   "source": [
    "# W ile ayni boyutlarda DEGIL\n",
    "delta.T * a"
   ]
  },
  {
   "cell_type": "code",
   "execution_count": 95,
   "metadata": {},
   "outputs": [],
   "source": [
    "# ERROR\n",
    "# np.dot(delta, a.T)"
   ]
  },
  {
   "cell_type": "code",
   "execution_count": 96,
   "metadata": {},
   "outputs": [
    {
     "data": {
      "text/plain": [
       "array([[8, 6, 4, 2],\n",
       "       [4, 3, 2, 1]])"
      ]
     },
     "execution_count": 96,
     "metadata": {},
     "output_type": "execute_result"
    }
   ],
   "source": [
    "delta *a.T # W ile ayni boyutlarda "
   ]
  },
  {
   "cell_type": "markdown",
   "metadata": {},
   "source": [
    "### Nöronlardaki hatanın güncellenmesi\n",
    "\n",
    "Çıktı katmanında\n",
    "$$\n",
    "\\Delta(T) = \\frac{d Hata}{d z(T)} = (a(T)-y) \\sigma'(z(T))\n",
    "$$\n",
    "\n",
    "$(t+1)$'inci ara katmandan $(t)$'inci ara katmana hatanın akışı,\n",
    "\n",
    "$$\n",
    "\\Delta(t) =  w^T(t+1) \\cdot  \\Delta(t+1) \\times \\sigma'(z(t))\n",
    "$$\n",
    "\n",
    "### Ağırlık ve bias değerlerinin güncellenmesi\n",
    "\n",
    "Hatayı minimize eden en iyi parametreleri arıyoruz.\n",
    "\n",
    "Ağırlıktaki değişim\n",
    "$$\n",
    "\\frac{d Hata}{d w_{ji}(t)} = \\frac{d Hata}{d z_{j}(t)} \\frac{d z_{j}(t)}{d w_{ji}(t)} \n",
    "= \\Delta_{j}(t)  a_i(t-1)\n",
    "$$\n",
    "\n",
    "Biasdeki değişim\n",
    "$$\n",
    "\\frac{d Hata}{d b_{j}(t)} = \\frac{d Hata}{d z_{j}(t)} \\frac{d z_{j}(t)}{d b_{j}(t)} \n",
    "= \\Delta_{j}(t) \n",
    "$$\n",
    "\n",
    "Geri Besleme algoritması neden hızlıdır?\n",
    "\n",
    "> Dikkat ederseniz $\\Delta_{j}(t)$ değerini sadece bir kez hesaplayıp, yeniden hesaplamadan bir çok yerde (Ağırlıktaki ve Biasdeki değişimde) tekrar tekrar kullanıyoruz. Bu bize hız kazandırıyor.\n",
    "\n"
   ]
  },
  {
   "cell_type": "code",
   "execution_count": null,
   "metadata": {},
   "outputs": [],
   "source": [
    "#Rakamlar veri kümesini yüklüyoruz.\n",
    "from sklearn.datasets import load_digits\n",
    "#numpy paketini yüklüyoruz.\n",
    "import numpy as np\n",
    "#Veri kümesini ikiye bölmek için kullanıyoruz.\n",
    "from sklearn.model_selection import train_test_split\n",
    "#Resimleri incelemek için matplotlib kullanıyoruz.\n",
    "%matplotlib inline\n",
    "import matplotlib.pyplot as plt\n",
    "\n",
    "#Veri kümesini etiket değerleriyle birlikte yükleyelim.\n",
    "X,y = load_digits(return_X_y=True)\n",
    "print('Verinin boyutları (Gözlem, öznitelik) = ' + str(np.shape(X)))\n",
    "print('Etiketlerin boyutları (Gözlem) = ' + str(np.shape(y)))\n",
    "\n",
    "rakam1 = X[0]\n",
    "rakam1 = np.reshape(rakam1, (8,8))\n",
    "\n",
    "plt.figure(figsize= (2,2))\n",
    "plt.imshow(rakam1, cmap=\"gray_r\")\n",
    "plt.show()\n",
    "etiket1 = y[0]\n",
    "print('Etiket: ' + str(etiket1))"
   ]
  },
  {
   "cell_type": "code",
   "execution_count": null,
   "metadata": {},
   "outputs": [],
   "source": [
    "#3 ve 8 rakamlarını seçmek için filtreleme kullanacağız.\n",
    "#Filtrelemeyi etiket değerlerine (y) bakarak yapacağız. \n",
    "#Etiket değeri beşe bölündüğünde kalan üç ise bu gözlemleri veri kümesinde bırakıyoruz.\n",
    "X= X[y%5 == 3]\n",
    "y= y[y%5 == 3]\n",
    "\n",
    "#Son olarak etiketleri 0 ve 1 değerlerine çevirelim.\n",
    "#Rakam 3 ise etiket 0, 8 ise 1 olacak.\n",
    "y = (y==8)*1\n",
    "print('Verinin boyutları (Gözlem, öznitelik) = ' + str(np.shape(X)))\n",
    "print('Etiketlerin boyutları (Gözlem) = ' + str(np.shape(y)))"
   ]
  },
  {
   "cell_type": "code",
   "execution_count": null,
   "metadata": {},
   "outputs": [],
   "source": [
    "#Stratify değeri veri kümesinin etiket yüzdelerini korumak için kullanılıyor.\n",
    "#Öğrenme veri kümesini küçük tutarak sonuçların çok iyi olmasını engelliyoruz.\n",
    "#random_state değeri sonuçların her seferinde aynı çıkmasını sağlamak için kullanılıyor.\n",
    "X_train, X_test, y_train, y_test = train_test_split(X,y, train_size = 0.5, test_size = 0.5, random_state = 0, stratify = y)\n",
    "\n",
    "print('Öğrenme verisinin boyutları (Gözlem, öznitelik) = ' + str(np.shape(X_train)))\n",
    "print('Sınama verisinin boyutları (Gözlem, öznitelik) = ' + str(np.shape(X_test)))"
   ]
  },
  {
   "cell_type": "markdown",
   "metadata": {},
   "source": [
    "## Data Processing  - Normalize your data\n",
    "\n",
    "Kaynak: https://www.springboard.com/blog/beginners-guide-neural-network-in-python-scikit-learn-0-18/\n",
    "\n",
    "> The neural network in Python may have difficulty converging before the maximum number of iterations allowed if the data is not normalized. Multi-layer Perceptron is sensitive to feature scaling, so it is highly recommended to scale your data. Note that you must apply the same scaling to the test set for meaningful results. There are a lot of different methods for normalization of data, we will use the built-in StandardScaler for standardization."
   ]
  },
  {
   "cell_type": "code",
   "execution_count": null,
   "metadata": {},
   "outputs": [],
   "source": [
    "from sklearn.preprocessing import StandardScaler\n",
    "scaler = StandardScaler()\n",
    "\n",
    "# Fit only to the training data\n",
    "scaler.fit(X_train)\n",
    "\n",
    "# Now apply the transformations to the data:\n",
    "X_train = scaler.transform(X_train)\n",
    "X_test = scaler.transform(X_test)"
   ]
  },
  {
   "cell_type": "code",
   "execution_count": null,
   "metadata": {},
   "outputs": [],
   "source": [
    "from sklearn.neural_network import MLPClassifier\n",
    "mlp = MLPClassifier(activation= 'logistic', hidden_layer_sizes=(13,13,13),max_iter=500)\n",
    "mlp.fit(X_train,y_train)"
   ]
  },
  {
   "cell_type": "code",
   "execution_count": null,
   "metadata": {},
   "outputs": [],
   "source": [
    "predictions = mlp.predict(X_test)\n",
    "from sklearn.metrics import classification_report,confusion_matrix\n",
    "print(confusion_matrix(y_test,predictions))\n",
    "print(classification_report(y_test,predictions))"
   ]
  },
  {
   "cell_type": "markdown",
   "metadata": {},
   "source": [
    "# Elle Deneme"
   ]
  }
 ],
 "metadata": {
  "kernelspec": {
   "display_name": "Python 3",
   "language": "python",
   "name": "python3"
  },
  "language_info": {
   "codemirror_mode": {
    "name": "ipython",
    "version": 3
   },
   "file_extension": ".py",
   "mimetype": "text/x-python",
   "name": "python",
   "nbconvert_exporter": "python",
   "pygments_lexer": "ipython3",
   "version": "3.6.4"
  }
 },
 "nbformat": 4,
 "nbformat_minor": 2
}
