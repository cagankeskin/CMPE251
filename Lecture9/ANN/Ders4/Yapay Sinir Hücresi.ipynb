{
 "cells": [
  {
   "cell_type": "markdown",
   "metadata": {},
   "source": [
    "# Tek bir YSA hücresi : Lojistik Regresyon\n",
    "\n",
    "[Tensorflow playground](https://playground.tensorflow.org/#activation=tanh&batchSize=10&dataset=gauss&regDataset=reg-plane&learningRate=0.03&regularizationRate=0&noise=0&networkShape=&seed=0.24138&showTestData=false&discretize=false&percTrainData=50&x=true&y=true&xTimesY=false&xSquared=false&ySquared=false&cosX=false&sinX=false&cosY=false&sinY=false&collectStats=false&problem=classification&initZero=false&hideText=false)\n",
    " ile oynamayı unutmayın!! :)\n",
    "\n",
    "### Elimizdeki veri matrisimiz: \n",
    "\n",
    "$$\n",
    "X = \n",
    "\\begin{bmatrix}\n",
    "& \\dots & \\dots &   \\\\\n",
    "\\\\\n",
    "x_{i0}       &  x_{i1}       & x_{i2} & x_{i3} \\\\\n",
    "\\\\\n",
    "& \\dots & \\dots &   \\\\\n",
    "\\end{bmatrix}\n",
    "$$\n",
    "\n",
    "$X$ matrisi başlangıçta $n \\times m$ boyutlu, \n",
    " - n örnek sayısı\n",
    " - m öznitelik sayısı\n",
    " \n",
    "\n",
    "### Parametreler\n",
    "\n",
    "$$\n",
    "w = \n",
    "\\begin{bmatrix}\n",
    "w_0\\\\\n",
    "w_1\\\\\n",
    "w_2\\\\\n",
    "w_3\\\\\n",
    "\\end{bmatrix}\n",
    "$$\n",
    "\n",
    "$w$ vektörü $m \\times 1$ boyutlu, \n",
    "\n",
    "### Çıktı vektörü\n",
    "\n",
    "$$\n",
    "y = \n",
    "\\begin{bmatrix}\n",
    "\\\\\n",
    "\\\\\n",
    "y_{i} \\\\\n",
    "\\\\\n",
    "\\\\\n",
    "\\end{bmatrix}\n",
    "$$\n",
    "\n",
    "$w$ vektörü $n \\times 1$ boyutlu, \n"
   ]
  },
  {
   "cell_type": "markdown",
   "metadata": {},
   "source": [
    "# Makine öğrenmesi: \n",
    "Bir çeşit optimizasyon problemidir. Amacımız (hatayı minimize eden) en iyi parametreleri bulmak. \n",
    "\n",
    "![](resim/hucre.png)\n",
    "\n",
    "\n",
    "### Ağırlık toplam \n",
    "hangi öznıtelik ne kadar önemli\n",
    "$$\n",
    "z =\n",
    "Xw = \n",
    "\\begin{bmatrix}\n",
    "\\vdots\\\\\n",
    "x_{i0} w_0 + x_{i1}w_1 + x_{i2}w_2 + x_{i3}w_3\\\\\n",
    "\\vdots\\\\\n",
    "\\end{bmatrix}\n",
    "=\n",
    "\\begin{bmatrix}\n",
    "\\vdots\\\\\n",
    "z_i\\\\\n",
    "\\vdots\\\\\n",
    "\\end{bmatrix}\n",
    "$$\n",
    "\n",
    "### Tahmin\n",
    "$$\n",
    "a = \\sigma(z) = \\sigma(Xw)\n",
    "=\n",
    "\\begin{bmatrix}\n",
    "\\vdots\\\\\n",
    "\\sigma(z_i)\\\\\n",
    "\\vdots\\\\\n",
    "\\end{bmatrix}\n",
    "$$\n",
    "\n",
    "\n",
    "### Hata\n",
    "$$\n",
    "H = \\frac{1}{2n} \\sum^n_{i=1} (y_i - a_i)^2\n",
    "$$\n",
    "\n",
    "\n",
    "### Optimizasyon: En iyi parametreleri bulmak\n",
    "\n",
    "\n",
    "Toplam hata, tüm bireysel hataların, $\\frac{dH}{da_k} = \\frac{1}{n}(a_k - y_k)$, toplamıdır.\n",
    "$$\n",
    "\\frac{dH}{da} = \\sum^n_{i=1} \\frac{dH}{da_i} \n",
    "$$\n",
    "\n",
    "$ a = \\sigma(z)$ olduğu için, \n",
    "\n",
    "$$\n",
    "\\frac{da_i}{dz_i} = \\sigma'(z_i)\n",
    "$$\n",
    "\n",
    "$z_i = x_{i0} w_0 + x_{i1}w_1 + x_{i2}w_2 + x_{i3}w_3$ olduğu için,\n",
    "\n",
    "$$\n",
    "\\frac{dz_i}{dw_j} = x_{ij}\n",
    "$$\n",
    "\n",
    "#### Gradyan iniş\n",
    "![](resim/gradyan.png)\n",
    "\n",
    "Zincir kuralı yardımı ile, hatanın parametrelerimize göre türevini bulalım.\n",
    "\n",
    "$$\n",
    "\\frac{dH}{dw_j} = \\sum^n_{i=1} \\frac{dH}{da_i}  \\frac{da_i}{dz_i} \\frac{dz_i}{dw_j} \n",
    "= \\frac{1}{n} \\sum^n_{i=1} (a_i - y_i) x_{ij} \\sigma'(z_i)\n",
    "$$\n",
    "\n",
    "bu durumda \n",
    "\n",
    "$$\n",
    "\\frac{dH}{dw} \n",
    "= \n",
    "\\frac{1}{n} X  (y-a) \\sigma'(z)\n",
    "$$"
   ]
  },
  {
   "cell_type": "code",
   "execution_count": 1,
   "metadata": {},
   "outputs": [],
   "source": [
    "# Importing the libraries\n",
    "import numpy as np\n",
    "import matplotlib.pyplot as plt\n",
    "%matplotlib inline  \n",
    "import pandas as pd\n",
    "import warnings\n",
    "warnings.filterwarnings('ignore')\n",
    "import timeit\n",
    "import random"
   ]
  },
  {
   "cell_type": "code",
   "execution_count": 2,
   "metadata": {},
   "outputs": [],
   "source": [
    " class yapay_sinir_hucresi():\n",
    "    def __init__(self,X_train, y_train):\n",
    "        self.n, self.m = X_train.shape\n",
    "        self.m += 1 # Add one for x_0 column \n",
    "        \n",
    "        self.X_train = np.hstack((np.ones((self.n,1)), X_train))\n",
    "        self.y_train = y_train.reshape((self.n,1))\n",
    "        self.W = np.random.randn(self.m,1)\n",
    "        \n",
    "        self.H = []\n",
    "            \n",
    "    def hata(self):\n",
    "        z = self.X_train.dot(self.W)\n",
    "        a = self.sigmoid(z)\n",
    "        return np.sum(np.power(a-self.y_train,2))/ (2*self.n)\n",
    "\n",
    "    def derivative(self):\n",
    "        z = self.X_train.dot(self.W)\n",
    "        a = self.sigmoid(z)\n",
    "        derivative = np.sum(self.X_train * (a - self.y_train) * self.sigmoid_turevi(z) , axis=0)/ self.n\n",
    "        return derivative.reshape(self.W.shape)\n",
    "\n",
    "    def gradient_descent(self, alpha = 0.05, number_steps = 10000):\n",
    "        for i in range(number_steps):\n",
    "            self.W = self.W - alpha * self.derivative()\n",
    "            if  i % 1000 == 0: print(self.W)\n",
    "            self.H.append(self.hata())\n",
    "        \n",
    "        return self.W\n",
    "    \n",
    "    def predict(self, X_test, threshold=0.5):\n",
    "        n, m = X_test.shape\n",
    "        X_test = np.hstack((np.ones((n,1)), X_test))\n",
    "        a = self.sigmoid(X_test.dot(self.W)) \n",
    "        p = a >= threshold\n",
    "        return (p.astype('int'))\n",
    "\n",
    "    def fit(self):\n",
    "        self.W = self.gradient_descent()\n",
    "        \n",
    "    #### Yardimci Fonksiyonlar\n",
    "    def sigmoid(self,z):\n",
    "        return 1.0/(1.0+np.exp(-z))\n",
    "    def sigmoid_turevi(self,z):\n",
    "        return self.sigmoid(z)*(1-self.sigmoid(z))"
   ]
  },
  {
   "cell_type": "code",
   "execution_count": 3,
   "metadata": {},
   "outputs": [
    {
     "name": "stderr",
     "output_type": "stream",
     "text": [
      "/anaconda3/lib/python3.6/site-packages/sklearn/cross_validation.py:41: DeprecationWarning: This module was deprecated in version 0.18 in favor of the model_selection module into which all the refactored classes and functions are moved. Also note that the interface of the new CV iterators are different from that of this module. This module will be removed in 0.20.\n",
      "  \"This module will be removed in 0.20.\", DeprecationWarning)\n"
     ]
    }
   ],
   "source": [
    "# Importing the libraries\n",
    "import numpy as np\n",
    "import matplotlib.pyplot as plt\n",
    "%matplotlib inline  \n",
    "import pandas as pd\n",
    "from sklearn.cross_validation import train_test_split\n",
    "from sklearn.linear_model import LinearRegression\n",
    "\n",
    "# Importing the dataset from the url\n",
    "url =  \"https://raw.githubusercontent.com/uzay00/KaVe/master/Ders3/data/Social_Network_Ads.csv\"\n",
    "data = pd.read_csv(url)\n",
    "X = data.iloc[:, [2, 3]].values\n",
    "y = data.iloc[:, 4].values\n",
    "\n",
    "# Split dataset into train ab=nd test sets\n",
    "X_train, X_test, y_train, y_test = train_test_split(X,y,test_size = 1/3, random_state = 0)\n",
    "\n",
    "# Feature Scaling\n",
    "from sklearn.preprocessing import StandardScaler\n",
    "sc = StandardScaler()\n",
    "X_train = sc.fit_transform(X_train)\n",
    "X_test = sc.transform(X_test)"
   ]
  },
  {
   "cell_type": "code",
   "execution_count": 4,
   "metadata": {},
   "outputs": [
    {
     "name": "stdout",
     "output_type": "stream",
     "text": [
      "[[79  6]\n",
      " [11 38]]\n"
     ]
    }
   ],
   "source": [
    "# Fitting Logistic Regression to the Training set\n",
    "from sklearn.linear_model import LogisticRegression\n",
    "classifier = LogisticRegression(random_state = 0)\n",
    "classifier.fit(X_train, y_train)\n",
    "\n",
    "# Predicting the Test set results\n",
    "y_pred = classifier.predict(X_test)\n",
    "\n",
    "# Making the Confusion Matrix\n",
    "from sklearn.metrics import confusion_matrix\n",
    "cm = confusion_matrix(y_test, y_pred)\n",
    "print(cm)"
   ]
  },
  {
   "cell_type": "code",
   "execution_count": 5,
   "metadata": {},
   "outputs": [
    {
     "data": {
      "text/plain": [
       "(266, 2)"
      ]
     },
     "execution_count": 5,
     "metadata": {},
     "output_type": "execute_result"
    }
   ],
   "source": [
    "X_train.shape"
   ]
  },
  {
   "cell_type": "code",
   "execution_count": 6,
   "metadata": {},
   "outputs": [
    {
     "name": "stdout",
     "output_type": "stream",
     "text": [
      "[[-0.1452279 ]\n",
      " [-1.71129569]\n",
      " [-0.54775801]]\n",
      "[[-0.61483477]\n",
      " [ 0.84309087]\n",
      " [ 0.55179725]]\n",
      "[[-0.68306632]\n",
      " [ 1.39488498]\n",
      " [ 0.70751988]]\n",
      "[[-0.74719889]\n",
      " [ 1.64877791]\n",
      " [ 0.82095885]]\n",
      "[[-0.79122938]\n",
      " [ 1.81640014]\n",
      " [ 0.90333327]]\n",
      "[[-0.82338259]\n",
      " [ 1.94154426]\n",
      " [ 0.96543599]]\n",
      "[[-0.84835166]\n",
      " [ 2.04068661]\n",
      " [ 1.01413285]]\n",
      "[[-0.86858764]\n",
      " [ 2.12204414]\n",
      " [ 1.05354252]]\n",
      "[[-0.88546999]\n",
      " [ 2.19040193]\n",
      " [ 1.08621853]]\n",
      "[[-0.89984407]\n",
      " [ 2.24882539]\n",
      " [ 1.11382098]]\n",
      "[[78  7]\n",
      " [ 9 40]]\n"
     ]
    }
   ],
   "source": [
    "me = yapay_sinir_hucresi(X_train, y_train)\n",
    "me.fit()\n",
    "me_pred = me.predict(X_test)\n",
    "\n",
    "cm = confusion_matrix(y_test, me_pred)\n",
    "print(cm)"
   ]
  },
  {
   "cell_type": "code",
   "execution_count": 7,
   "metadata": {},
   "outputs": [
    {
     "data": {
      "text/plain": [
       "(266, 2)"
      ]
     },
     "execution_count": 7,
     "metadata": {},
     "output_type": "execute_result"
    }
   ],
   "source": [
    "X_train.shape"
   ]
  },
  {
   "cell_type": "code",
   "execution_count": 8,
   "metadata": {},
   "outputs": [
    {
     "data": {
      "text/plain": [
       "array([-7.14983628e-14,  1.31006317e-14])"
      ]
     },
     "execution_count": 8,
     "metadata": {},
     "output_type": "execute_result"
    }
   ],
   "source": [
    "np.sum(X_train, axis=0)"
   ]
  },
  {
   "cell_type": "code",
   "execution_count": 9,
   "metadata": {},
   "outputs": [
    {
     "data": {
      "text/plain": [
       "[<matplotlib.lines.Line2D at 0x1162e2d68>]"
      ]
     },
     "execution_count": 9,
     "metadata": {},
     "output_type": "execute_result"
    },
    {
     "data": {
      "image/png": "[encoded data removed]",
      "text/plain": [
       "<matplotlib.figure.Figure at 0x111271588>"
      ]
     },
     "metadata": {},
     "output_type": "display_data"
    }
   ],
   "source": [
    "import matplotlib.pyplot as plt\n",
    "plt.plot(me.H)"
   ]
  },
  {
   "cell_type": "code",
   "execution_count": null,
   "metadata": {},
   "outputs": [],
   "source": []
  },
  {
   "cell_type": "code",
   "execution_count": null,
   "metadata": {},
   "outputs": [],
   "source": []
  }
 ],
 "metadata": {
  "kernelspec": {
   "display_name": "Python 3",
   "language": "python",
   "name": "python3"
  },
  "language_info": {
   "codemirror_mode": {
    "name": "ipython",
    "version": 3
   },
   "file_extension": ".py",
   "mimetype": "text/x-python",
   "name": "python",
   "nbconvert_exporter": "python",
   "pygments_lexer": "ipython3",
   "version": "3.6.4"
  }
 },
 "nbformat": 4,
 "nbformat_minor": 2
}
