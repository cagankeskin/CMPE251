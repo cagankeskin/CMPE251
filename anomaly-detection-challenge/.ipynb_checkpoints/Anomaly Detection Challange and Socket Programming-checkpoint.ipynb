{
 "cells": [
  {
   "cell_type": "markdown",
   "metadata": {},
   "source": [
    "# 1. Anomaly Detection Challenge\n",
    "\n",
    " - read anomaly-data\n",
    "     - Here, last column is the target value\n",
    " - Sub-sample data\n",
    "     - Select rows with second column == \"http\"\n",
    " - Run ML algorithms to detect anomalies\n",
    "     - IsolationForest\n",
    "     - 3-sigma\n",
    "     - DBScan algorithms \n",
    "     - and other algorithms\n",
    " - Evaluation\n",
    "     - Give Precison/Recall/F1 scores and AUC values"
   ]
  },
  {
   "cell_type": "markdown",
   "metadata": {},
   "source": [
    "## 2.  Socket Programming\n",
    "\n",
    "Write a simple chat program that only works on local area network between a server and clients"
   ]
  }
 ],
 "metadata": {
  "kernelspec": {
   "display_name": "Python 3",
   "language": "python",
   "name": "python3"
  },
  "language_info": {
   "codemirror_mode": {
    "name": "ipython",
    "version": 3
   },
   "file_extension": ".py",
   "mimetype": "text/x-python",
   "name": "python",
   "nbconvert_exporter": "python",
   "pygments_lexer": "ipython3",
   "version": "3.6.4"
  }
 },
 "nbformat": 4,
 "nbformat_minor": 2
}
