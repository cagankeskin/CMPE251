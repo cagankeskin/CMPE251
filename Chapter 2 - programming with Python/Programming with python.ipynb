{
 "cells": [
  {
   "cell_type": "markdown",
   "metadata": {},
   "source": [
    "## Essential Python Programming\n",
    "- string functions, \n",
    "- data structures, \n",
    "- list comprehension, \n",
    "- counters, \n",
    "- file and web functions, \n",
    "- regular expressions, \n",
    "- globbing, \n",
    "- and data pickling."
   ]
  },
  {
   "cell_type": "markdown",
   "metadata": {},
   "source": [
    "### Strings\n",
    "Humans use strings to interact with computers\n",
    "\n",
    "- lower(), upper(), capitalize()\n",
    "- islower(), isupper(), isdigit(), isalpha()"
   ]
  },
  {
   "cell_type": "code",
   "execution_count": 1,
   "metadata": {},
   "outputs": [
    {
     "data": {
      "text/plain": [
       "(True, False)"
      ]
     },
     "execution_count": 1,
     "metadata": {},
     "output_type": "execute_result"
    }
   ],
   "source": [
    "s = \"UZAY\"\n",
    "s.isupper(), s.islower()"
   ]
  },
  {
   "cell_type": "markdown",
   "metadata": {},
   "source": [
    "getting rid of unwanted whitespaces\n",
    "- lstrip() (left strip), rstrip() (right strip), \n",
    "- and strip() remove all whitespaces\n",
    "\n",
    "They don’t remove the inner spaces"
   ]
  },
  {
   "cell_type": "code",
   "execution_count": 2,
   "metadata": {},
   "outputs": [
    {
     "data": {
      "text/plain": [
       "'mis gibi'"
      ]
     },
     "execution_count": 2,
     "metadata": {},
     "output_type": "execute_result"
    }
   ],
   "source": [
    "s = \"    mis gibi    \"\n",
    "s.strip()"
   ]
  },
  {
   "cell_type": "markdown",
   "metadata": {},
   "source": [
    "Tokenezation"
   ]
  },
  {
   "cell_type": "code",
   "execution_count": 3,
   "metadata": {},
   "outputs": [
    {
     "data": {
      "text/plain": [
       "['Hello,', 'world!']"
      ]
     },
     "execution_count": 3,
     "metadata": {},
     "output_type": "execute_result"
    }
   ],
   "source": [
    "\"Hello, world!\".split()"
   ]
  },
  {
   "cell_type": "code",
   "execution_count": 4,
   "metadata": {},
   "outputs": [
    {
     "data": {
      "text/plain": [
       "['www', 'bilgi', 'edu', 'tr']"
      ]
     },
     "execution_count": 4,
     "metadata": {},
     "output_type": "execute_result"
    }
   ],
   "source": [
    "university = \"www.bilgi.edu.tr\".split(\".\")\n",
    "university"
   ]
  },
  {
   "cell_type": "code",
   "execution_count": 5,
   "metadata": {},
   "outputs": [
    {
     "data": {
      "text/plain": [
       "'www.bilgi.edu.tr'"
      ]
     },
     "execution_count": 5,
     "metadata": {},
     "output_type": "execute_result"
    }
   ],
   "source": [
    "\".\".join(university)"
   ]
  },
  {
   "cell_type": "markdown",
   "metadata": {},
   "source": [
    "## Data Structures\n",
    "- lists, tuples, sets, and dictionaries\n",
    "\n",
    "#### Lists\n",
    "> Python implements lists as arrays. They have linear search time, which makes\n",
    "them impractical for storing large amounts of searchable data.\n",
    "\n",
    "#### Tuples \n",
    "Tuples are immutable lists.\n",
    "\n",
    "#### Sets\n",
    "They are excellent for membership look-ups and eliminating duplicates\n",
    "> Set items don’t have indexes. Sets can store at most one copy of an item and have sublinear O(log(N)) search\n",
    "time. \n",
    "\n",
    "You can transform list data to a set for faster membership look-ups.\n",
    "\n"
   ]
  },
  {
   "cell_type": "code",
   "execution_count": 6,
   "metadata": {},
   "outputs": [],
   "source": [
    "import timeit\n",
    "bigList = [str(i) for i in range(10000000)]\n",
    "bigSet = set(bigList)"
   ]
  },
  {
   "cell_type": "code",
   "execution_count": 7,
   "metadata": {},
   "outputs": [
    {
     "name": "stdout",
     "output_type": "stream",
     "text": [
      "False\n",
      "Time:  0.15491518799535697\n"
     ]
    }
   ],
   "source": [
    "start_time = timeit.default_timer()\n",
    "print(\"abc\" in bigList) # Takes 0.2 sec\n",
    "print(\"Time: \", timeit.default_timer() - start_time)"
   ]
  },
  {
   "cell_type": "code",
   "execution_count": 8,
   "metadata": {},
   "outputs": [
    {
     "name": "stdout",
     "output_type": "stream",
     "text": [
      "False\n",
      "Time:  0.00014974999794503674\n"
     ]
    }
   ],
   "source": [
    "start_time = timeit.default_timer()\n",
    "print(\"abc\" in bigSet)\n",
    "print(\"Time: \", timeit.default_timer() - start_time)"
   ]
  },
  {
   "cell_type": "markdown",
   "metadata": {},
   "source": [
    "#### Dictionaries\n",
    "Dictionaries map keys to values. Dictionaries have sublinear O(log(N)) search time. They\n",
    "are excellent for key-value look-ups."
   ]
  },
  {
   "cell_type": "code",
   "execution_count": 9,
   "metadata": {},
   "outputs": [
    {
     "data": {
      "text/plain": [
       "{0: 'alpha', 1: 'bravo', 2: 'charlie', 3: 'delta'}"
      ]
     },
     "execution_count": 9,
     "metadata": {},
     "output_type": "execute_result"
    }
   ],
   "source": [
    "seq = [\"alpha\", \"bravo\", \"charlie\", \"delta\"]\n",
    "dict(enumerate(seq))"
   ]
  },
  {
   "cell_type": "code",
   "execution_count": 10,
   "metadata": {},
   "outputs": [
    {
     "data": {
      "text/plain": [
       "{0: 'alpha', 1: 'bravo', 2: 'charlie', 3: 'delta'}"
      ]
     },
     "execution_count": 10,
     "metadata": {},
     "output_type": "execute_result"
    }
   ],
   "source": [
    "kseq = range(4)\n",
    "vseq = [\"alpha\", \"bravo\", \"charlie\", \"delta\"]\n",
    "dict(zip(kseq, vseq))"
   ]
  },
  {
   "cell_type": "markdown",
   "metadata": {},
   "source": [
    "#### Generators \n",
    "Python implements enumerate(seq) and zip(kseq, vseq) (and the good old range(),\n",
    "too) as list generators.\n",
    "\n",
    "> Unlike a real list, a list generator produces the next element in a lazy way, only as needed. Generators facilitate working with large lists and even permit “infinite” lists."
   ]
  },
  {
   "cell_type": "markdown",
   "metadata": {},
   "source": [
    "#### List Comprehension"
   ]
  },
  {
   "cell_type": "code",
   "execution_count": 11,
   "metadata": {},
   "outputs": [
    {
     "data": {
      "text/plain": [
       "['alpha', 'delta']"
      ]
     },
     "execution_count": 11,
     "metadata": {},
     "output_type": "execute_result"
    }
   ],
   "source": [
    "vseq = [\"alpha\", \"bravo\", \"charlie\", \"delta\"]\n",
    "[v for v in vseq if v.endswith('a')]"
   ]
  },
  {
   "cell_type": "code",
   "execution_count": 12,
   "metadata": {},
   "outputs": [
    {
     "data": {
      "text/plain": [
       "[0, 1, 4, 9, 16, 25]"
      ]
     },
     "execution_count": 12,
     "metadata": {},
     "output_type": "execute_result"
    }
   ],
   "source": [
    "[x**2 for x in range(6)]"
   ]
  },
  {
   "cell_type": "markdown",
   "metadata": {},
   "source": [
    "#### Counters\n",
    "A counter is a dictionary-style collection for tallying items in another collection."
   ]
  },
  {
   "cell_type": "code",
   "execution_count": 13,
   "metadata": {},
   "outputs": [
    {
     "data": {
      "text/plain": [
       "Counter({'a': 3, 'canal': 1, 'man': 1, 'panama': 1, 'plan': 1})"
      ]
     },
     "execution_count": 13,
     "metadata": {},
     "output_type": "execute_result"
    }
   ],
   "source": [
    "from collections import Counter\n",
    "phrase = \"a man a plan a canal panama\"\n",
    "cntr = Counter(phrase.split())\n",
    "cntr"
   ]
  },
  {
   "cell_type": "code",
   "execution_count": 14,
   "metadata": {},
   "outputs": [
    {
     "data": {
      "text/plain": [
       "[('a', 3), ('man', 1), ('plan', 1), ('canal', 1), ('panama', 1)]"
      ]
     },
     "execution_count": 14,
     "metadata": {},
     "output_type": "execute_result"
    }
   ],
   "source": [
    "cntr.most_common()"
   ]
  },
  {
   "cell_type": "code",
   "execution_count": 15,
   "metadata": {},
   "outputs": [
    {
     "data": {
      "text/plain": [
       "[('a', 3)]"
      ]
     },
     "execution_count": 15,
     "metadata": {},
     "output_type": "execute_result"
    }
   ],
   "source": [
    "cntr.most_common(1)"
   ]
  },
  {
   "cell_type": "code",
   "execution_count": 16,
   "metadata": {},
   "outputs": [
    {
     "data": {
      "text/plain": [
       "[('a', 3), ('man', 1)]"
      ]
     },
     "execution_count": 16,
     "metadata": {},
     "output_type": "execute_result"
    }
   ],
   "source": [
    "cntr.most_common(2)"
   ]
  },
  {
   "cell_type": "markdown",
   "metadata": {},
   "source": [
    "#### Files\n",
    "> A file is a non-volatile container for long-term data storage.\n",
    "\n",
    "Modes\n",
    "- reading (default mode, denoted as \"r\"), \n",
    "- [over]writing (\"w\"), \n",
    "- or appending (\"a\").\n",
    "\n",
    "Reading\n",
    "- f.read() # Read all data as a string or a binary\n",
    "- f.read(n) # Read the first n bytes as a string or a binary\n",
    "- f.readline() # Read the next line as a string\n",
    "- f.readlines() # Read all lines as a list of strings\n",
    "\n",
    "Writing\n",
    "- f.write(line) # Write a string or a binary\n",
    "- f.writelines(ines) # Write a list of strings"
   ]
  },
  {
   "cell_type": "code",
   "execution_count": 17,
   "metadata": {},
   "outputs": [],
   "source": [
    "# with open(name, mode=\"r\") as f:\n",
    "#    «read the file»"
   ]
  },
  {
   "cell_type": "markdown",
   "metadata": {},
   "source": [
    "#### Reaching the Web\n",
    "The module urllib.request contains functions for downloading data from the web. "
   ]
  },
  {
   "cell_type": "code",
   "execution_count": 18,
   "metadata": {},
   "outputs": [],
   "source": [
    "import urllib.request\n",
    "try:\n",
    "    with urllib.request.urlopen(\"http://www.networksciencelab.com\") as doc:\n",
    "        html = doc.read()\n",
    "        # If reading was successful, the connection is closed automatically\n",
    "except:\n",
    "    print(\"Could not open %s\" % doc, file=sys.err)\n",
    "    # Do not pretend that the document has been read!\n",
    "    # Execute an error handler here"
   ]
  },
  {
   "cell_type": "markdown",
   "metadata": {},
   "source": [
    "#### Regular expressions\n",
    "\n",
    "Regular expressions are a powerful mechanism for searching, splitting, and\n",
    "replacing strings based on pattern matching.\n",
    "\n",
    "__Basic operators__\n",
    " - . Any character except newline\n",
    " - a The character a itself\n",
    " - ab The string ab itself\n",
    " - x|y x or y\n",
    " - \\y Escapes a special character y, such as ^+{}$()[]|\\-?.*\n",
    "\n",
    "__Character classes__\n",
    " - [a-d] One character of: a,b,c,d\n",
    " - [^a-d] One character except: a,b,c,d\n",
    " - \\d One digit\n",
    " - \\D One non-digit\n",
    " - \\s One whitespace\n",
    " - \\S One non-whitespace\n",
    " - \\w One alphanumeric character\n",
    " - \\W One non-alphanumeric character\n",
    " \n",
    "__Quantifierss__\n",
    " - x* Zero or more xs\n",
    " - x+ One or more xs\n",
    " - x? Zero or one x\n",
    " - x{2} Exactly two xs\n",
    " - x{2,5} Between two and five xs\n",
    " \n",
    " \n",
    "__Assertions__\n",
    " - ^ Start of string\n",
    " - \\b Word boundary\n",
    " - \\B Non-word boundary\n",
    " - $ End of string\n",
    " \n",
    "__Groups__\n",
    " - (x) Capturing group\n",
    " - (?:x) Non-capturing group\n",
    " \n",
    "To define a raw string, put the character r immediately in front of the opening quotation mark."
   ]
  },
  {
   "cell_type": "code",
   "execution_count": 19,
   "metadata": {},
   "outputs": [
    {
     "data": {
      "text/plain": [
       "'\\\\n'"
      ]
     },
     "execution_count": 19,
     "metadata": {},
     "output_type": "execute_result"
    }
   ],
   "source": [
    "import re\n",
    "r\"\\n\""
   ]
  },
  {
   "cell_type": "code",
   "execution_count": 20,
   "metadata": {},
   "outputs": [
    {
     "data": {
      "text/plain": [
       "'[-+]?((\\\\d*\\\\.?\\\\d+)|(\\\\d\\\\.))([eE][-+]?\\\\d+)?'"
      ]
     },
     "execution_count": 20,
     "metadata": {},
     "output_type": "execute_result"
    }
   ],
   "source": [
    "r\"\\w[-\\w\\.]*@\\w[-\\w]*(\\.\\w[-\\w]*)+\"\n",
    "#An email address.\n",
    "r\"<TAG\\b[^>]*<(.*?)</TAG>\"\n",
    "#Specific HTML tag with a matching closing tag.\n",
    "r\"[-+]?((\\d*\\.?\\d+)|(\\d\\.))([eE][-+]?\\d+)?\"\n",
    "#A floating point number."
   ]
  },
  {
   "cell_type": "code",
   "execution_count": 21,
   "metadata": {},
   "outputs": [
    {
     "data": {
      "text/plain": [
       "['Hello', '', 'world']"
      ]
     },
     "execution_count": 21,
     "metadata": {},
     "output_type": "execute_result"
    }
   ],
   "source": [
    "re.split(r\"\\W\", \"Hello, world\") # split \\W non-alphanumeric character"
   ]
  },
  {
   "cell_type": "code",
   "execution_count": 22,
   "metadata": {},
   "outputs": [
    {
     "data": {
      "text/plain": [
       "'067'"
      ]
     },
     "execution_count": 22,
     "metadata": {},
     "output_type": "execute_result"
    }
   ],
   "source": [
    "mo = re.match(r\"\\d+\", \"067 Starts with a number 068 - 1\") # find digit \\d pattern\n",
    "mo.group()"
   ]
  },
  {
   "cell_type": "code",
   "execution_count": 23,
   "metadata": {},
   "outputs": [
    {
     "data": {
      "text/plain": [
       "['067', '068', '1']"
      ]
     },
     "execution_count": 23,
     "metadata": {},
     "output_type": "execute_result"
    }
   ],
   "source": [
    "re.findall(r\"\\d+\", \"067 Starts with a number 068 - 1\")"
   ]
  },
  {
   "cell_type": "code",
   "execution_count": 24,
   "metadata": {},
   "outputs": [
    {
     "data": {
      "text/plain": [
       "['tarts', 'with', 'a', 'number']"
      ]
     },
     "execution_count": 24,
     "metadata": {},
     "output_type": "execute_result"
    }
   ],
   "source": [
    "re.findall(r\"[a-z]+\",\"067 Starts with a number 068 - 1\")"
   ]
  },
  {
   "cell_type": "markdown",
   "metadata": {},
   "source": [
    "r\"cab+\" \n",
    " - matches a substring that starts with a \"ca\", followed by at least one \"b\", \n",
    "\n",
    "but r\"c(?:ab)+\" matches a substring\n",
    " - that starts with a \"c\", followed by one or more \"ab\"s."
   ]
  },
  {
   "cell_type": "markdown",
   "metadata": {},
   "source": [
    "#### Pickle\n",
    " - The module pickle implements serialization\n",
    " \n",
    "__Dump an object into a file__\n",
    " - with open(\"myData.pickle\", \"__wb__\") as oFile:\n",
    "  - pickle.dump(object, oFile)\n",
    "\n",
    "__Load the same object back__\n",
    " - with open(\"myData.pickle\", \"__rb__\") as iFile:\n",
    "  - object = pickle.load(iFile)"
   ]
  },
  {
   "cell_type": "markdown",
   "metadata": {},
   "source": [
    "# Your Turn\n",
    "__Word Frequency Counter__\n",
    "> Write a program that downloads a web page requested by the user and reports up to ten most frequently used words.\n",
    "\n",
    "use regular expression r\"\\w+\"."
   ]
  },
  {
   "cell_type": "code",
   "execution_count": 25,
   "metadata": {},
   "outputs": [
    {
     "name": "stdout",
     "output_type": "stream",
     "text": [
      "Enter the URL: http://mathinsight.org/thread/list\n",
      "[('a', 83), ('div', 48), ('class', 47), ('li', 40), ('ym', 39), ('of', 33), ('the', 31), ('script', 28), ('href', 23), ('math', 20)]\n"
     ]
    }
   ],
   "source": [
    "import urllib.request, re\n",
    "from collections import Counter\n",
    "\n",
    "# Talk to the user and the Internet\n",
    "url = input(\"Enter the URL: \")\n",
    "try:\n",
    "    page = urllib.request.urlopen(url)\n",
    "    # Read and partially normalize the page\n",
    "    doc = page.read().decode().lower()\n",
    "\n",
    "    # Split the text into words\n",
    "    words = re.findall(r\"\\w+\", doc)\n",
    "\n",
    "    # Build a counter and report the answer\n",
    "    print(Counter(words).most_common(10))\n",
    "except:\n",
    "    print(\"Cannot open %s\" % url)\n",
    "    quit()\n",
    "\n",
    "\n"
   ]
  },
  {
   "cell_type": "code",
   "execution_count": null,
   "metadata": {},
   "outputs": [],
   "source": []
  }
 ],
 "metadata": {
  "kernelspec": {
   "display_name": "Python 3",
   "language": "python",
   "name": "python3"
  },
  "language_info": {
   "codemirror_mode": {
    "name": "ipython",
    "version": 3
   },
   "file_extension": ".py",
   "mimetype": "text/x-python",
   "name": "python",
   "nbconvert_exporter": "python",
   "pygments_lexer": "ipython3",
   "version": "3.6.4"
  }
 },
 "nbformat": 4,
 "nbformat_minor": 2
}
