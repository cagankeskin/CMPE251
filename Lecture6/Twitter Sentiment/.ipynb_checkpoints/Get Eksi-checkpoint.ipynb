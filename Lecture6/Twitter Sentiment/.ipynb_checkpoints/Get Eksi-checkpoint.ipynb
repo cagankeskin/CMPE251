{
 "cells": [
  {
   "cell_type": "code",
   "execution_count": 3,
   "metadata": {},
   "outputs": [
    {
     "name": "stdout",
     "output_type": "stream",
     "text": [
      "  AcademicYear Course Code                             Course Name  \\\n",
      "0    2018-2019    CMPE 251  Data Science and Social Media Analysis   \n",
      "\n",
      "  Year of Study Offered semester  ECTS Theory+Practice (Hour)  \n",
      "0       Year II        Fall Only     6                    3+1  \n"
     ]
    }
   ],
   "source": [
    "import pandas as pd\n",
    "\n",
    "tables = pd.read_html(\"https://ects.bilgi.edu.tr/Course/Detail?catalog_courseId=8280508\")\n",
    "\n",
    "print(tables[0])"
   ]
  },
  {
   "cell_type": "markdown",
   "metadata": {},
   "source": [
    "# Get Eksi"
   ]
  },
  {
   "cell_type": "code",
   "execution_count": null,
   "metadata": {},
   "outputs": [],
   "source": []
  },
  {
   "cell_type": "code",
   "execution_count": 1,
   "metadata": {},
   "outputs": [
    {
     "name": "stdout",
     "output_type": "stream",
     "text": [
      "Entry 1: bu cografya da dogmus olduguma sevinmem için bir kaç nedenden biri\n",
      "Entry 2: o olmasaydi biz, \"biz\" olur muyduk bilemiyorum...\n",
      "Entry 3: guzel insan keza bu kadarı yeter.\n",
      "Entry 4: (bkz: 10 kasim)\n",
      "Entry 5: sarı saçlı mavi gözlü yakışıklı, güzel elli, prezentabl geyikleri arasında kayanayıp gitmeye başlamış, büyük bir lider.kara kaşlı kara gözlü, kambur olsa idi, bu kadar çok saygı duyulmayacak mıydı?yalvarırım şu sarı saçlıyı, şu mavi gözlüyü, rakı-sigara-leblebi, tarlada karga kovalama edebiyatını bi kenara bırakın.ata, alemci akşamcıların jön dostu hareketli korkuluk değildir.maalesef yaptıklarından çok, düşünceleri ile sonsuza dek yaşamayı bilmiş birisidir.çelik erişçi yaklaşımları ile ancak yeni captainhowdyler yaratırsınız.\n",
      "Entry 6: konuyla ilgili olarak aziz nesin'in bir masal ve hikayesini öneriyorumisimlerini de vermiyorum ki ararken okuyunuz.\n",
      "Entry 7: dahi insan. ornek alınası kişi. sadece bir kez gormek bile yeterdi.. iyikio bıraktığı ülkeyi bugun görmüyor. yada görüyorsada gittiğiyerden,nasıl gelipte şunları tekrar adam etsem diye düşünüyodur...\n",
      "Entry 8: yuce onder,buyuk insanturkiye cumhuriyeti'nin kurucusu\n",
      "Entry 9: daglarda tek tek atesler yaniyordu.ve yildizlar oyle isiltili oyle ferahtilar ki$ayak kalpakli adam nasil ve ne zaman gelecegini bilmedenguzel, rahat gunlere inaniyorduve gulen biyiklariyla duruyordu ki mavzerinin yaninda,birden bire bes adim saginda onu gordu.pasalar onun arkasindaydilar.o, saati sordu.pasalar 'üç' dediler.sari$in bir kurda benziyordu.ve mavi gozleri cakmak cakmakti. yurudu ucurumun kenarina kadar,egildi durdu. biraksalarince uzun bacaklari ustunde yaylanarakve karanlikta akan bir yildiz gibi kayarakkocatepe'den afyon ovasi'na atlayacakti.nazım hikmetben daha söz bulamıyorum...\n",
      "Entry 10: mukemmel bi kumandan mukemmel bi liderden ote bi insan...abartiliyo diyip unutturulmaya calisiliyo.ama asla unutmuyacagimiz tek insan o. 10 sene daha yasasaydi simdi hersey cok farkli olurdu.\n",
      "Entry 11: bu cografya da dogmus olduguma sevinmem için bir kaç nedenden biri\n",
      "Entry 12: o olmasaydi biz, \"biz\" olur muyduk bilemiyorum...\n",
      "Entry 13: guzel insan keza bu kadarı yeter.\n",
      "Entry 14: (bkz: 10 kasim)\n",
      "Entry 15: sarı saçlı mavi gözlü yakışıklı, güzel elli, prezentabl geyikleri arasında kayanayıp gitmeye başlamış, büyük bir lider.kara kaşlı kara gözlü, kambur olsa idi, bu kadar çok saygı duyulmayacak mıydı?yalvarırım şu sarı saçlıyı, şu mavi gözlüyü, rakı-sigara-leblebi, tarlada karga kovalama edebiyatını bi kenara bırakın.ata, alemci akşamcıların jön dostu hareketli korkuluk değildir.maalesef yaptıklarından çok, düşünceleri ile sonsuza dek yaşamayı bilmiş birisidir.çelik erişçi yaklaşımları ile ancak yeni captainhowdyler yaratırsınız.\n",
      "Entry 16: konuyla ilgili olarak aziz nesin'in bir masal ve hikayesini öneriyorumisimlerini de vermiyorum ki ararken okuyunuz.\n",
      "Entry 17: dahi insan. ornek alınası kişi. sadece bir kez gormek bile yeterdi.. iyikio bıraktığı ülkeyi bugun görmüyor. yada görüyorsada gittiğiyerden,nasıl gelipte şunları tekrar adam etsem diye düşünüyodur...\n",
      "Entry 18: yuce onder,buyuk insanturkiye cumhuriyeti'nin kurucusu\n",
      "Entry 19: daglarda tek tek atesler yaniyordu.ve yildizlar oyle isiltili oyle ferahtilar ki$ayak kalpakli adam nasil ve ne zaman gelecegini bilmedenguzel, rahat gunlere inaniyorduve gulen biyiklariyla duruyordu ki mavzerinin yaninda,birden bire bes adim saginda onu gordu.pasalar onun arkasindaydilar.o, saati sordu.pasalar 'üç' dediler.sari$in bir kurda benziyordu.ve mavi gozleri cakmak cakmakti. yurudu ucurumun kenarina kadar,egildi durdu. biraksalarince uzun bacaklari ustunde yaylanarakve karanlikta akan bir yildiz gibi kayarakkocatepe'den afyon ovasi'na atlayacakti.nazım hikmetben daha söz bulamıyorum...\n",
      "Entry 20: mukemmel bi kumandan mukemmel bi liderden ote bi insan...abartiliyo diyip unutturulmaya calisiliyo.ama asla unutmuyacagimiz tek insan o. 10 sene daha yasasaydi simdi hersey cok farkli olurdu.\n"
     ]
    }
   ],
   "source": [
    "from lxml import html\n",
    "from requests import get, RequestException\n",
    "from user_agent import generate_user_agent\n",
    "\n",
    "url = 'https://eksisozluk.com/mustafa-kemal-ataturk--34712?p=2'\n",
    "\n",
    "ua = generate_user_agent(device_type=\"desktop\", os=('linux', 'mac'))\n",
    "\n",
    "def get_content(url):\n",
    "    try:\n",
    "        res = get(url, headers={'User-Agent': ua})\n",
    "        status = res.status_code\n",
    "        if status == 200:\n",
    "            return res.content\n",
    "        else:\n",
    "            print(status)\n",
    "    except RequestException as ex:\n",
    "        print('Request Error!')\n",
    "        print(ex)\n",
    "    except KeyboardInterrupt:\n",
    "        print('The request is interrupted!')\n",
    "\n",
    "def get_entries(url, num_fetch):\n",
    "    entries = []\n",
    "    page = 1\n",
    "\n",
    "    while len(entries) < num_fetch:\n",
    "        html_element = html.document_fromstring(get_content(url + '?p=' + str(page)))\n",
    "        entries.extend(entry.text_content().strip() for entry in html_element.xpath('.//div[@class=\"content\"]') if len(entries) < num_fetch)\n",
    "        page += 1\n",
    "\n",
    "    return entries\n",
    "\n",
    "entries = get_entries(url, 20)\n",
    "for i, entry in enumerate(entries):\n",
    "    print('Entry %d: %s' % (i+1, entry))"
   ]
  },
  {
   "cell_type": "code",
   "execution_count": null,
   "metadata": {},
   "outputs": [],
   "source": [
    "#!pip install user_agent"
   ]
  },
  {
   "cell_type": "code",
   "execution_count": null,
   "metadata": {},
   "outputs": [],
   "source": []
  }
 ],
 "metadata": {
  "kernelspec": {
   "display_name": "Python 3",
   "language": "python",
   "name": "python3"
  },
  "language_info": {
   "codemirror_mode": {
    "name": "ipython",
    "version": 3
   },
   "file_extension": ".py",
   "mimetype": "text/x-python",
   "name": "python",
   "nbconvert_exporter": "python",
   "pygments_lexer": "ipython3",
   "version": "3.6.4"
  }
 },
 "nbformat": 4,
 "nbformat_minor": 2
}
