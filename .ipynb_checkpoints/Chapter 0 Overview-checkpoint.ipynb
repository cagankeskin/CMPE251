{
 "cells": [
  {
   "cell_type": "markdown",
   "metadata": {},
   "source": [
    "# CMPE 251 : Data Science and Social Media Analysis\n",
    "\n",
    "__Note__: \n",
    " - E3-305 Anaconda Navigator kurulumu gerekli Saygun beye haber ver.\n",
    "\n",
    "\n",
    "\n",
    "Data Science Essentials in Python\n",
    "Collect → Organize → Explore → Predict → Value\n",
    "Dmitry Zinoviev, 2016\n",
    "\n",
    "\n",
    "\n",
    "## This book covers\n",
    "- data acquisition, \n",
    "- cleaning, \n",
    "- storing, \n",
    "- retrieval, \n",
    "- transformation,\n",
    "- visualization, \n",
    "- elements of advanced data analysis (network analysis), \n",
    "- statistics,\n",
    "- and machine learning.,\n",
    "\n",
    "## Code in Python\n",
    "\n",
    "Download\n",
    "- https://www.anaconda.com/distribution/ "
   ]
  },
  {
   "cell_type": "code",
   "execution_count": null,
   "metadata": {},
   "outputs": [],
   "source": []
  }
 ],
 "metadata": {
  "kernelspec": {
   "display_name": "Python 3",
   "language": "python",
   "name": "python3"
  },
  "language_info": {
   "codemirror_mode": {
    "name": "ipython",
    "version": 3
   },
   "file_extension": ".py",
   "mimetype": "text/x-python",
   "name": "python",
   "nbconvert_exporter": "python",
   "pygments_lexer": "ipython3",
   "version": "3.6.5"
  }
 },
 "nbformat": 4,
 "nbformat_minor": 2
}
