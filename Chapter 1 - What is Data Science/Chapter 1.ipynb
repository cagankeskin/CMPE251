{
 "cells": [
  {
   "cell_type": "markdown",
   "metadata": {},
   "source": [
    "# What is Data Science\n",
    "\n",
    "> Data science is the discipline of the extraction of knowledge from data.\n",
    "\n",
    "\n",
    "#### Computer science \n",
    " - data structures and algorithms,\n",
    " - visualization, big data support, and general programming\n",
    " \n",
    "#### Statistics \n",
    "-  regressions and inference, \n",
    "\n",
    "#### Domain knowledge \n",
    "- for asking questions and interpreting results"
   ]
  },
  {
   "cell_type": "markdown",
   "metadata": {},
   "source": [
    "\n",
    "## Scientific discovery \n",
    "> Scientific discovery starts with the __question__ to be answered\n",
    " \n",
    "#### Descriptive Analysis: \n",
    " - Describe your data (reporting its aggregate measures etc)\n",
    "\n",
    "#### Exploratory Analysis: \n",
    " - Explore new relationships\n",
    " \n",
    "\n",
    "#### Predictive Analysis:\n",
    " - A predictive analyst learns from the past to predict the future\n",
    " - statistics-based inferential analysis\n",
    " \n",
    " \n",
    "> You understand the past (__analysis__) to predict the future (__analytics__)\n",
    "\n",
    "\n",
    "## Ideal data set \n",
    "It may not exist at all or be hard or infeasible to obtain.\n",
    "\n",
    "> However, your analysis is only as good as the data you use.\n",
    "\n",
    "Cruel World\n",
    "> In this imperfect world, there is no perfect data.\n",
    "\n",
    "Dirty Data\n",
    "- missing values,\n",
    "- outliers, and other “non-standard” items\n",
    "  - Ex: birth dates in the future, negative ages and weights\n",
    "  \n",
    "  \n",
    "## Modern Oracles\n",
    "> Modern oracles, today,  are the properly trained data models that can learn from the past and predict the future.\n",
    " "
   ]
  },
  {
   "cell_type": "markdown",
   "metadata": {},
   "source": [
    "## Data acquisition\n",
    "\n",
    "![representation.png](https://www.azquotes.com/picture-quotes/quote-solving-a-problem-simply-means-representing-it-so-as-to-make-the-solution-transparent-herbert-simon-131-46-84.jpg)\n",
    "\n",
    "\n",
    "Data acquisition is __extracting the data from the variety of sources__, and\n",
    "converting it into __representations suitable__ for further processing.\n",
    "\n",
    "> \"Solving a problem simply means representing it so as to make the solution transparent.\" - Herbert Simon\n",
    "\n",
    "![representation.png](representation.png)"
   ]
  },
  {
   "cell_type": "markdown",
   "metadata": {},
   "source": [
    "## Report Structure\n",
    "\n",
    "Data scientists submit a report to the data sponsor, the customer\n",
    "\n",
    " - Abstract (a brief and accessible description of the project)\n",
    " - Introduction\n",
    " - Methods that were used for data acquisition and processing\n",
    " - Results that were obtained (do not include intermediate and insignificant results in this section; rather, put them into an appendix)\n",
    " - Conclusion\n",
    " - Appendix"
   ]
  },
  {
   "cell_type": "code",
   "execution_count": null,
   "metadata": {},
   "outputs": [],
   "source": []
  }
 ],
 "metadata": {
  "kernelspec": {
   "display_name": "Python 3",
   "language": "python",
   "name": "python3"
  },
  "language_info": {
   "codemirror_mode": {
    "name": "ipython",
    "version": 3
   },
   "file_extension": ".py",
   "mimetype": "text/x-python",
   "name": "python",
   "nbconvert_exporter": "python",
   "pygments_lexer": "ipython3",
   "version": "3.6.5"
  }
 },
 "nbformat": 4,
 "nbformat_minor": 2
}
