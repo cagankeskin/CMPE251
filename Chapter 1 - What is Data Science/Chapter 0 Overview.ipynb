{
 "cells": [
  {
   "cell_type": "markdown",
   "metadata": {},
   "source": [
    "# CMPE 251 : Data Science and Social Media Analysis\n",
    "\n",
    "> Ölçmek bilmektir, ölçülebileni ölçün, ölçülemeyeni ölçülebilir hale getirin. - Galileo\n",
    "\n",
    "__Note__: \n",
    " - E3-305 Anaconda Navigator kurulumu gerekli Saygun beye haber ver.\n",
    "\n",
    "\n",
    "Download Anaconda\n",
    "- https://www.anaconda.com/distribution/ \n",
    "\n",
    "\n",
    "\n",
    "\n",
    "## Course Book\n",
    "Data Science Essentials in Python\n",
    "Collect → Organize → Explore → Predict → Value\n",
    "Dmitry Zinoviev, 2016\n",
    "- https://pragprog.com/book/dzpyds/data-science-essentials-in-python\n",
    "\n",
    "\n",
    "### This book covers\n",
    "\n",
    "- data acquisition, \n",
    "- cleaning, \n",
    "- storing, \n",
    "- retrieval, \n",
    "- transformation,\n",
    "- visualization, \n",
    "- elements of advanced data analysis (network analysis), \n",
    "- statistics,\n",
    "- and machine learning.,\n",
    "\n",
    "## Source Code\n",
    "- https://pragprog.com/titles/dzpyds/source_code"
   ]
  },
  {
   "cell_type": "code",
   "execution_count": null,
   "metadata": {},
   "outputs": [],
   "source": []
  }
 ],
 "metadata": {
  "kernelspec": {
   "display_name": "Python 3",
   "language": "python",
   "name": "python3"
  },
  "language_info": {
   "codemirror_mode": {
    "name": "ipython",
    "version": 3
   },
   "file_extension": ".py",
   "mimetype": "text/x-python",
   "name": "python",
   "nbconvert_exporter": "python",
   "pygments_lexer": "ipython3",
   "version": "3.6.5"
  }
 },
 "nbformat": 4,
 "nbformat_minor": 2
}
